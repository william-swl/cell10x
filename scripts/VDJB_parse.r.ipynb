{
 "cells": [
  {
   "cell_type": "markdown",
   "id": "1c4a2e5e-1536-4aee-8357-f42fb72004fc",
   "metadata": {
    "tags": []
   },
   "source": [
    "baizer::pkglib(tidyverse, Biostrings, baizer, genogamesh, yaml)"
   ]
  },
  {
   "cell_type": "markdown",
   "id": "41b01692-1ae4-4853-9ef7-5e877d243c63",
   "metadata": {
    "tags": []
   },
   "source": [
    "sample <- snakemake@wildcards[['sample']]\n",
    "\n",
    "# replace default configs with sample configs\n",
    "config <- replace_item(snakemake@config, snakemake@config[[sample]])"
   ]
  },
  {
   "cell_type": "markdown",
   "id": "360be4e9-7bd3-4933-9d9c-16b94979e0fd",
   "metadata": {},
   "source": [
    "Pcount <- snakemake@input[['VDJB_count_dir']]\n",
    "Pigblast_tsv <- snakemake@input[['VDJB_igblast_tsv']]\n",
    "Pigblast_txt <- snakemake@input[['VDJB_igblast_txt']]\n",
    "Pchangeo <- snakemake@input[['VDJB_changeo']]\n",
    "\n",
    "Pcsv <- snakemake@output[['VDJB_csv']]\n",
    "Pstat <- snakemake@output[['VDJB_stat']]"
   ]
  },
  {
   "cell_type": "markdown",
   "id": "d74c9a2e-f2dc-4c84-8ae2-5cd4c1ddb352",
   "metadata": {
    "tags": []
   },
   "source": [
    "# read from cellranger\n",
    "TBcr_airr <- read_tsv(str_glue('{Pcount}/airr_rearrangement.tsv'))\n",
    "TBcr_anno <- read_csv(str_glue('{Pcount}/all_contig_annotations.csv'))\n",
    "\n",
    "# read from igblast\n",
    "TBigblast_tsv <- read_tsv(Pigblast_tsv)\n",
    "TBshm <- parse_IgBlast_shm(Pigblast_txt)\n",
    "\n",
    "# read from changeo\n",
    "TBchangeo <- read_tsv(Pchangeo)"
   ]
  }
 ],
 "metadata": {
  "kernelspec": {
   "display_name": "R_ab",
   "language": "R",
   "name": "r_ab"
  },
  "language_info": {
   "codemirror_mode": "r",
   "file_extension": ".r",
   "mimetype": "text/x-r-source",
   "name": "R",
   "pygments_lexer": "r",
   "version": "4.2.3"
  }
 },
 "nbformat": 4,
 "nbformat_minor": 5
}
