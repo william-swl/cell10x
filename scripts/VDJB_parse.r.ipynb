{
 "cells": [
  {
   "cell_type": "code",
   "execution_count": null,
   "id": "b660fd35-2279-4485-b3e7-90e253d70770",
   "metadata": {},
   "outputs": [],
   "source": [
    "baizer::pkglib(tidyverse, Biostrings, Peptides, baizer, genogamesh, yaml)"
   ]
  },
  {
   "cell_type": "code",
   "execution_count": null,
   "id": "bfa1e0d7-c66c-4f3d-897c-198292c61b2d",
   "metadata": {},
   "outputs": [],
   "source": [
    "sample <- snakemake@wildcards[['sample']]\n",
    "\n",
    "# replace default configs with sample configs\n",
    "config <- replace_item(snakemake@config, snakemake@config[[sample]])\n",
    "ab_scheme <- str_to_lower(config[['ext_numbering']])"
   ]
  },
  {
   "cell_type": "code",
   "execution_count": null,
   "id": "314c089d-7f12-4984-a432-d72f79ca6c31",
   "metadata": {},
   "outputs": [],
   "source": [
    "Pcount <- snakemake@input[['VDJB_count_dir']]\n",
    "Pigblast_tsv <- snakemake@input[['VDJB_igblast_tsv']]\n",
    "Pigblast_txt <- snakemake@input[['VDJB_igblast_txt']]\n",
    "Pchangeo <- snakemake@input[['VDJB_changeo']]\n",
    "Pchangeo_fail <- snakemake@input[['VDJB_changeo_fail']]\n",
    "Panarci_H <- snakemake@input[['VDJB_anarci_H']]\n",
    "Panarci_KL <- snakemake@input[['VDJB_anarci_KL']]\n",
    "\n",
    "Pcsv <- snakemake@output[['VDJB_csv']]\n",
    "Pstat <- snakemake@output[['VDJB_stat']]\n",
    "Pstat_dir <- snakemake@output[['stat_dir']]"
   ]
  },
  {
   "cell_type": "code",
   "execution_count": null,
   "id": "2680992d-ba9a-48a2-a234-b94ccec9c63b",
   "metadata": {},
   "outputs": [],
   "source": [
    "# read from igblast\n",
    "TBigblast_tsv <- read_tsv(Pigblast_tsv)\n",
    "TBshm <- parse_IgBlast_shm(Pigblast_txt)\n",
    "\n",
    "# read from cellranger\n",
    "TBcr_airr <- read_tsv(str_glue('{Pcount}/airr_rearrangement.tsv'))\n",
    "TBcr_anno <- read_csv(str_glue('{Pcount}/all_contig_annotations.csv'))\n",
    "\n",
    "# read from changeo\n",
    "TBchangeo <- bind_rows(read_tsv(Pchangeo), read_tsv(Pchangeo_fail))\n",
    "\n",
    "# read from anarci\n",
    "TBanarci_H <- read_csv(Panarci_H)\n",
    "TBanarci_L <- read_csv(Panarci_KL)\n",
    "TBanarci_seq <- bind_rows(\n",
    "    parse_ANARCI_aaseq(TBanarci_H, chain='H', scheme=ab_scheme),\n",
    "    parse_ANARCI_aaseq(TBanarci_L, chain='L', scheme=ab_scheme)\n",
    ") %>% rename_at(str_subset(colnames(.), 'cdr\\\\d_aa'), ~str_c(ab_scheme, .x, sep='_'))"
   ]
  },
  {
   "cell_type": "code",
   "execution_count": null,
   "id": "18e8efe9-5a6c-4549-a4cd-16a79a158bee",
   "metadata": {},
   "outputs": [],
   "source": [
    "# main and fine x_call\n",
    "gene_cols <- str_subset(colnames(TBigblast_tsv), '_call$')\n",
    "\n",
    "TBigblast_tsv <- TBigblast_tsv %>%\n",
    "    # extract first fine gene to _fine cols\n",
    "    mutate(across(all_of(gene_cols), ~reg_match(.x, '[^,]+'), .names='{.col}_fine')) %>%\n",
    "    # extract first main gene \n",
    "    mutate(across(all_of(gene_cols), ~reg_match(.x, '[^\\\\*]+'))) %>%\n",
    "    # rename\n",
    "    rename_at(c(gene_cols, str_c(gene_cols, '_fine')), \n",
    "              ~str_replace_all(.x, '_call', '_gene'))\n",
    "\n",
    "# cdr length, the length of NA cdr will be NA\n",
    "cdr_aa_cols <- str_subset(colnames(TBigblast_tsv), 'cdr\\\\d_aa')\n",
    "TBigblast_tsv <- TBigblast_tsv %>%\n",
    "    mutate(across(all_of(cdr_aa_cols), ~nchar(.x), .names='{.col}_len'))\n",
    "\n",
    "# rename shm columns\n",
    "\n",
    "TBshm <- TBshm %>% rename_at(-1, ~str_to_lower(.x) %>% str_c('_mismatch_nt')) %>%\n",
    "    mutate(v_domain_shm_nt = \n",
    "           sum(c(v_mismatch_nt, d_mismatch_nt, j_mismatch_nt), na.rm=TRUE), \n",
    "           .by=sequence_id)\n",
    "\n",
    "# cdr3 aa feature, the feature of NA cdr3 will be NA\n",
    "TBaafeature <- TBigblast_tsv %>% select(sequence_id, cdr3_aa) %>% mutate(\n",
    "    cdr3_charge=ifelse(!is.na(cdr3_aa), charge(seq=cdr3_aa, pH=7.4, pKscale='EMBOSS'), NA),\n",
    "    cdr3_hydrophobicity=map_dbl(cdr3_aa, ~ifelse(!is.na(.x), hydrophobicity(seq=.x, scale='Eisenberg'), NA)),\n",
    "    cdr3_boman=map_dbl(cdr3_aa, ~ifelse(!is.na(.x), boman(seq=.x), NA)),\n",
    "    # if nchar of cdr3 <= 2, instaIndex will throw an error\n",
    "    cdr3_instaindex = map_dbl(cdr3_aa, ~ifelse(!is.na(.x) & nchar(.x) > 2, instaIndex(seq=.x), NA))\n",
    ") %>% select(-cdr3_aa)"
   ]
  },
  {
   "cell_type": "code",
   "execution_count": null,
   "id": "3616ab92-47eb-4b36-b594-d9c9f844009f",
   "metadata": {},
   "outputs": [],
   "source": [
    "##################################\n",
    "### select cols\n",
    "##################################"
   ]
  },
  {
   "cell_type": "code",
   "execution_count": null,
   "id": "75fb680f-fe08-4be3-999e-125bbdb2227e",
   "metadata": {},
   "outputs": [],
   "source": [
    "# columns from igblast\n",
    "TBigblast_sel <- TBigblast_tsv %>% select(\n",
    "                    sequence_id, productive_igblast=productive, chain=locus, \n",
    "                    v_gene, d_gene, j_gene, v_gene_fine, d_gene_fine, j_gene_fine, \n",
    "                    cdr1_aa_len, cdr2_aa_len, cdr3_aa_len,\n",
    "                    cdr1_nt=cdr1, cdr1_aa, cdr2_nt=cdr2, cdr2_aa, cdr3_nt=cdr3, cdr3_aa, np1_nt=np1, np2_nt=np2,\n",
    "                    fwr1_nt=fwr1, fwr1_aa, fwr2_nt=fwr2, fwr2_aa, fwr3_nt=fwr3, fwr3_aa, fwr4_nt=fwr4, fwr4_aa,\n",
    "                    v_start=v_sequence_start, v_end=v_sequence_end, \n",
    "                    d_start=d_sequence_start, d_end=d_sequence_end,\n",
    "                    j_start=j_sequence_start, j_end=j_sequence_end,\n",
    "                    seq_nt=sequence, seq_align_nt=sequence_alignment\n",
    "        ) \n",
    "\n",
    "# columns from shm\n",
    "TBshm_sel <- TBshm %>%\n",
    "    relocate(sequence_id, v_domain_shm_nt, contains('cdr'), contains('fwr'))\n",
    "\n",
    "# columns from cellranger annotation\n",
    "TBcr_annot_sel <- TBcr_anno %>% select(cell=barcode, sequence_id=contig_id, \n",
    "                                       productive_cellranger=productive, clone_cellranger=raw_clonotype_id, reads, umis, c_gene)\n",
    "\n",
    "# columns from cellranger airr\n",
    "TBcr_airr_sel <- TBcr_airr %>% select(sequence_id, seq_aa=sequence_aa)\n",
    "\n",
    "# columns from changeo\n",
    "TBchangeo_sel <- TBchangeo %>% select(sequence_id, clone_changeo=clone_id)\n",
    "\n",
    "# columns from anarci\n",
    "TBanarci_sel <- TBanarci_seq"
   ]
  },
  {
   "cell_type": "code",
   "execution_count": null,
   "id": "e6d427e2-ca3c-4380-86f5-478f076b7199",
   "metadata": {},
   "outputs": [],
   "source": [
    "##################################\n",
    "### join\n",
    "##################################"
   ]
  },
  {
   "cell_type": "code",
   "execution_count": null,
   "id": "c3b73664-81d6-47b4-bb05-dfebd3388ea5",
   "metadata": {},
   "outputs": [],
   "source": [
    "TBjoin <- TBigblast_sel %>% left_join(TBshm_sel, by='sequence_id') %>%\n",
    "    relocate(all_of(colnames(TBshm_sel)[-1]), .after=cdr3_aa_len)\n",
    "\n",
    "TBjoin <- TBjoin %>% left_join(TBcr_annot_sel, by='sequence_id') %>%\n",
    "    relocate(cell, productive_cellranger, .after=sequence_id) %>%\n",
    "    relocate(clone_cellranger, reads, umis, c_gene, .after=chain)\n",
    "\n",
    "TBjoin <- TBjoin %>% left_join(TBcr_airr_sel, by='sequence_id') %>%\n",
    "    relocate(seq_aa, .after=seq_nt)\n",
    "\n",
    "TBjoin <- TBjoin %>% left_join(TBchangeo_sel, by='sequence_id') %>%\n",
    "     relocate(clone_changeo, .after=clone_cellranger)\n",
    "\n",
    "TBjoin <- TBjoin %>% left_join(TBanarci_sel, by='sequence_id') %>%\n",
    "    relocate(matches('cdr\\\\d_aa'), .after=fwr4_aa) %>%\n",
    "    relocate(seq_align_aa, .after=seq_align_nt)\n",
    "\n",
    "TBjoin <- TBjoin %>% left_join(TBaafeature, by='sequence_id') %>%\n",
    "    relocate(all_of(colnames(TBshm_sel)[-1]), .after=cdr3_aa)"
   ]
  },
  {
   "cell_type": "code",
   "execution_count": null,
   "id": "016be5cc-f4e9-4bee-a168-11236cabdd52",
   "metadata": {},
   "outputs": [],
   "source": [
    "# calculate shm ratio\n",
    "TBjoin <- TBjoin %>% mutate(v_domain_shm_ratio = round(v_domain_shm_nt/nchar(seq_align_nt), 4), \n",
    "                  .after=v_domain_shm_nt)"
   ]
  },
  {
   "cell_type": "code",
   "execution_count": null,
   "id": "51de4d35-9443-4b6b-9771-281e965c550a",
   "metadata": {},
   "outputs": [],
   "source": [
    "##################################\n",
    "### widen for HL\n",
    "##################################"
   ]
  },
  {
   "cell_type": "code",
   "execution_count": null,
   "id": "22b553ee-45f1-48ad-a9a6-88043327eef6",
   "metadata": {},
   "outputs": [],
   "source": [
    "TBjoin <- TBjoin %>% mutate(HL=case_when(chain=='IGH' ~ 'H', chain=='IGL' ~ 'L', chain=='IGK' ~ 'L')) %>%\n",
    "    mutate(HL=factor(HL, c('H', 'L'))) %>% \n",
    "    # remove the contigs unknown\n",
    "    filter(!is.na(HL))"
   ]
  },
  {
   "cell_type": "code",
   "execution_count": null,
   "id": "45c268d8-3b7f-4083-b530-5fb16f89669c",
   "metadata": {},
   "outputs": [],
   "source": [
    "# contig numbers of a cell, and whether there is only an unique H or L\n",
    "TBunique <- TBjoin %>% group_by(cell, HL) %>% summarise(contig_num = n(), unique = n() == 1) %>%\n",
    "    ungroup"
   ]
  },
  {
   "cell_type": "code",
   "execution_count": null,
   "id": "9a256167-84f8-435e-bee5-3b97a3d78c3f",
   "metadata": {},
   "outputs": [],
   "source": [
    "# for multi-contigs, only keep the first one with most umis\n",
    "TBjoin <- TBjoin %>% group_by(cell, HL) %>% arrange(desc(umis)) %>% dplyr::slice(1) %>% ungroup %>%\n",
    "    arrange(HL, cell, sequence_id)"
   ]
  },
  {
   "cell_type": "code",
   "execution_count": null,
   "id": "1bb6f0b6-d033-44f4-9e59-d41db748a89b",
   "metadata": {},
   "outputs": [],
   "source": [
    "TBjoin <- TBjoin %>% left_join(TBunique, by=c('cell', 'HL')) %>%\n",
    "    relocate(contig_num, unique, .after=umis)"
   ]
  },
  {
   "cell_type": "code",
   "execution_count": null,
   "id": "89753233-cac6-45c4-ad5a-6fcd87baaf56",
   "metadata": {},
   "outputs": [],
   "source": [
    "# pivot\n",
    "keep_col <- c('cell', 'HL')\n",
    "TBwider <- TBjoin %>% pivot_wider(names_from='HL', values_from=-all_of(keep_col))"
   ]
  },
  {
   "cell_type": "code",
   "execution_count": null,
   "id": "d70baaa3-19fb-4d65-b9c1-51acbe7e49ac",
   "metadata": {},
   "outputs": [],
   "source": [
    "# unique, productive, clone_cellranger, class\n",
    "TBwider <- TBwider %>% \n",
    "    mutate(productive_igblast=productive_igblast_H & productive_igblast_L,\n",
    "           productive_cellranger=productive_cellranger_H & productive_cellranger_H,\n",
    "           unique = unique_H & unique_L, \n",
    "           class=str_sub(c_gene_H, 1, 4) %>% str_replace('GH', 'g'),\n",
    "           clone_cellranger = case_when(!is.na(clone_cellranger_H) ~ clone_cellranger_H,\n",
    "                                        !is.na(clone_cellranger_L) ~ clone_cellranger_L),\n",
    "           clone_changeo=str_glue('{clone_changeo_H}-{clone_changeo_L}'),\n",
    "           .after=cell\n",
    "          )\n",
    "# if single contig\n",
    "TBwider <- TBwider %>% mutate(\n",
    "    productive_igblast=ifelse(is.na(seq_nt_H) | is.na(seq_nt_L), FALSE, productive_igblast),\n",
    "    productive_cellranger=ifelse(is.na(seq_nt_H) | is.na(seq_nt_L), FALSE, productive_cellranger),\n",
    "    unique=ifelse(is.na(seq_nt_H) | is.na(seq_nt_L), FALSE, unique)\n",
    ")"
   ]
  },
  {
   "cell_type": "code",
   "execution_count": null,
   "id": "73c97853-c9ca-4522-aeec-d7e4ca9e5e86",
   "metadata": {},
   "outputs": [],
   "source": [
    "# stat\n",
    "Lstat <- list()"
   ]
  },
  {
   "cell_type": "code",
   "execution_count": null,
   "id": "802454b2-9ed3-4676-be65-5a5917c092e8",
   "metadata": {},
   "outputs": [],
   "source": [
    "# write\n",
    "write_excel_csv(TBwider, Pcsv)\n",
    "write_yaml(Lstat, file=Pstat)"
   ]
  },
  {
   "cell_type": "code",
   "execution_count": null,
   "id": "cc19dcbb-6459-443d-91cc-ce531e838ac1",
   "metadata": {},
   "outputs": [],
   "source": [
    "dir.create(Pstat_dir, recursive = TRUE)\n",
    "file.copy(Pcsv, str_c(Pstat_dir, '/', basename(Pcsv)), overwrite=TRUE)\n",
    "file.copy(Pstat, str_c(Pstat_dir, '/', basename(Pstat)), overwrite=TRUE)"
   ]
  }
 ],
 "metadata": {
  "kernelspec": {
   "display_name": "R_ab",
   "language": "R",
   "name": "r_ab"
  },
  "language_info": {
   "codemirror_mode": "r",
   "file_extension": ".r",
   "mimetype": "text/x-r-source",
   "name": "R",
   "pygments_lexer": "r",
   "version": "4.2.3"
  }
 },
 "nbformat": 4,
 "nbformat_minor": 5
}
