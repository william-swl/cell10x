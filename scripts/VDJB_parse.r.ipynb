{
 "cells": [
  {
   "cell_type": "code",
   "execution_count": null,
   "id": "21f8cdca-3185-467c-bb15-2cedc3ae9a5d",
   "metadata": {
    "tags": []
   },
   "outputs": [],
   "source": [
    "R.home()"
   ]
  },
  {
   "cell_type": "code",
   "execution_count": null,
   "id": "2e89181a-094a-49fa-b4bb-b289ea409ee9",
   "metadata": {
    "scrolled": true
   },
   "outputs": [],
   "source": [
    "baizer::pkglib(tidyverse, Biostrings, Peptides, baizer, yaml)"
   ]
  },
  {
   "cell_type": "code",
   "execution_count": null,
   "id": "a045a311-cb04-452d-9b24-e9f633c85b8e",
   "metadata": {},
   "outputs": [],
   "source": [
    "sample <- snakemake@wildcards[['sample']]\n",
    "\n",
    "# replace default configs with sample configs\n",
    "config <- replace_item(snakemake@config, snakemake@config[[sample]])\n",
    "ab_scheme <- str_to_lower(config[['ext_numbering']])"
   ]
  },
  {
   "cell_type": "code",
   "execution_count": null,
   "id": "ed85d84c-c2ea-47a4-8de4-d2d6c1ea5a2a",
   "metadata": {},
   "outputs": [],
   "source": [
    "# read from igblast"
   ]
  },
  {
   "cell_type": "code",
   "execution_count": null,
   "id": "4d9da88a-629a-4814-b171-b53a590bbda8",
   "metadata": {},
   "outputs": [],
   "source": [
    "parse_IgBlast_shm <- function(igblast_fmt7) {\n",
    "  alltxt <- readLines(igblast_fmt7)\n",
    "  Ltxt <- baizer::split_vector(alltxt,\n",
    "    grep(\"# IGBLASTN\", alltxt),\n",
    "    bounds = \"[)\"\n",
    "  )\n",
    "  Ltxt <- Ltxt[-1]\n",
    "\n",
    "  parse_mut <- function(x) {\n",
    "    contig_id <- str_subset(x, \"# Query:\") %>%\n",
    "      str_replace(\"# Query: \", \"\")\n",
    "\n",
    "    # VDJ, query id, subject id, % identity, alignment length,\n",
    "    # mismatches, gap opens, gaps...\n",
    "    vdj <- c(\n",
    "      x %>% str_subset(\"^V\\\\t\") %>% .[1],\n",
    "      x %>% str_subset(\"^D\\\\t\") %>% .[1],\n",
    "      x %>% str_subset(\"^J\\\\t\") %>% .[1]\n",
    "    )\n",
    "    vdj_name <- c(\"V\", \"D\", \"J\")\n",
    "    vdj_mut <- vdj %>%\n",
    "      str_split(\"\\t\") %>%\n",
    "      map_chr(~ if (all(is.na(.x))) NA_character_ else .x[6])\n",
    "\n",
    "    # region, from, to, length, matches, mismatches, gaps, percent identity\n",
    "    cdrfr <- x %>% str_subset(\"^[CDRF123]+-IMGT+\")\n",
    "    cdrfr_name <- cdrfr %>%\n",
    "      str_split(\"\\t\") %>%\n",
    "      map_chr(1) %>%\n",
    "      str_replace(\"-IMGT\", \"\") %>%\n",
    "      str_replace(\" \\\\(germline\\\\)\", \"\")\n",
    "    if (any(duplicated(cdrfr_name)) == TRUE) {\n",
    "      stop(str_c(\"duplicated region names  \", contig_id))\n",
    "    }\n",
    "    cdrfr_mut <- cdrfr %>%\n",
    "      str_split(\"\\t\") %>%\n",
    "      map_chr(6)\n",
    "\n",
    "\n",
    "    res <- tibble( # nolint\n",
    "      sequence_id = contig_id,\n",
    "      name = c(vdj_name, cdrfr_name),\n",
    "      mut = c(vdj_mut, cdrfr_mut)\n",
    "    ) %>%\n",
    "      # fill NA as 0\n",
    "      dplyr::mutate(mut = as.double(mut), mut = ifelse(is.na(mut), 0, mut)) %>%\n",
    "      pivot_wider(names_from = \"name\", values_from = \"mut\")\n",
    "  }\n",
    "\n",
    "  res <- Ltxt %>% map_dfr(parse_mut)\n",
    "\n",
    "  # rename\n",
    "  res <- res %>% rename_at(\n",
    "    str_subset(colnames(.), \"^FR\\\\d\"),\n",
    "    ~ str_replace(.x, \"FR\", \"FWR\")\n",
    "  )\n",
    "  return(res)\n",
    "}"
   ]
  },
  {
   "cell_type": "code",
   "execution_count": null,
   "id": "b814efe5-6ae6-4f9d-9de4-39ac12fdba57",
   "metadata": {},
   "outputs": [],
   "source": [
    "TBigblast_tsv <- read_tsv(snakemake@input[['VDJB_igblast_tsv']])\n",
    "TBshm <- parse_IgBlast_shm(snakemake@input[['VDJB_igblast_txt']])"
   ]
  },
  {
   "cell_type": "code",
   "execution_count": null,
   "id": "354b4bed-ab7a-47be-b314-e9afb8ab2528",
   "metadata": {},
   "outputs": [],
   "source": [
    "# read from cellranger\n",
    "TBcr_airr <- read_tsv(str_c(snakemake@input[['count_dir']], str_glue(config[['count_VDJB_airr']]), sep='/'))\n",
    "TBcr_anno <- read_csv(str_c(snakemake@input[['count_dir']], str_glue(config[['count_VDJB_anno']]), sep='/'))\n",
    "\n",
    "# read from changeo\n",
    "TBchangeo <- bind_rows(read_tsv(snakemake@input[['VDJB_changeo']]), read_tsv(snakemake@input[['VDJB_changeo_fail']]))"
   ]
  },
  {
   "cell_type": "code",
   "execution_count": null,
   "id": "b044718d-35cd-4a00-811b-dc3fa17084e9",
   "metadata": {},
   "outputs": [],
   "source": [
    "# read from anarci"
   ]
  },
  {
   "cell_type": "code",
   "execution_count": null,
   "id": "8beb2ecc-6c29-4da9-80c8-964cdb0bc3a5",
   "metadata": {},
   "outputs": [],
   "source": [
    "ab_schema_region <- read_csv(snakemake@params[['ab_schema_region']])"
   ]
  },
  {
   "cell_type": "code",
   "execution_count": null,
   "id": "ec7f8dd8-9c7e-41e7-a28b-fe38d5c4091c",
   "metadata": {},
   "outputs": [],
   "source": [
    "parse_ANARCI_aaseq <- function(x, remove_gap = TRUE, keep_number = FALSE, ab_schema_region) {\n",
    "  aa_cols <- colnames(x) %>% str_subset(\"^\\\\d+\")\n",
    "  res <- x %>%\n",
    "    dplyr::select(sequence_id = \"Id\", dplyr::all_of(aa_cols)) %>%\n",
    "    # trans TRUE, FALSE to the real character T, F\n",
    "    dplyr::mutate(\n",
    "      dplyr::across(\n",
    "        dplyr::where(is.logical),\n",
    "        ~ case_when(\n",
    "          .x == TRUE ~ \"T\", .x == FALSE ~ \"F\",\n",
    "          is.na(.x) ~ \"-\", TRUE ~ as.character(.x)\n",
    "        )\n",
    "      )\n",
    "    ) %>%\n",
    "    # trans NA to -, to avoid NA in sequence\n",
    "    dplyr::mutate(\n",
    "      dplyr::across(dplyr::all_of(aa_cols), ~ ifelse(is.na(.x), \"-\", .x))\n",
    "    )\n",
    "\n",
    "  # region seq aa\n",
    "  region <- res %>%\n",
    "    pivot_longer(-\"sequence_id\", names_to = \"numbering\", values_to = \"aa\") %>%\n",
    "    dplyr::mutate(numbering = factor(.data[[\"numbering\"]], aa_cols)) %>%\n",
    "    dplyr::mutate(site = str_extract(.data[[\"numbering\"]], \"\\\\d+\") %>%\n",
    "      as.double()) %>%\n",
    "    dplyr::arrange(.data[[\"sequence_id\"]], .data[[\"numbering\"]])\n",
    "\n",
    "  region <- region %>%\n",
    "    left_join(ab_schema_region,\n",
    "      by = dplyr::join_by(between(site, start, end, bounds = \"[]\"))\n",
    "    ) %>%\n",
    "    dplyr::filter(!is.na(region)) %>%\n",
    "    dplyr::arrange(region)\n",
    "\n",
    "  region <- region %>%\n",
    "    group_split(.data[[\"sequence_id\"]]) %>%\n",
    "    map_dfr(~ dplyr::summarise(.x,\n",
    "      aa = str_c(aa, collapse = \"\"),\n",
    "      .by = c(\"sequence_id\", \"region\")\n",
    "    )) %>%\n",
    "    pivot_wider(names_from = \"region\", values_from = \"aa\") %>%\n",
    "    rename_at(\n",
    "      dplyr::pull(ab_schema_region, \"region\") %>% as.character(),\n",
    "      ~ str_c(.x, \"_aa\")\n",
    "    )\n",
    "\n",
    "  # V-domain seq aa\n",
    "  res <- res %>% tidyr::unite(\"seq_align_aa\", dplyr::all_of(aa_cols),\n",
    "    sep = \"\", remove = !keep_number\n",
    "  )\n",
    "\n",
    "  res <- left_join(region, res, by = \"sequence_id\")\n",
    "\n",
    "  if (remove_gap == TRUE) {\n",
    "    res <- res %>% dplyr::mutate(dplyr::across(\n",
    "      ends_with(\"_aa\"),\n",
    "      ~ str_replace_all(.x, \"-\", \"\")\n",
    "    ))\n",
    "  }\n",
    "\n",
    "  return(res)\n",
    "}"
   ]
  },
  {
   "cell_type": "code",
   "execution_count": null,
   "id": "5c2c8068-2525-4099-aa51-2e523120c970",
   "metadata": {},
   "outputs": [],
   "source": [
    "TBext_anarci_H <- read_csv(snakemake@input[['VDJB_ext_anarci_H']])\n",
    "TBext_anarci_L <- read_csv(snakemake@input[['VDJB_ext_anarci_KL']])"
   ]
  },
  {
   "cell_type": "code",
   "execution_count": null,
   "id": "ca2cede8-5d87-4626-b80f-a29aabeaa48b",
   "metadata": {
    "scrolled": true
   },
   "outputs": [],
   "source": [
    "TBext_anarci_seq <- bind_rows(\n",
    "    parse_ANARCI_aaseq(TBext_anarci_H, \n",
    "                       ab_schema_region=filter(ab_schema_region, scheme==ab_scheme, chain=='H')),\n",
    "    parse_ANARCI_aaseq(TBext_anarci_L, \n",
    "                       ab_schema_region=filter(ab_schema_region, scheme==ab_scheme, chain=='L'))\n",
    ") %>% rename_at(str_subset(colnames(.), 'cdr\\\\d_aa'), ~str_c(ab_scheme, .x, sep='_'))"
   ]
  },
  {
   "cell_type": "code",
   "execution_count": null,
   "id": "0949741a-f098-4405-a4e7-ef51ab0a23ac",
   "metadata": {},
   "outputs": [],
   "source": [
    "# main and fine x_call\n",
    "gene_cols <- str_subset(colnames(TBigblast_tsv), '_call$')\n",
    "\n",
    "TBigblast_tsv <- TBigblast_tsv %>%\n",
    "    # extract first fine gene to _fine cols\n",
    "    mutate(across(all_of(gene_cols), ~reg_match(.x, '[^,]+'), .names='{.col}_fine')) %>%\n",
    "    # extract first main gene \n",
    "    mutate(across(all_of(gene_cols), ~reg_match(.x, '[^\\\\*]+'))) %>%\n",
    "    # rename\n",
    "    rename_at(c(gene_cols, str_c(gene_cols, '_fine')), \n",
    "              ~str_replace_all(.x, '_call', '_gene'))"
   ]
  },
  {
   "cell_type": "code",
   "execution_count": null,
   "id": "6766a06e-ac10-4fc9-98e5-58417bf899ca",
   "metadata": {},
   "outputs": [],
   "source": [
    "# cdr length, the length of NA cdr will be NA\n",
    "cdr_aa_cols <- str_subset(colnames(TBigblast_tsv), 'cdr\\\\d_aa')\n",
    "TBigblast_tsv <- TBigblast_tsv %>%\n",
    "    mutate(across(all_of(cdr_aa_cols), ~nchar(.x), .names='{.col}_len'))"
   ]
  },
  {
   "cell_type": "code",
   "execution_count": null,
   "id": "a7e5c91c-2e75-4456-a217-b21e7248966a",
   "metadata": {},
   "outputs": [],
   "source": [
    "# rename shm columns\n",
    "\n",
    "TBshm <- TBshm %>% rename_at(-1, ~str_to_lower(.x) %>% str_c('_mismatch_nt')) %>%\n",
    "    mutate(v_domain_shm_nt = \n",
    "           sum(c(v_mismatch_nt, d_mismatch_nt, j_mismatch_nt), na.rm=TRUE), \n",
    "           .by=sequence_id)"
   ]
  },
  {
   "cell_type": "code",
   "execution_count": null,
   "id": "089ff2b3-9bf3-4795-a1d1-f54de7ab447c",
   "metadata": {},
   "outputs": [],
   "source": [
    "# cdr3 aa feature, the feature of NA cdr3 will be NA\n",
    "TBaafeature <- TBigblast_tsv %>% select(sequence_id, cdr3_aa) %>% mutate(\n",
    "    cdr3_charge=ifelse(!is.na(cdr3_aa), charge(seq=cdr3_aa, pH=7.4, pKscale='EMBOSS'), NA),\n",
    "    cdr3_hydrophobicity=map_dbl(cdr3_aa, ~ifelse(!is.na(.x), hydrophobicity(seq=.x, scale='Eisenberg'), NA)),\n",
    "    cdr3_boman=map_dbl(cdr3_aa, ~ifelse(!is.na(.x), boman(seq=.x), NA)),\n",
    "    # if nchar of cdr3 <= 2, instaIndex will throw an error\n",
    "    cdr3_instaindex = map_dbl(cdr3_aa, ~ifelse(!is.na(.x) & nchar(.x) > 2, instaIndex(seq=.x), NA))\n",
    ") %>% select(-cdr3_aa)"
   ]
  },
  {
   "cell_type": "code",
   "execution_count": null,
   "id": "f2c17521-551a-4a08-987b-d75ea1882997",
   "metadata": {},
   "outputs": [],
   "source": [
    "##################################\n",
    "### select cols\n",
    "##################################"
   ]
  },
  {
   "cell_type": "code",
   "execution_count": null,
   "id": "cab1e85f-fd48-4c72-a62e-5031594905ac",
   "metadata": {},
   "outputs": [],
   "source": [
    "# columns from igblast\n",
    "TBigblast_sel <- TBigblast_tsv %>% select(\n",
    "                    sequence_id, productive_igblast=productive, chain=locus, \n",
    "                    v_gene, d_gene, j_gene, v_gene_fine, d_gene_fine, j_gene_fine, \n",
    "                    cdr1_aa_len, cdr2_aa_len, cdr3_aa_len,\n",
    "                    cdr1_nt=cdr1, cdr1_aa, cdr2_nt=cdr2, cdr2_aa, cdr3_nt=cdr3, cdr3_aa, np1_nt=np1, np2_nt=np2,\n",
    "                    fwr1_nt=fwr1, fwr1_aa, fwr2_nt=fwr2, fwr2_aa, fwr3_nt=fwr3, fwr3_aa, fwr4_nt=fwr4, fwr4_aa,\n",
    "                    v_start=v_sequence_start, v_end=v_sequence_end, \n",
    "                    d_start=d_sequence_start, d_end=d_sequence_end,\n",
    "                    j_start=j_sequence_start, j_end=j_sequence_end,\n",
    "                    seq_nt=sequence, seq_align_nt=sequence_alignment, gm_align_nt=germline_alignment\n",
    "        ) \n",
    "\n",
    "# columns from shm\n",
    "TBshm_sel <- TBshm %>%\n",
    "    relocate(sequence_id, v_domain_shm_nt, contains('cdr'), contains('fwr'))\n",
    "\n",
    "# columns from cellranger annotation\n",
    "TBcr_annot_sel <- TBcr_anno %>% select(cell=barcode, sequence_id=contig_id, \n",
    "                                       productive_cellranger=productive, clone_cellranger=raw_clonotype_id, reads, umis, c_gene)\n",
    "\n",
    "# columns from cellranger airr\n",
    "TBcr_airr_sel <- TBcr_airr %>% select(sequence_id, seq_aa=sequence_aa)\n",
    "\n",
    "# columns from changeo\n",
    "TBchangeo_sel <- TBchangeo %>% select(sequence_id, clone_changeo=clone_id, seq_gm=germline_alignment_d_mask)\n",
    "\n",
    "# columns from anarci\n",
    "TBext_anarci_seq <- TBext_anarci_seq"
   ]
  },
  {
   "cell_type": "code",
   "execution_count": null,
   "id": "4ac12da0-b507-44b9-af09-c45ac3b4c38e",
   "metadata": {},
   "outputs": [],
   "source": [
    "##################################\n",
    "### join\n",
    "##################################"
   ]
  },
  {
   "cell_type": "code",
   "execution_count": null,
   "id": "4c17fb27-8767-48ce-9eee-13c07efd329f",
   "metadata": {},
   "outputs": [],
   "source": [
    "TBjoin <- TBigblast_sel %>% left_join(TBshm_sel, by='sequence_id') %>%\n",
    "    relocate(all_of(colnames(TBshm_sel)[-1]), .after=cdr3_aa_len)\n",
    "\n",
    "TBjoin <- TBjoin %>% left_join(TBcr_annot_sel, by='sequence_id') %>%\n",
    "    relocate(cell, productive_cellranger, .after=sequence_id) %>%\n",
    "    relocate(clone_cellranger, reads, umis, c_gene, .after=chain)\n",
    "\n",
    "TBjoin <- TBjoin %>% left_join(TBcr_airr_sel, by='sequence_id') %>%\n",
    "    relocate(seq_aa, .after=seq_nt)\n",
    "\n",
    "TBjoin <- TBjoin %>% left_join(TBchangeo_sel, by='sequence_id') %>%\n",
    "     relocate(clone_changeo, .after=clone_cellranger)\n",
    "\n",
    "TBjoin <- TBjoin %>% left_join(TBext_anarci_seq, by='sequence_id') %>%\n",
    "    relocate(matches('cdr\\\\d_aa'), .after=fwr4_aa) %>%\n",
    "    relocate(seq_align_aa, .after=seq_align_nt)\n",
    "\n",
    "TBjoin <- TBjoin %>% left_join(TBaafeature, by='sequence_id') %>%\n",
    "    relocate(all_of(colnames(TBshm_sel)[-1]), .after=cdr3_aa)"
   ]
  },
  {
   "cell_type": "code",
   "execution_count": null,
   "id": "b47d1146-036c-44b5-9a8a-3ae7381800dd",
   "metadata": {},
   "outputs": [],
   "source": [
    "# calculate shm ratio\n",
    "TBjoin <- TBjoin %>% mutate(v_domain_shm_ratio = round(v_domain_shm_nt/nchar(seq_align_nt), 4), \n",
    "                  .after=v_domain_shm_nt)"
   ]
  },
  {
   "cell_type": "code",
   "execution_count": null,
   "id": "7ab6ee57-748d-4583-ad59-084ce3411f7a",
   "metadata": {},
   "outputs": [],
   "source": [
    "##################################\n",
    "### widen for HL\n",
    "##################################"
   ]
  },
  {
   "cell_type": "code",
   "execution_count": null,
   "id": "de438434-1d25-4299-a8e5-4928f9e94940",
   "metadata": {},
   "outputs": [],
   "source": [
    "TBjoin <- TBjoin %>% mutate(HL=case_when(chain=='IGH' ~ 'H', chain=='IGL' ~ 'L', chain=='IGK' ~ 'L')) %>%\n",
    "    mutate(HL=factor(HL, c('H', 'L'))) %>% \n",
    "    # remove the contigs unknown\n",
    "    filter(!is.na(HL))"
   ]
  },
  {
   "cell_type": "code",
   "execution_count": null,
   "id": "3811d751-cc66-4d59-a84f-658a65e8adf8",
   "metadata": {},
   "outputs": [],
   "source": [
    "# contig numbers of a cell, and whether there is only an unique H or L\n",
    "TBunique <- TBjoin %>% group_by(cell, HL) %>% summarise(contig_num = n(), unique = n() == 1) %>%\n",
    "    ungroup"
   ]
  },
  {
   "cell_type": "code",
   "execution_count": null,
   "id": "62169012-ec29-4038-b787-debfebeeab96",
   "metadata": {},
   "outputs": [],
   "source": [
    "# for multi-contigs, only keep the first one with most umis\n",
    "TBjoin <- TBjoin %>% group_by(cell, HL) %>% arrange(desc(umis)) %>% dplyr::slice(1) %>% ungroup %>%\n",
    "    arrange(HL, cell, sequence_id)"
   ]
  },
  {
   "cell_type": "code",
   "execution_count": null,
   "id": "536b422b-f2cc-4789-9cd9-c702cbea0f92",
   "metadata": {},
   "outputs": [],
   "source": [
    "TBjoin <- TBjoin %>% left_join(TBunique, by=c('cell', 'HL')) %>%\n",
    "    relocate(contig_num, unique, .after=umis)"
   ]
  },
  {
   "cell_type": "code",
   "execution_count": null,
   "id": "3ed2eb00-314f-4bb9-aabc-6e785653d916",
   "metadata": {},
   "outputs": [],
   "source": [
    "# pivot\n",
    "keep_col <- c('cell', 'HL')\n",
    "TBwider <- TBjoin %>% pivot_wider(names_from='HL', values_from=-all_of(keep_col))"
   ]
  },
  {
   "cell_type": "code",
   "execution_count": null,
   "id": "d4a2abae-504e-489c-b3db-cd06050c9773",
   "metadata": {},
   "outputs": [],
   "source": [
    "# unique, productive, clone_cellranger, class\n",
    "TBwider <- TBwider %>% \n",
    "    mutate(productive_igblast=productive_igblast_H & productive_igblast_L,\n",
    "           productive_cellranger=productive_cellranger_H & productive_cellranger_H,\n",
    "           unique = unique_H & unique_L, \n",
    "           class=str_sub(c_gene_H, 1, 4) %>% str_replace('GH', 'g'),\n",
    "           clone_cellranger = case_when(!is.na(clone_cellranger_H) ~ clone_cellranger_H,\n",
    "                                        !is.na(clone_cellranger_L) ~ clone_cellranger_L),\n",
    "           clone_changeo=str_glue('{clone_changeo_H}-{clone_changeo_L}'),\n",
    "           .after=cell\n",
    "          )\n",
    "# if single contig\n",
    "TBwider <- TBwider %>% mutate(\n",
    "    productive_igblast=ifelse(is.na(seq_nt_H) | is.na(seq_nt_L), FALSE, productive_igblast),\n",
    "    productive_cellranger=ifelse(is.na(seq_nt_H) | is.na(seq_nt_L), FALSE, productive_cellranger),\n",
    "    unique=ifelse(is.na(seq_nt_H) | is.na(seq_nt_L), FALSE, unique)\n",
    ")"
   ]
  },
  {
   "cell_type": "code",
   "execution_count": null,
   "id": "60442936-52b1-48c1-b59f-d2701e39e8fb",
   "metadata": {},
   "outputs": [],
   "source": [
    "##################################\n",
    "### mutation target\n",
    "##################################"
   ]
  },
  {
   "cell_type": "code",
   "execution_count": null,
   "id": "c1567b10-66a0-403c-b3a9-cef431223f65",
   "metadata": {},
   "outputs": [],
   "source": [
    "# Hchain mut\n",
    "orfH <- parse_ANARCI_aaseq(\n",
    "            read_csv(snakemake@input[['VDJB_orf_anarci_H']]), keep_number=TRUE,\n",
    "            ab_schema_region=filter(ab_schema_region, scheme=='imgt', chain=='H')\n",
    "        ) %>% select(id=sequence_id, matches('^\\\\d')) %>% c2r('id')\n",
    "gmH <- parse_ANARCI_aaseq(\n",
    "            read_csv(snakemake@input[['VDJB_gm_anarci_H']]), keep_number=TRUE,\n",
    "            ab_schema_region=filter(ab_schema_region, scheme=='imgt', chain=='H')\n",
    "        ) %>% select(id=sequence_id, matches('^\\\\d')) %>% c2r('id')\n",
    "\n",
    "common_ids <- intersect(rownames(orfH), rownames(gmH))\n",
    "common_cols <- intersect(colnames(orfH), colnames(gmH))\n",
    "diff_bool_H <- orfH[common_ids, common_cols] != gmH[common_ids, common_cols]\n",
    "\n",
    "# if germline is -\n",
    "diff_bool_H <- ifelse(gmH != '-', diff_bool_H, FALSE)\n",
    "colnames(diff_bool_H) <- str_c('imgt_H', colnames(diff_bool_H))"
   ]
  },
  {
   "cell_type": "code",
   "execution_count": null,
   "id": "da113f5f-2396-4f2d-9f6c-fbeaa9bb5fad",
   "metadata": {},
   "outputs": [],
   "source": [
    "# Lchain mut\n",
    "orfL <- parse_ANARCI_aaseq(\n",
    "            read_csv(snakemake@input[['VDJB_orf_anarci_KL']]), keep_number=TRUE,\n",
    "            ab_schema_region=filter(ab_schema_region, scheme=='imgt', chain=='L')\n",
    "        ) %>% select(id=sequence_id, matches('^\\\\d')) %>% c2r('id')\n",
    "gmL <- parse_ANARCI_aaseq(\n",
    "            read_csv(snakemake@input[['VDJB_gm_anarci_KL']]), keep_number=TRUE,\n",
    "            ab_schema_region=filter(ab_schema_region, scheme=='imgt', chain=='L')\n",
    "        ) %>% select(id=sequence_id, matches('^\\\\d')) %>% c2r('id')\n",
    "\n",
    "common_ids <- intersect(rownames(orfL), rownames(gmL))\n",
    "common_cols <- intersect(colnames(orfL), colnames(gmL))\n",
    "diff_bool_L <- orfL[common_ids, common_cols] != gmL[common_ids, common_cols]\n",
    "\n",
    "# if germline is -\n",
    "diff_bool_L <- ifelse(gmL != '-', diff_bool_L, FALSE)\n",
    "colnames(diff_bool_L) <- str_c('imgt_L', colnames(diff_bool_L))"
   ]
  },
  {
   "cell_type": "code",
   "execution_count": null,
   "id": "bfd6c49b-8039-4a6b-b0c3-ee062de7b658",
   "metadata": {},
   "outputs": [],
   "source": [
    "TBmut <- TBwider %>% select(cell, sequence_id_H, sequence_id_L) %>%\n",
    "    left_join(r2c(as.data.frame(diff_bool_H), 'sequence_id_H'), by='sequence_id_H') %>%\n",
    "    left_join(r2c(as.data.frame(diff_bool_L), 'sequence_id_L'), by='sequence_id_L') %>%\n",
    "    select(-matches('^sequence_id'))\n",
    "TBmut <- TBmut %>% mutate(batch = sample, .after=cell)"
   ]
  },
  {
   "cell_type": "code",
   "execution_count": null,
   "id": "cd6ff2d9-3cfe-4ad2-ae80-29ad0f7a529f",
   "metadata": {},
   "outputs": [],
   "source": [
    "TBwider <- TBwider %>% mutate(batch = sample, .after=cell)"
   ]
  },
  {
   "cell_type": "code",
   "execution_count": null,
   "id": "200f8378-47d6-4f08-b627-5ba0cf734506",
   "metadata": {},
   "outputs": [],
   "source": [
    "# stat\n",
    "\n",
    "TBmtx <- read_csv(str_c(snakemake@input[['count_dir']], str_glue(config[['count_VDJB_mtx']]), sep='/')) %>% \n",
    "    dplyr::rename(item=`Metric Name`, value=`Metric Value`) %>%\n",
    "    filter(`Library Type` == 'VDJ B')"
   ]
  },
  {
   "cell_type": "code",
   "execution_count": null,
   "id": "a066017f-3fab-453a-b3ac-6ec7634a52cc",
   "metadata": {},
   "outputs": [],
   "source": [
    "Lstat <- TBmtx %>% distinct(item, value) %>% pivot_wider(names_from='item', values_from='value') %>% select(any_of(c(\n",
    "    'cells'='Estimated number of cells', \n",
    "    'mean_reads'='Mean reads per cell', \n",
    "    'median_IGH'='Median IGH UMIs per Cell', \n",
    "    'median_IGK'='Median IGK UMIs per Cell', \n",
    "    'median_IGL'='Median IGL UMIs per Cell', \n",
    "    'align_rate'='Reads mapped to any V(D)J gene', \n",
    "    'total_reads'='Number of reads', \n",
    "    'Q30_barcode'='Q30 barcodes', \n",
    "    'Q30_umi'='Q30 UMI', \n",
    "    'Q30_R1'='Q30 RNA read',\n",
    "    'Q30_R2'='Q30 RNA read 2'\n",
    "))) %>% as.list"
   ]
  },
  {
   "cell_type": "code",
   "execution_count": null,
   "id": "4349ab4b-f49a-4094-b637-05f6104a3211",
   "metadata": {},
   "outputs": [],
   "source": [
    "# write\n",
    "dir.create(dirname(snakemake@output[['VDJB_csv']]), recursive = TRUE)\n",
    "write_excel_csv(TBmut, snakemake@output[['VDJB_mut']])\n",
    "write_excel_csv(TBwider, snakemake@output[['VDJB_csv']])\n",
    "write_yaml(Lstat, file=snakemake@output[['VDJB_stat']])"
   ]
  },
  {
   "cell_type": "code",
   "execution_count": null,
   "id": "2d48d739-e700-40c1-a0e9-4460a0f512fc",
   "metadata": {
    "tags": []
   },
   "outputs": [],
   "source": [
    "dir.create(snakemake@output[['stat_dir']], recursive = TRUE)\n",
    "file.copy(snakemake@output[['VDJB_csv']], \n",
    "          str_c(snakemake@output[['stat_dir']], '/', basename(snakemake@output[['VDJB_csv']])), \n",
    "          overwrite=TRUE)\n",
    "file.copy(snakemake@output[['VDJB_stat']], \n",
    "          str_c(snakemake@output[['stat_dir']], '/', basename(snakemake@output[['VDJB_stat']])), \n",
    "          overwrite=TRUE)\n",
    "# copy changeo\n",
    "file.copy(snakemake@input[['VDJB_changeo']], \n",
    "          str_c(snakemake@output[['stat_dir']], '/', basename(snakemake@input[['VDJB_changeo']])), \n",
    "          overwrite=TRUE)"
   ]
  },
  {
   "cell_type": "code",
   "execution_count": null,
   "id": "337d1e50-3331-40ef-8cad-4c7537107360",
   "metadata": {},
   "outputs": [],
   "source": []
  }
 ],
 "metadata": {
  "kernelspec": {
   "display_name": "R_ab",
   "language": "R",
   "name": "r_ab"
  },
  "language_info": {
   "codemirror_mode": "r",
   "file_extension": ".r",
   "mimetype": "text/x-r-source",
   "name": "R",
   "pygments_lexer": "r",
   "version": "4.2.3"
  }
 },
 "nbformat": 4,
 "nbformat_minor": 5
}
