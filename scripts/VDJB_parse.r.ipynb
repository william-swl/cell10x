{
 "cells": [
  {
   "cell_type": "code",
   "execution_count": null,
   "id": "9fc1450c-d6c5-4f29-bcf5-c46c61937c33",
   "metadata": {},
   "outputs": [],
   "source": [
    "R.home()"
   ]
  },
  {
   "cell_type": "code",
   "execution_count": null,
   "id": "f1706183-c792-4cfc-804c-0e9b841f0cf6",
   "metadata": {},
   "outputs": [],
   "source": [
    "baizer::pkglib(tidyverse, Biostrings, Peptides, baizer, genogamesh, yaml)"
   ]
  },
  {
   "cell_type": "code",
   "execution_count": null,
   "id": "a2792c2d-a0d1-4b90-b1f8-6b1793843a31",
   "metadata": {},
   "outputs": [],
   "source": [
    "sample <- snakemake@wildcards[['sample']]\n",
    "\n",
    "# replace default configs with sample configs\n",
    "config <- replace_item(snakemake@config, snakemake@config[[sample]])\n",
    "ab_scheme <- str_to_lower(config[['ext_numbering']])"
   ]
  },
  {
   "cell_type": "code",
   "execution_count": null,
   "id": "464c935d-689b-4262-85a7-e01aa4a6cf7b",
   "metadata": {},
   "outputs": [],
   "source": [
    "Pcount <- snakemake@input[['VDJB_count_dir']]\n",
    "Pigblast_tsv <- snakemake@input[['VDJB_igblast_tsv']]\n",
    "Pigblast_txt <- snakemake@input[['VDJB_igblast_txt']]\n",
    "Pchangeo <- snakemake@input[['VDJB_changeo']]\n",
    "Pchangeo_fail <- snakemake@input[['VDJB_changeo_fail']]\n",
    "Pext_anarci_H <- snakemake@input[['VDJB_ext_anarci_H']]\n",
    "Pext_anarci_KL <- snakemake@input[['VDJB_ext_anarci_KL']]\n",
    "Porf_anarci_H <- snakemake@input[['VDJB_orf_anarci_H']]\n",
    "Porf_anarci_KL <- snakemake@input[['VDJB_orf_anarci_KL']]\n",
    "Pgm_anarci_H <- snakemake@input[['VDJB_gm_anarci_H']]\n",
    "Pgm_anarci_KL <- snakemake@input[['VDJB_gm_anarci_KL']]\n",
    "\n",
    "Pcsv <- snakemake@output[['VDJB_csv']]\n",
    "Pmut <- snakemake@output[['VDJB_mut']]\n",
    "Pstat <- snakemake@output[['VDJB_stat']]\n",
    "Pstat_dir <- snakemake@output[['stat_dir']]"
   ]
  },
  {
   "cell_type": "code",
   "execution_count": null,
   "id": "7436b8c9-54d4-4301-9b3a-7e6ddaa97d9b",
   "metadata": {},
   "outputs": [],
   "source": [
    "# read from igblast\n",
    "TBigblast_tsv <- read_tsv(Pigblast_tsv)\n",
    "TBshm <- parse_IgBlast_shm(Pigblast_txt)\n",
    "\n",
    "# read from cellranger\n",
    "TBcr_airr <- read_tsv(str_glue('{Pcount}/airr_rearrangement.tsv'))\n",
    "TBcr_anno <- read_csv(str_glue('{Pcount}/all_contig_annotations.csv'))\n",
    "\n",
    "# read from changeo\n",
    "TBchangeo <- bind_rows(read_tsv(Pchangeo), read_tsv(Pchangeo_fail))\n",
    "\n",
    "# read from anarci\n",
    "TBext_anarci_H <- read_csv(Pext_anarci_H)\n",
    "TBext_anarci_L <- read_csv(Pext_anarci_KL)\n",
    "TBext_anarci_seq <- bind_rows(\n",
    "    parse_ANARCI_aaseq(TBext_anarci_H, chain='H', scheme=ab_scheme),\n",
    "    parse_ANARCI_aaseq(TBext_anarci_L, chain='L', scheme=ab_scheme)\n",
    ") %>% rename_at(str_subset(colnames(.), 'cdr\\\\d_aa'), ~str_c(ab_scheme, .x, sep='_'))"
   ]
  },
  {
   "cell_type": "code",
   "execution_count": null,
   "id": "205261d8-cf46-4be5-81f7-0d6241af5675",
   "metadata": {},
   "outputs": [],
   "source": [
    "# main and fine x_call\n",
    "gene_cols <- str_subset(colnames(TBigblast_tsv), '_call$')\n",
    "\n",
    "TBigblast_tsv <- TBigblast_tsv %>%\n",
    "    # extract first fine gene to _fine cols\n",
    "    mutate(across(all_of(gene_cols), ~reg_match(.x, '[^,]+'), .names='{.col}_fine')) %>%\n",
    "    # extract first main gene \n",
    "    mutate(across(all_of(gene_cols), ~reg_match(.x, '[^\\\\*]+'))) %>%\n",
    "    # rename\n",
    "    rename_at(c(gene_cols, str_c(gene_cols, '_fine')), \n",
    "              ~str_replace_all(.x, '_call', '_gene'))\n",
    "\n",
    "# cdr length, the length of NA cdr will be NA\n",
    "cdr_aa_cols <- str_subset(colnames(TBigblast_tsv), 'cdr\\\\d_aa')\n",
    "TBigblast_tsv <- TBigblast_tsv %>%\n",
    "    mutate(across(all_of(cdr_aa_cols), ~nchar(.x), .names='{.col}_len'))\n",
    "\n",
    "# rename shm columns\n",
    "\n",
    "TBshm <- TBshm %>% rename_at(-1, ~str_to_lower(.x) %>% str_c('_mismatch_nt')) %>%\n",
    "    mutate(v_domain_shm_nt = \n",
    "           sum(c(v_mismatch_nt, d_mismatch_nt, j_mismatch_nt), na.rm=TRUE), \n",
    "           .by=sequence_id)\n",
    "\n",
    "# cdr3 aa feature, the feature of NA cdr3 will be NA\n",
    "TBaafeature <- TBigblast_tsv %>% select(sequence_id, cdr3_aa) %>% mutate(\n",
    "    cdr3_charge=ifelse(!is.na(cdr3_aa), charge(seq=cdr3_aa, pH=7.4, pKscale='EMBOSS'), NA),\n",
    "    cdr3_hydrophobicity=map_dbl(cdr3_aa, ~ifelse(!is.na(.x), hydrophobicity(seq=.x, scale='Eisenberg'), NA)),\n",
    "    cdr3_boman=map_dbl(cdr3_aa, ~ifelse(!is.na(.x), boman(seq=.x), NA)),\n",
    "    # if nchar of cdr3 <= 2, instaIndex will throw an error\n",
    "    cdr3_instaindex = map_dbl(cdr3_aa, ~ifelse(!is.na(.x) & nchar(.x) > 2, instaIndex(seq=.x), NA))\n",
    ") %>% select(-cdr3_aa)"
   ]
  },
  {
   "cell_type": "code",
   "execution_count": null,
   "id": "f2ebcc18-2cd7-4d12-a920-75573b6b2be6",
   "metadata": {},
   "outputs": [],
   "source": [
    "##################################\n",
    "### select cols\n",
    "##################################"
   ]
  },
  {
   "cell_type": "code",
   "execution_count": null,
   "id": "205e4d1e-ed73-4c5c-a92c-07830a0d61f8",
   "metadata": {},
   "outputs": [],
   "source": [
    "# columns from igblast\n",
    "TBigblast_sel <- TBigblast_tsv %>% select(\n",
    "                    sequence_id, productive_igblast=productive, chain=locus, \n",
    "                    v_gene, d_gene, j_gene, v_gene_fine, d_gene_fine, j_gene_fine, \n",
    "                    cdr1_aa_len, cdr2_aa_len, cdr3_aa_len,\n",
    "                    cdr1_nt=cdr1, cdr1_aa, cdr2_nt=cdr2, cdr2_aa, cdr3_nt=cdr3, cdr3_aa, np1_nt=np1, np2_nt=np2,\n",
    "                    fwr1_nt=fwr1, fwr1_aa, fwr2_nt=fwr2, fwr2_aa, fwr3_nt=fwr3, fwr3_aa, fwr4_nt=fwr4, fwr4_aa,\n",
    "                    v_start=v_sequence_start, v_end=v_sequence_end, \n",
    "                    d_start=d_sequence_start, d_end=d_sequence_end,\n",
    "                    j_start=j_sequence_start, j_end=j_sequence_end,\n",
    "                    seq_nt=sequence, seq_align_nt=sequence_alignment, gm_align_nt=germline_alignment\n",
    "        ) \n",
    "\n",
    "# columns from shm\n",
    "TBshm_sel <- TBshm %>%\n",
    "    relocate(sequence_id, v_domain_shm_nt, contains('cdr'), contains('fwr'))\n",
    "\n",
    "# columns from cellranger annotation\n",
    "TBcr_annot_sel <- TBcr_anno %>% select(cell=barcode, sequence_id=contig_id, \n",
    "                                       productive_cellranger=productive, clone_cellranger=raw_clonotype_id, reads, umis, c_gene)\n",
    "\n",
    "# columns from cellranger airr\n",
    "TBcr_airr_sel <- TBcr_airr %>% select(sequence_id, seq_aa=sequence_aa)\n",
    "\n",
    "# columns from changeo\n",
    "TBchangeo_sel <- TBchangeo %>% select(sequence_id, clone_changeo=clone_id, seq_gm=germline_alignment_d_mask)\n",
    "\n",
    "# columns from anarci\n",
    "TBext_anarci_seq <- TBext_anarci_seq"
   ]
  },
  {
   "cell_type": "code",
   "execution_count": null,
   "id": "d919c121-8341-4c1c-b038-0d82caa409cc",
   "metadata": {},
   "outputs": [],
   "source": [
    "##################################\n",
    "### join\n",
    "##################################"
   ]
  },
  {
   "cell_type": "code",
   "execution_count": null,
   "id": "7476e50c-d542-40a5-8caf-fc2076e0ef4f",
   "metadata": {},
   "outputs": [],
   "source": [
    "TBjoin <- TBigblast_sel %>% left_join(TBshm_sel, by='sequence_id') %>%\n",
    "    relocate(all_of(colnames(TBshm_sel)[-1]), .after=cdr3_aa_len)\n",
    "\n",
    "TBjoin <- TBjoin %>% left_join(TBcr_annot_sel, by='sequence_id') %>%\n",
    "    relocate(cell, productive_cellranger, .after=sequence_id) %>%\n",
    "    relocate(clone_cellranger, reads, umis, c_gene, .after=chain)\n",
    "\n",
    "TBjoin <- TBjoin %>% left_join(TBcr_airr_sel, by='sequence_id') %>%\n",
    "    relocate(seq_aa, .after=seq_nt)\n",
    "\n",
    "TBjoin <- TBjoin %>% left_join(TBchangeo_sel, by='sequence_id') %>%\n",
    "     relocate(clone_changeo, .after=clone_cellranger)\n",
    "\n",
    "TBjoin <- TBjoin %>% left_join(TBext_anarci_seq, by='sequence_id') %>%\n",
    "    relocate(matches('cdr\\\\d_aa'), .after=fwr4_aa) %>%\n",
    "    relocate(seq_align_aa, .after=seq_align_nt)\n",
    "\n",
    "TBjoin <- TBjoin %>% left_join(TBaafeature, by='sequence_id') %>%\n",
    "    relocate(all_of(colnames(TBshm_sel)[-1]), .after=cdr3_aa)"
   ]
  },
  {
   "cell_type": "code",
   "execution_count": null,
   "id": "817227da-8ab5-49d9-b099-b2de0c37cc96",
   "metadata": {},
   "outputs": [],
   "source": [
    "# calculate shm ratio\n",
    "TBjoin <- TBjoin %>% mutate(v_domain_shm_ratio = round(v_domain_shm_nt/nchar(seq_align_nt), 4), \n",
    "                  .after=v_domain_shm_nt)"
   ]
  },
  {
   "cell_type": "code",
   "execution_count": null,
   "id": "70b1325d-bc7d-4ff6-87bd-b4275141c0c4",
   "metadata": {},
   "outputs": [],
   "source": [
    "##################################\n",
    "### widen for HL\n",
    "##################################"
   ]
  },
  {
   "cell_type": "code",
   "execution_count": null,
   "id": "90e14d9e-c5df-4dd8-85e8-cc03ac824c05",
   "metadata": {},
   "outputs": [],
   "source": [
    "TBjoin <- TBjoin %>% mutate(HL=case_when(chain=='IGH' ~ 'H', chain=='IGL' ~ 'L', chain=='IGK' ~ 'L')) %>%\n",
    "    mutate(HL=factor(HL, c('H', 'L'))) %>% \n",
    "    # remove the contigs unknown\n",
    "    filter(!is.na(HL))"
   ]
  },
  {
   "cell_type": "code",
   "execution_count": null,
   "id": "163060f2-73ec-4b24-a99b-c347b64f4acc",
   "metadata": {},
   "outputs": [],
   "source": [
    "# contig numbers of a cell, and whether there is only an unique H or L\n",
    "TBunique <- TBjoin %>% group_by(cell, HL) %>% summarise(contig_num = n(), unique = n() == 1) %>%\n",
    "    ungroup"
   ]
  },
  {
   "cell_type": "code",
   "execution_count": null,
   "id": "bfee43bc-e6df-4e71-9c28-74a9cdaa057f",
   "metadata": {},
   "outputs": [],
   "source": [
    "# for multi-contigs, only keep the first one with most umis\n",
    "TBjoin <- TBjoin %>% group_by(cell, HL) %>% arrange(desc(umis)) %>% dplyr::slice(1) %>% ungroup %>%\n",
    "    arrange(HL, cell, sequence_id)"
   ]
  },
  {
   "cell_type": "code",
   "execution_count": null,
   "id": "496e3718-e4bf-42b3-b2d1-bbc507a42e9b",
   "metadata": {},
   "outputs": [],
   "source": [
    "TBjoin <- TBjoin %>% left_join(TBunique, by=c('cell', 'HL')) %>%\n",
    "    relocate(contig_num, unique, .after=umis)"
   ]
  },
  {
   "cell_type": "code",
   "execution_count": null,
   "id": "f3179e6a-8055-4fc5-9763-9594e8d69ec0",
   "metadata": {},
   "outputs": [],
   "source": [
    "# pivot\n",
    "keep_col <- c('cell', 'HL')\n",
    "TBwider <- TBjoin %>% pivot_wider(names_from='HL', values_from=-all_of(keep_col))"
   ]
  },
  {
   "cell_type": "code",
   "execution_count": null,
   "id": "017c8e4b-3252-41ff-98ad-aad8707e83c2",
   "metadata": {},
   "outputs": [],
   "source": [
    "# unique, productive, clone_cellranger, class\n",
    "TBwider <- TBwider %>% \n",
    "    mutate(productive_igblast=productive_igblast_H & productive_igblast_L,\n",
    "           productive_cellranger=productive_cellranger_H & productive_cellranger_H,\n",
    "           unique = unique_H & unique_L, \n",
    "           class=str_sub(c_gene_H, 1, 4) %>% str_replace('GH', 'g'),\n",
    "           clone_cellranger = case_when(!is.na(clone_cellranger_H) ~ clone_cellranger_H,\n",
    "                                        !is.na(clone_cellranger_L) ~ clone_cellranger_L),\n",
    "           clone_changeo=str_glue('{clone_changeo_H}-{clone_changeo_L}'),\n",
    "           .after=cell\n",
    "          )\n",
    "# if single contig\n",
    "TBwider <- TBwider %>% mutate(\n",
    "    productive_igblast=ifelse(is.na(seq_nt_H) | is.na(seq_nt_L), FALSE, productive_igblast),\n",
    "    productive_cellranger=ifelse(is.na(seq_nt_H) | is.na(seq_nt_L), FALSE, productive_cellranger),\n",
    "    unique=ifelse(is.na(seq_nt_H) | is.na(seq_nt_L), FALSE, unique)\n",
    ")"
   ]
  },
  {
   "cell_type": "code",
   "execution_count": null,
   "id": "21140822-d2ea-4a78-9c96-9d970d17adc1",
   "metadata": {},
   "outputs": [],
   "source": [
    "##################################\n",
    "### mutation target\n",
    "##################################"
   ]
  },
  {
   "cell_type": "code",
   "execution_count": null,
   "id": "b2a8c90a-d13d-43b3-8e98-98214e8f4262",
   "metadata": {},
   "outputs": [],
   "source": [
    "# Hchain mut\n",
    "orfH <- parse_ANARCI_aaseq(read_csv(Porf_anarci_H), chain='H', keep_number=TRUE) %>% \n",
    "    select(id=sequence_id, matches('^\\\\d')) %>% c2r('id')\n",
    "gmH <- parse_ANARCI_aaseq(read_csv(Pgm_anarci_H), chain='H', keep_number=TRUE) %>% \n",
    "    select(id=sequence_id, matches('^\\\\d')) %>% c2r('id')\n",
    "common_ids <- intersect(rownames(orfH), rownames(gmH))\n",
    "common_cols <- intersect(colnames(orfH), colnames(gmH))\n",
    "diff_bool_H <- orfH[common_ids, common_cols] != gmH[common_ids, common_cols]\n",
    "# if germline is -\n",
    "diff_bool_H <- ifelse(gmH != '-', diff_bool_H, FALSE)\n",
    "colnames(diff_bool_H) <- str_c('imgt_H', colnames(diff_bool_H))"
   ]
  },
  {
   "cell_type": "code",
   "execution_count": null,
   "id": "59ec1dc2-463c-46dd-b324-5d8d2b2f297e",
   "metadata": {},
   "outputs": [],
   "source": [
    "# Lchain mut\n",
    "orfL <- parse_ANARCI_aaseq(read_csv(Porf_anarci_KL), chain='L', keep_number=TRUE) %>% \n",
    "    select(id=sequence_id, matches('^\\\\d')) %>% c2r('id')\n",
    "gmL <- parse_ANARCI_aaseq(read_csv(Pgm_anarci_KL), chain='L', keep_number=TRUE) %>% \n",
    "    select(id=sequence_id, matches('^\\\\d')) %>% c2r('id')\n",
    "common_ids <- intersect(rownames(orfL), rownames(gmL))\n",
    "common_cols <- intersect(colnames(orfL), colnames(gmL))\n",
    "diff_bool_L <- orfL[common_ids, common_cols] != gmL[common_ids, common_cols]\n",
    "# if germline is -\n",
    "diff_bool_L <- ifelse(gmL != '-', diff_bool_L, FALSE)\n",
    "colnames(diff_bool_L) <- str_c('imgt_L', colnames(diff_bool_L))"
   ]
  },
  {
   "cell_type": "code",
   "execution_count": null,
   "id": "f2ca6139-edd0-4941-a188-6cbc7d95f26d",
   "metadata": {},
   "outputs": [],
   "source": [
    "TBmut <- TBwider %>% select(cell, sequence_id_H, sequence_id_L) %>%\n",
    "    left_join(r2c(as.data.frame(diff_bool_H), 'sequence_id_H'), by='sequence_id_H') %>%\n",
    "    left_join(r2c(as.data.frame(diff_bool_L), 'sequence_id_L'), by='sequence_id_L') %>%\n",
    "    select(-matches('^sequence_id'))"
   ]
  },
  {
   "cell_type": "code",
   "execution_count": null,
   "id": "663569da-fb50-4604-a8bb-3fd4e0368892",
   "metadata": {},
   "outputs": [],
   "source": [
    "TBwider <- TBwider %>% left_join(TBmut, by='cell')"
   ]
  },
  {
   "cell_type": "code",
   "execution_count": null,
   "id": "4de49257-27c6-4a40-8a91-d26ce763dd41",
   "metadata": {},
   "outputs": [],
   "source": [
    "# stat\n",
    "Lstat <- list()"
   ]
  },
  {
   "cell_type": "code",
   "execution_count": null,
   "id": "01690bac-0126-4ca6-a91d-5a07bbde3004",
   "metadata": {},
   "outputs": [],
   "source": [
    "# write\n",
    "write_excel_csv(TBwider, Pcsv)\n",
    "write_yaml(Lstat, file=Pstat)"
   ]
  },
  {
   "cell_type": "code",
   "execution_count": null,
   "id": "2aafc260-5e61-447f-a8a3-b6ec61cc325a",
   "metadata": {
    "tags": []
   },
   "outputs": [],
   "source": [
    "dir.create(Pstat_dir, recursive = TRUE)\n",
    "file.copy(Pcsv, str_c(Pstat_dir, '/', basename(Pcsv)), overwrite=TRUE)\n",
    "file.copy(Pstat, str_c(Pstat_dir, '/', basename(Pstat)), overwrite=TRUE)"
   ]
  }
 ],
 "metadata": {
  "kernelspec": {
   "display_name": "R_ab",
   "language": "R",
   "name": "r_ab"
  },
  "language_info": {
   "codemirror_mode": "r",
   "file_extension": ".r",
   "mimetype": "text/x-r-source",
   "name": "R",
   "pygments_lexer": "r",
   "version": "4.2.3"
  }
 },
 "nbformat": 4,
 "nbformat_minor": 5
}
