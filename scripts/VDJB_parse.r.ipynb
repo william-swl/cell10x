{
 "cells": [
  {
   "cell_type": "code",
   "execution_count": null,
   "id": "9fc1450c-d6c5-4f29-bcf5-c46c61937c33",
   "metadata": {
    "tags": []
   },
   "outputs": [],
   "source": [
    "R.home()"
   ]
  },
  {
   "cell_type": "code",
   "execution_count": null,
   "id": "ff084c0e-358b-4dca-b51f-aa6c33c9f280",
   "metadata": {},
   "outputs": [],
   "source": [
    "baizer::pkglib(tidyverse, Biostrings, Peptides, baizer, genogamesh, yaml)"
   ]
  },
  {
   "cell_type": "code",
   "execution_count": null,
   "id": "aa9f3fb8-29e4-4e9d-9d0c-d65bcf398e98",
   "metadata": {},
   "outputs": [],
   "source": [
    "sample <- snakemake@wildcards[['sample']]\n",
    "\n",
    "# replace default configs with sample configs\n",
    "config <- replace_item(snakemake@config, snakemake@config[[sample]])\n",
    "ab_scheme <- str_to_lower(config[['ext_numbering']])"
   ]
  },
  {
   "cell_type": "code",
   "execution_count": null,
   "id": "5973521c-0507-42c5-acfb-de6da41d6e6f",
   "metadata": {},
   "outputs": [],
   "source": [
    "# read from igblast\n",
    "TBigblast_tsv <- read_tsv(snakemake@input[['VDJB_igblast_tsv']])\n",
    "TBshm <- parse_IgBlast_shm(snakemake@input[['VDJB_igblast_txt']])\n",
    "\n",
    "# read from cellranger\n",
    "TBcr_airr <- read_tsv(str_c(snakemake@input[['count_dir']], str_glue(config[['count_VDJB_airr']]), sep='/'))\n",
    "TBcr_anno <- read_csv(str_c(snakemake@input[['count_dir']], str_glue(config[['count_VDJB_anno']]), sep='/'))\n",
    "\n",
    "# read from changeo\n",
    "TBchangeo <- bind_rows(read_tsv(snakemake@input[['VDJB_changeo']]), read_tsv(snakemake@input[['VDJB_changeo_fail']]))\n",
    "\n",
    "# read from anarci\n",
    "TBext_anarci_H <- read_csv(snakemake@input[['VDJB_ext_anarci_H']])\n",
    "TBext_anarci_L <- read_csv(snakemake@input[['VDJB_ext_anarci_KL']])\n",
    "TBext_anarci_seq <- bind_rows(\n",
    "    parse_ANARCI_aaseq(TBext_anarci_H, chain='H', scheme=ab_scheme),\n",
    "    parse_ANARCI_aaseq(TBext_anarci_L, chain='L', scheme=ab_scheme)\n",
    ") %>% rename_at(str_subset(colnames(.), 'cdr\\\\d_aa'), ~str_c(ab_scheme, .x, sep='_'))"
   ]
  },
  {
   "cell_type": "code",
   "execution_count": null,
   "id": "31cc7814-7c78-444d-a54a-daa78fd1eea9",
   "metadata": {},
   "outputs": [],
   "source": [
    "# main and fine x_call\n",
    "gene_cols <- str_subset(colnames(TBigblast_tsv), '_call$')\n",
    "\n",
    "TBigblast_tsv <- TBigblast_tsv %>%\n",
    "    # extract first fine gene to _fine cols\n",
    "    mutate(across(all_of(gene_cols), ~reg_match(.x, '[^,]+'), .names='{.col}_fine')) %>%\n",
    "    # extract first main gene \n",
    "    mutate(across(all_of(gene_cols), ~reg_match(.x, '[^\\\\*]+'))) %>%\n",
    "    # rename\n",
    "    rename_at(c(gene_cols, str_c(gene_cols, '_fine')), \n",
    "              ~str_replace_all(.x, '_call', '_gene'))\n",
    "\n",
    "# cdr length, the length of NA cdr will be NA\n",
    "cdr_aa_cols <- str_subset(colnames(TBigblast_tsv), 'cdr\\\\d_aa')\n",
    "TBigblast_tsv <- TBigblast_tsv %>%\n",
    "    mutate(across(all_of(cdr_aa_cols), ~nchar(.x), .names='{.col}_len'))\n",
    "\n",
    "# rename shm columns\n",
    "\n",
    "TBshm <- TBshm %>% rename_at(-1, ~str_to_lower(.x) %>% str_c('_mismatch_nt')) %>%\n",
    "    mutate(v_domain_shm_nt = \n",
    "           sum(c(v_mismatch_nt, d_mismatch_nt, j_mismatch_nt), na.rm=TRUE), \n",
    "           .by=sequence_id)\n",
    "\n",
    "# cdr3 aa feature, the feature of NA cdr3 will be NA\n",
    "TBaafeature <- TBigblast_tsv %>% select(sequence_id, cdr3_aa) %>% mutate(\n",
    "    cdr3_charge=ifelse(!is.na(cdr3_aa), charge(seq=cdr3_aa, pH=7.4, pKscale='EMBOSS'), NA),\n",
    "    cdr3_hydrophobicity=map_dbl(cdr3_aa, ~ifelse(!is.na(.x), hydrophobicity(seq=.x, scale='Eisenberg'), NA)),\n",
    "    cdr3_boman=map_dbl(cdr3_aa, ~ifelse(!is.na(.x), boman(seq=.x), NA)),\n",
    "    # if nchar of cdr3 <= 2, instaIndex will throw an error\n",
    "    cdr3_instaindex = map_dbl(cdr3_aa, ~ifelse(!is.na(.x) & nchar(.x) > 2, instaIndex(seq=.x), NA))\n",
    ") %>% select(-cdr3_aa)"
   ]
  },
  {
   "cell_type": "code",
   "execution_count": null,
   "id": "1b9870f1-c6c8-4bb9-8a3a-38b0a04cc51d",
   "metadata": {},
   "outputs": [],
   "source": [
    "##################################\n",
    "### select cols\n",
    "##################################"
   ]
  },
  {
   "cell_type": "code",
   "execution_count": null,
   "id": "e75a6baf-527c-4e9c-87b0-4a29fa35c7ee",
   "metadata": {},
   "outputs": [],
   "source": [
    "# columns from igblast\n",
    "TBigblast_sel <- TBigblast_tsv %>% select(\n",
    "                    sequence_id, productive_igblast=productive, chain=locus, \n",
    "                    v_gene, d_gene, j_gene, v_gene_fine, d_gene_fine, j_gene_fine, \n",
    "                    cdr1_aa_len, cdr2_aa_len, cdr3_aa_len,\n",
    "                    cdr1_nt=cdr1, cdr1_aa, cdr2_nt=cdr2, cdr2_aa, cdr3_nt=cdr3, cdr3_aa, np1_nt=np1, np2_nt=np2,\n",
    "                    fwr1_nt=fwr1, fwr1_aa, fwr2_nt=fwr2, fwr2_aa, fwr3_nt=fwr3, fwr3_aa, fwr4_nt=fwr4, fwr4_aa,\n",
    "                    v_start=v_sequence_start, v_end=v_sequence_end, \n",
    "                    d_start=d_sequence_start, d_end=d_sequence_end,\n",
    "                    j_start=j_sequence_start, j_end=j_sequence_end,\n",
    "                    seq_nt=sequence, seq_align_nt=sequence_alignment, gm_align_nt=germline_alignment\n",
    "        ) \n",
    "\n",
    "# columns from shm\n",
    "TBshm_sel <- TBshm %>%\n",
    "    relocate(sequence_id, v_domain_shm_nt, contains('cdr'), contains('fwr'))\n",
    "\n",
    "# columns from cellranger annotation\n",
    "TBcr_annot_sel <- TBcr_anno %>% select(cell=barcode, sequence_id=contig_id, \n",
    "                                       productive_cellranger=productive, clone_cellranger=raw_clonotype_id, reads, umis, c_gene)\n",
    "\n",
    "# columns from cellranger airr\n",
    "TBcr_airr_sel <- TBcr_airr %>% select(sequence_id, seq_aa=sequence_aa)\n",
    "\n",
    "# columns from changeo\n",
    "TBchangeo_sel <- TBchangeo %>% select(sequence_id, clone_changeo=clone_id, seq_gm=germline_alignment_d_mask)\n",
    "\n",
    "# columns from anarci\n",
    "TBext_anarci_seq <- TBext_anarci_seq"
   ]
  },
  {
   "cell_type": "code",
   "execution_count": null,
   "id": "c0ec02e8-a5ea-4060-84ce-6a159d90a993",
   "metadata": {},
   "outputs": [],
   "source": [
    "##################################\n",
    "### join\n",
    "##################################"
   ]
  },
  {
   "cell_type": "code",
   "execution_count": null,
   "id": "3b9b67a1-b04a-4a74-994d-0643265dcd70",
   "metadata": {},
   "outputs": [],
   "source": [
    "TBjoin <- TBigblast_sel %>% left_join(TBshm_sel, by='sequence_id') %>%\n",
    "    relocate(all_of(colnames(TBshm_sel)[-1]), .after=cdr3_aa_len)\n",
    "\n",
    "TBjoin <- TBjoin %>% left_join(TBcr_annot_sel, by='sequence_id') %>%\n",
    "    relocate(cell, productive_cellranger, .after=sequence_id) %>%\n",
    "    relocate(clone_cellranger, reads, umis, c_gene, .after=chain)\n",
    "\n",
    "TBjoin <- TBjoin %>% left_join(TBcr_airr_sel, by='sequence_id') %>%\n",
    "    relocate(seq_aa, .after=seq_nt)\n",
    "\n",
    "TBjoin <- TBjoin %>% left_join(TBchangeo_sel, by='sequence_id') %>%\n",
    "     relocate(clone_changeo, .after=clone_cellranger)\n",
    "\n",
    "TBjoin <- TBjoin %>% left_join(TBext_anarci_seq, by='sequence_id') %>%\n",
    "    relocate(matches('cdr\\\\d_aa'), .after=fwr4_aa) %>%\n",
    "    relocate(seq_align_aa, .after=seq_align_nt)\n",
    "\n",
    "TBjoin <- TBjoin %>% left_join(TBaafeature, by='sequence_id') %>%\n",
    "    relocate(all_of(colnames(TBshm_sel)[-1]), .after=cdr3_aa)"
   ]
  },
  {
   "cell_type": "code",
   "execution_count": null,
   "id": "0120f615-b991-46ce-88f3-5abbcb65bcc6",
   "metadata": {},
   "outputs": [],
   "source": [
    "# calculate shm ratio\n",
    "TBjoin <- TBjoin %>% mutate(v_domain_shm_ratio = round(v_domain_shm_nt/nchar(seq_align_nt), 4), \n",
    "                  .after=v_domain_shm_nt)"
   ]
  },
  {
   "cell_type": "code",
   "execution_count": null,
   "id": "2a9e1aea-a1ad-4f89-95b9-6147e978a24f",
   "metadata": {},
   "outputs": [],
   "source": [
    "##################################\n",
    "### widen for HL\n",
    "##################################"
   ]
  },
  {
   "cell_type": "code",
   "execution_count": null,
   "id": "d22d41e8-ed4b-4114-b443-4b3d8d6c2900",
   "metadata": {},
   "outputs": [],
   "source": [
    "TBjoin <- TBjoin %>% mutate(HL=case_when(chain=='IGH' ~ 'H', chain=='IGL' ~ 'L', chain=='IGK' ~ 'L')) %>%\n",
    "    mutate(HL=factor(HL, c('H', 'L'))) %>% \n",
    "    # remove the contigs unknown\n",
    "    filter(!is.na(HL))"
   ]
  },
  {
   "cell_type": "code",
   "execution_count": null,
   "id": "6de00ffb-0186-4f9c-9641-f6a8e4720194",
   "metadata": {},
   "outputs": [],
   "source": [
    "# contig numbers of a cell, and whether there is only an unique H or L\n",
    "TBunique <- TBjoin %>% group_by(cell, HL) %>% summarise(contig_num = n(), unique = n() == 1) %>%\n",
    "    ungroup"
   ]
  },
  {
   "cell_type": "code",
   "execution_count": null,
   "id": "ddc90f56-5a1a-4bc4-be0a-5e3ddb187fe7",
   "metadata": {},
   "outputs": [],
   "source": [
    "# for multi-contigs, only keep the first one with most umis\n",
    "TBjoin <- TBjoin %>% group_by(cell, HL) %>% arrange(desc(umis)) %>% dplyr::slice(1) %>% ungroup %>%\n",
    "    arrange(HL, cell, sequence_id)"
   ]
  },
  {
   "cell_type": "code",
   "execution_count": null,
   "id": "f5b020f4-7e01-4fa5-889c-d4855fa26e9e",
   "metadata": {},
   "outputs": [],
   "source": [
    "TBjoin <- TBjoin %>% left_join(TBunique, by=c('cell', 'HL')) %>%\n",
    "    relocate(contig_num, unique, .after=umis)"
   ]
  },
  {
   "cell_type": "code",
   "execution_count": null,
   "id": "a02416d7-96ef-4f6f-b0c3-91eac678d11a",
   "metadata": {},
   "outputs": [],
   "source": [
    "# pivot\n",
    "keep_col <- c('cell', 'HL')\n",
    "TBwider <- TBjoin %>% pivot_wider(names_from='HL', values_from=-all_of(keep_col))"
   ]
  },
  {
   "cell_type": "code",
   "execution_count": null,
   "id": "dae4d64f-8abb-4d6c-852a-406f2079eff8",
   "metadata": {},
   "outputs": [],
   "source": [
    "# unique, productive, clone_cellranger, class\n",
    "TBwider <- TBwider %>% \n",
    "    mutate(productive_igblast=productive_igblast_H & productive_igblast_L,\n",
    "           productive_cellranger=productive_cellranger_H & productive_cellranger_H,\n",
    "           unique = unique_H & unique_L, \n",
    "           class=str_sub(c_gene_H, 1, 4) %>% str_replace('GH', 'g'),\n",
    "           clone_cellranger = case_when(!is.na(clone_cellranger_H) ~ clone_cellranger_H,\n",
    "                                        !is.na(clone_cellranger_L) ~ clone_cellranger_L),\n",
    "           clone_changeo=str_glue('{clone_changeo_H}-{clone_changeo_L}'),\n",
    "           .after=cell\n",
    "          )\n",
    "# if single contig\n",
    "TBwider <- TBwider %>% mutate(\n",
    "    productive_igblast=ifelse(is.na(seq_nt_H) | is.na(seq_nt_L), FALSE, productive_igblast),\n",
    "    productive_cellranger=ifelse(is.na(seq_nt_H) | is.na(seq_nt_L), FALSE, productive_cellranger),\n",
    "    unique=ifelse(is.na(seq_nt_H) | is.na(seq_nt_L), FALSE, unique)\n",
    ")"
   ]
  },
  {
   "cell_type": "code",
   "execution_count": null,
   "id": "87df6a81-eb73-4d00-b97a-8e887bfd730a",
   "metadata": {},
   "outputs": [],
   "source": [
    "##################################\n",
    "### mutation target\n",
    "##################################"
   ]
  },
  {
   "cell_type": "code",
   "execution_count": null,
   "id": "6f2b1073-baa6-41dc-99e1-4937313fccb1",
   "metadata": {},
   "outputs": [],
   "source": [
    "# Hchain mut\n",
    "orfH <- parse_ANARCI_aaseq(read_csv(snakemake@input[['VDJB_orf_anarci_H']]), chain='H', keep_number=TRUE) %>% \n",
    "    select(id=sequence_id, matches('^\\\\d')) %>% c2r('id')\n",
    "gmH <- parse_ANARCI_aaseq(read_csv(snakemake@input[['VDJB_gm_anarci_H']]), chain='H', keep_number=TRUE) %>% \n",
    "    select(id=sequence_id, matches('^\\\\d')) %>% c2r('id')\n",
    "common_ids <- intersect(rownames(orfH), rownames(gmH))\n",
    "common_cols <- intersect(colnames(orfH), colnames(gmH))\n",
    "diff_bool_H <- orfH[common_ids, common_cols] != gmH[common_ids, common_cols]\n",
    "# if germline is -\n",
    "diff_bool_H <- ifelse(gmH != '-', diff_bool_H, FALSE)\n",
    "colnames(diff_bool_H) <- str_c('imgt_H', colnames(diff_bool_H))"
   ]
  },
  {
   "cell_type": "code",
   "execution_count": null,
   "id": "9d262d07-95a6-4dfa-aff9-651e5f70883a",
   "metadata": {},
   "outputs": [],
   "source": [
    "# Lchain mut\n",
    "orfL <- parse_ANARCI_aaseq(read_csv(snakemake@input[['VDJB_orf_anarci_KL']]), chain='L', keep_number=TRUE) %>% \n",
    "    select(id=sequence_id, matches('^\\\\d')) %>% c2r('id')\n",
    "gmL <- parse_ANARCI_aaseq(read_csv(snakemake@input[['VDJB_gm_anarci_KL']]), chain='L', keep_number=TRUE) %>% \n",
    "    select(id=sequence_id, matches('^\\\\d')) %>% c2r('id')\n",
    "common_ids <- intersect(rownames(orfL), rownames(gmL))\n",
    "common_cols <- intersect(colnames(orfL), colnames(gmL))\n",
    "diff_bool_L <- orfL[common_ids, common_cols] != gmL[common_ids, common_cols]\n",
    "# if germline is -\n",
    "diff_bool_L <- ifelse(gmL != '-', diff_bool_L, FALSE)\n",
    "colnames(diff_bool_L) <- str_c('imgt_L', colnames(diff_bool_L))"
   ]
  },
  {
   "cell_type": "code",
   "execution_count": null,
   "id": "35248341-307c-4839-a996-2a027ef4874c",
   "metadata": {},
   "outputs": [],
   "source": [
    "TBmut <- TBwider %>% select(cell, sequence_id_H, sequence_id_L) %>%\n",
    "    left_join(r2c(as.data.frame(diff_bool_H), 'sequence_id_H'), by='sequence_id_H') %>%\n",
    "    left_join(r2c(as.data.frame(diff_bool_L), 'sequence_id_L'), by='sequence_id_L') %>%\n",
    "    select(-matches('^sequence_id'))\n",
    "TBmut <- TBmut %>% mutate(batch = sample, .after=cell)"
   ]
  },
  {
   "cell_type": "code",
   "execution_count": null,
   "id": "af91656e-8076-4c19-ab10-8e4060716596",
   "metadata": {},
   "outputs": [],
   "source": [
    "TBwider <- TBwider %>% left_join(TBmut, by='cell')\n",
    "TBwider <- TBwider %>% mutate(batch = sample, .after=cell)"
   ]
  },
  {
   "cell_type": "code",
   "execution_count": null,
   "id": "f7f59c68-a60f-488f-b96b-8e90d9cb5e55",
   "metadata": {},
   "outputs": [],
   "source": [
    "# stat\n",
    "\n",
    "TBmtx <- read_csv(str_c(snakemake@input[['count_dir']], str_glue(config[['count_VDJB_mtx']]), sep='/')) %>% \n",
    "    dplyr::rename(item=`Metric Name`, value=`Metric Value`) %>%\n",
    "    filter(`Library Type` == 'VDJ B')"
   ]
  },
  {
   "cell_type": "code",
   "execution_count": null,
   "id": "623d2082-68a1-4580-b0cd-3210d9e5a4d0",
   "metadata": {},
   "outputs": [],
   "source": [
    "Lstat <- TBmtx %>% distinct(item, value) %>% pivot_wider(names_from='item', values_from='value') %>% select(any_of(c(\n",
    "    'cells'='Estimated number of cells', \n",
    "    'mean_reads'='Mean reads per cell', \n",
    "    'median_IGH'='Median IGH UMIs per Cell', \n",
    "    'median_IGK'='Median IGK UMIs per Cell', \n",
    "    'median_IGL'='Median IGL UMIs per Cell', \n",
    "    'align_rate'='Reads mapped to any V(D)J gene', \n",
    "    'total_reads'='Number of reads', \n",
    "    'Q30_barcode'='Q30 barcodes', \n",
    "    'Q30_umi'='Q30 UMI', \n",
    "    'Q30_R1'='Q30 RNA read',\n",
    "    'Q30_R2'='Q30 RNA read 2'\n",
    "))) %>% as.list"
   ]
  },
  {
   "cell_type": "code",
   "execution_count": null,
   "id": "5cb7c21d-a098-403a-8f25-b53b7ffc21d5",
   "metadata": {},
   "outputs": [],
   "source": [
    "# write\n",
    "dir.create(dirname(snakemake@output[['VDJB_csv']]), recursive = TRUE)\n",
    "write_excel_csv(TBmut, snakemake@output[['VDJB_mut']])\n",
    "write_excel_csv(TBwider, snakemake@output[['VDJB_csv']])\n",
    "write_yaml(Lstat, file=snakemake@output[['VDJB_stat']])"
   ]
  },
  {
   "cell_type": "code",
   "execution_count": null,
   "id": "518e5d23-e174-4c9e-9f41-f5b3094a03be",
   "metadata": {
    "tags": []
   },
   "outputs": [],
   "source": [
    "dir.create(snakemake@output[['stat_dir']], recursive = TRUE)\n",
    "file.copy(snakemake@output[['VDJB_csv']], \n",
    "          str_c(snakemake@output[['stat_dir']], '/', basename(snakemake@output[['VDJB_csv']])), \n",
    "          overwrite=TRUE)\n",
    "file.copy(snakemake@output[['VDJB_stat']], \n",
    "          str_c(snakemake@output[['stat_dir']], '/', basename(snakemake@output[['VDJB_stat']])), \n",
    "          overwrite=TRUE)\n",
    "# copy changeo\n",
    "file.copy(snakemake@input[['VDJB_changeo']], \n",
    "          str_c(snakemake@output[['stat_dir']], '/', basename(snakemake@input[['VDJB_changeo']])), \n",
    "          overwrite=TRUE)"
   ]
  }
 ],
 "metadata": {
  "kernelspec": {
   "display_name": "R_ab",
   "language": "R",
   "name": "r_ab"
  },
  "language_info": {
   "codemirror_mode": "r",
   "file_extension": ".r",
   "mimetype": "text/x-r-source",
   "name": "R",
   "pygments_lexer": "r",
   "version": "4.2.3"
  }
 },
 "nbformat": 4,
 "nbformat_minor": 5
}
