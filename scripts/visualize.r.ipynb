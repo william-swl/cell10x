{
 "cells": [
  {
   "cell_type": "code",
   "execution_count": null,
   "id": "fa9661a5-87f3-484e-ba43-9a06bc9cb58d",
   "metadata": {},
   "outputs": [],
   "source": [
    "baizer::pkglib(baizer, tidyverse, ggsci, ggbeeswarm, plutor, ComplexHeatmap, plotly, ggplotify, echarts4r)"
   ]
  },
  {
   "cell_type": "code",
   "execution_count": null,
   "id": "a6b7a8c7-d554-4539-8e7c-2ec466f1d6f4",
   "metadata": {},
   "outputs": [],
   "source": [
    "sample <- snakemake@wildcards[['sample']]\n",
    "\n",
    "# replace default configs with sample configs\n",
    "config <- replace_item(snakemake@config, snakemake@config[[sample]])\n",
    "Lflt_mode <- names(config[['flt_mode']])"
   ]
  },
  {
   "cell_type": "code",
   "execution_count": null,
   "id": "2998b5db-0be3-4521-bf21-af5374116aa6",
   "metadata": {},
   "outputs": [],
   "source": [
    "filter_dir <- snakemake@input[['filter_dir']]\n",
    "stat_dir <- snakemake@input[['stat_dir']]"
   ]
  },
  {
   "cell_type": "code",
   "execution_count": null,
   "id": "1fb121b4-1857-47f3-bbeb-b6da92824389",
   "metadata": {},
   "outputs": [],
   "source": [
    "flt_mode <- Lflt_mode[1]"
   ]
  },
  {
   "cell_type": "code",
   "execution_count": null,
   "id": "6b8d4817-03e7-4904-925d-d053262f8237",
   "metadata": {},
   "outputs": [],
   "source": [
    "TBkeep <- read_csv(str_glue('{filter_dir}/{flt_mode}_keep.csv'))\n",
    "TBflt <- read_csv(str_glue('{filter_dir}/{flt_mode}_flt.csv'))"
   ]
  },
  {
   "cell_type": "code",
   "execution_count": null,
   "id": "d36d9e1c-7061-4e7b-abd7-c27623324de5",
   "metadata": {},
   "outputs": [],
   "source": [
    "Vcol <- c('#E64B35FF', '#4DBBD5FF', '#00A087FF', '#3C5488FF', '#F39B7FFF', '#8491B4FF', '#91D1C2FF', '#DC0000FF', '#7E6148FF', '#B09C85FF', '#1F77B4FF', '#FF7F0EFF', '#2CA02CFF', '#D62728FF', '#9467BDFF', '#8C564BFF', '#E377C2FF', '#7F7F7FFF', '#BCBD22FF', '#17BECFFF', '#AEC7E8FF', '#FFBB78FF', '#98DF8AFF', '#FF9896FF', '#C5B0D5FF', '#C49C94FF', '#F7B6D2FF', '#C7C7C7FF', '#DBDB8DFF', '#9EDAE5FF')\n",
    "grey_col <- '#f5f5f5'"
   ]
  },
  {
   "cell_type": "code",
   "execution_count": null,
   "id": "e12a365d-f167-45b1-bea0-7aa68fd6e1fe",
   "metadata": {},
   "outputs": [],
   "source": [
    "# filter"
   ]
  },
  {
   "cell_type": "code",
   "execution_count": null,
   "id": "17d1d32d-ddba-4b6c-9158-e3ba24fd840a",
   "metadata": {
    "tags": []
   },
   "outputs": [],
   "source": [
    "TBkeep <- TBkeep %>% c2r('cell') %>% seriate_df %>% r2c('cell')"
   ]
  },
  {
   "cell_type": "code",
   "execution_count": null,
   "id": "71cf2db4-4e5f-4489-9684-566a1fc4b939",
   "metadata": {},
   "outputs": [],
   "source": [
    "TBkeep_longer <- TBkeep %>% pivot_longer(-cell, names_to='term', values_to='value')"
   ]
  },
  {
   "cell_type": "code",
   "execution_count": null,
   "id": "822664ab-ea51-42ea-be43-2287f0493dd3",
   "metadata": {},
   "outputs": [],
   "source": [
    "TBkeep_longer %>% \n",
    "  mutate(term=str_replace(term, '_keep$', '')) %>%\n",
    "  e_charts(term) %>% \n",
    "  e_heatmap(cell, value) %>%\n",
    "  e_visual_map(value) %>%\n",
    "  e_title(\"Filter\") %>%\n",
    "  e_x_axis(axisLabel=list(interval=0, rotate=45)) %>%\n",
    "  e_y_axis(show=FALSE)"
   ]
  },
  {
   "cell_type": "code",
   "execution_count": null,
   "id": "e7dfe2af-776d-40ac-8080-bd4ab542991a",
   "metadata": {},
   "outputs": [],
   "source": [
    "as_tibble(TBkeep %>% select(-cell) %>% apply(2, sum), rownames='term') %>%\n",
    "  mutate(term=str_replace(term, '_keep$', '')) %>%\n",
    "  e_charts(term) %>%\n",
    "  e_bar(value) %>%\n",
    "  e_x_axis(axisLabel=list(interval=0, rotate=45)) %>%\n",
    "  e_title(\"Filter\") "
   ]
  },
  {
   "cell_type": "code",
   "execution_count": null,
   "id": "6ab55104-72cf-4b8d-8b20-3c4908840235",
   "metadata": {},
   "outputs": [],
   "source": [
    "# FB"
   ]
  },
  {
   "cell_type": "code",
   "execution_count": null,
   "id": "e5a0bc52-09a4-4cdc-aa85-d1ef6ef52d5d",
   "metadata": {},
   "outputs": [],
   "source": [
    "## HT"
   ]
  },
  {
   "cell_type": "code",
   "execution_count": null,
   "id": "1d0b3b17-9482-4259-b173-72c9e449de88",
   "metadata": {},
   "outputs": [],
   "source": [
    "if (length(config[[sample]][['id2seq']][['HT']]) > 0) {\n",
    "    TBfb_ht <- TBflt %>% select(cell, matches('^HT_'), sum_HT)\n",
    "\n",
    "    e1 <- TBfb_ht %>% \n",
    "        group_by(HT_group) %>% \n",
    "        e_charts(sum_HT) %>% \n",
    "        e_title(\"Hashtag\") %>%\n",
    "        e_scatter(HT_ratio, symbol_size=10) %>%\n",
    "        e_tooltip(trigger = 'axis')\n",
    "\n",
    "    e2 <- TBfb_ht %>% count(HT_group) %>%\n",
    "      e_charts(HT_group) |> \n",
    "      e_pie(n, radius = c(\"50%\", \"70%\")) |> \n",
    "      e_title(\"Hashtag group\")\n",
    "    \n",
    "    e_arrange(e1, e2)\n",
    "}"
   ]
  },
  {
   "cell_type": "code",
   "execution_count": null,
   "id": "e82b6a1c-bc25-4858-bcf2-a2c61f0119ef",
   "metadata": {},
   "outputs": [],
   "source": [
    "## BD"
   ]
  },
  {
   "cell_type": "code",
   "execution_count": null,
   "id": "51c5c97e-b522-4b98-84d7-d2a1e381ac27",
   "metadata": {},
   "outputs": [],
   "source": [
    "TBfb_bd <- TBflt %>% select(cell, matches('^BD_[^#]+$'), -matches('_ratio$'), -BD_type)"
   ]
  },
  {
   "cell_type": "code",
   "execution_count": null,
   "id": "f654d96b-655c-4492-aec6-69251971581d",
   "metadata": {},
   "outputs": [],
   "source": [
    "TBfb_bd_longer <- TBfb_bd %>% c2r('cell') %>% seriate_df %>% r2c('cell') %>% \n",
    "    pivot_longer(-cell, names_to='BD', values_to='value')"
   ]
  },
  {
   "cell_type": "code",
   "execution_count": null,
   "id": "2dbfebb5-0ad4-4ec4-87d0-26ece284e02d",
   "metadata": {},
   "outputs": [],
   "source": [
    "TBfb_bd_longer %>% \n",
    "  e_charts(BD) %>% \n",
    "  e_heatmap(cell, value) %>%\n",
    "  e_visual_map(value) %>%\n",
    "  e_title(\"Binding\") %>%\n",
    "  e_x_axis(axisLabel=list(interval=0, rotate=45)) %>%\n",
    "  e_y_axis(show=FALSE)"
   ]
  },
  {
   "cell_type": "code",
   "execution_count": null,
   "id": "e622328e-92ce-4843-8e02-292c006423f9",
   "metadata": {},
   "outputs": [],
   "source": [
    "TBfb_bd <- TBflt %>% select(cell, matches('^BD_.+_ratio$'))"
   ]
  },
  {
   "cell_type": "code",
   "execution_count": null,
   "id": "4dbfcfe5-9388-43ad-b60b-3a4ad9665e25",
   "metadata": {},
   "outputs": [],
   "source": [
    "TBfb_bd_longer <- TBfb_bd %>% c2r('cell') %>% \n",
    "    seriate_df %>% r2c('cell') %>% \n",
    "    pivot_longer(-cell, names_to='BD', values_to='value')"
   ]
  },
  {
   "cell_type": "code",
   "execution_count": null,
   "id": "e9dce492-933c-460d-bd33-5ca58343a06c",
   "metadata": {},
   "outputs": [],
   "source": [
    "TBfb_bd_longer %>% \n",
    "  e_charts(BD) %>% \n",
    "  e_heatmap(cell, value) %>%\n",
    "  e_visual_map(value) %>%\n",
    "  e_title(\"Binding ratio\") %>%\n",
    "  e_x_axis(axisLabel=list(interval=0, rotate=45)) %>%\n",
    "  e_y_axis(show=FALSE)"
   ]
  },
  {
   "cell_type": "code",
   "execution_count": null,
   "id": "a4cb9c10-d068-43ab-90e7-18bea1935ed0",
   "metadata": {},
   "outputs": [],
   "source": [
    "js <- '\n",
    "formatter(param) {\n",
    "  return param.name + \" (\" + param.percent * 2 + \"%)\";\n",
    "}\n",
    "'\n",
    "js <- structure(js, class = c(\"JS_EVAL\"))"
   ]
  },
  {
   "cell_type": "code",
   "execution_count": null,
   "id": "191d1adf-aec5-44dd-be99-6752ee75dcfd",
   "metadata": {},
   "outputs": [],
   "source": [
    "TBflt %>% count(BD_type) %>%\n",
    "  e_charts(BD_type) %>%\n",
    "  e_pie(n, radius = c(\"50%\", \"70%\"), label=list(show=TRUE, formatter='{b}({c}, {d}%)')) %>%\n",
    "  e_title(\"Binding type\")"
   ]
  },
  {
   "cell_type": "code",
   "execution_count": null,
   "id": "f4855850-7612-4df3-8f17-341dd661e61d",
   "metadata": {},
   "outputs": [],
   "source": [
    "# VDJB"
   ]
  },
  {
   "cell_type": "code",
   "execution_count": null,
   "id": "8be275f6-5ab3-4b87-b95b-5fc58a81a1d4",
   "metadata": {
    "tags": []
   },
   "outputs": [],
   "source": [
    "TBp <- TBflt %>% count(clone=clone_cellranger) \n",
    "Nclones <- TBp %>% filter(n > 1) %>% nrow\n",
    "Nclones_percent <- float_to_percent(Nclones / nrow(TBflt))\n",
    "\n",
    "TBp %>%\n",
    "  e_charts(clone) %>%\n",
    "  e_pie(n, radius = c(\"50%\", \"70%\"), label=list(show=TRUE, position='center', formatter=Nclones_percent), \n",
    "        itemStyle=list(borderColor='grey')) %>%\n",
    "  e_title(\"Class\") %>%\n",
    "  e_legend(show=FALSE) %>%\n",
    "  pe_color(gradient_color(Vcol, n=seq_len(Nclones)), default=grey_col)"
   ]
  },
  {
   "cell_type": "code",
   "execution_count": null,
   "id": "0836b443-6956-47a6-9cc2-d9bb5d9aa0d6",
   "metadata": {},
   "outputs": [],
   "source": [
    "TBflt %>% count(class) %>% filter(!is.na(class)) %>%\n",
    "  e_charts(class) %>%\n",
    "  e_pie(n, radius = c(\"50%\", \"70%\")) %>%\n",
    "  e_title(\"Class\")"
   ]
  },
  {
   "cell_type": "code",
   "execution_count": null,
   "id": "b84b6dd8-48f1-4da5-99ea-a2d719c3558a",
   "metadata": {},
   "outputs": [],
   "source": [
    "TBflt %>% select(class, v_domain_shm_ratio_H) %>%\n",
    "  group_by(class) %>%\n",
    "  e_chart() %>%\n",
    "  e_density(v_domain_shm_ratio_H, areaStyle = list(opacity = .4), smooth = TRUE) %>%\n",
    "  e_tooltip() %>%\n",
    "  e_title(\"Heavy Chain SHM\")"
   ]
  },
  {
   "cell_type": "code",
   "execution_count": null,
   "id": "83a69083-0fe3-4479-804e-434b254ff300",
   "metadata": {
    "tags": []
   },
   "outputs": [],
   "source": [
    "TBflt %>% select(class, v_domain_shm_ratio_L) %>%\n",
    "  group_by(class) %>%\n",
    "  e_chart() %>%\n",
    "  e_density(v_domain_shm_ratio_L, areaStyle = list(opacity = .4), smooth = TRUE) %>%\n",
    "  e_tooltip() %>%\n",
    "  e_title(\"Light Chain SHM\")"
   ]
  },
  {
   "cell_type": "code",
   "execution_count": null,
   "id": "6cc4d9b6-4329-4871-abd1-81ffa1428071",
   "metadata": {},
   "outputs": [],
   "source": [
    "# out"
   ]
  },
  {
   "cell_type": "code",
   "execution_count": null,
   "id": "c1e36860-ef3d-4048-a1d7-ea86044d28f3",
   "metadata": {},
   "outputs": [],
   "source": [
    "out <- snakemake@output[['visualize_touch']]\n",
    "dir.create(dirname(out), recursive = TRUE)\n",
    "F <- file(out, \"w\" )\n",
    "writeLines('')\n",
    "close(F)"
   ]
  }
 ],
 "metadata": {
  "kernelspec": {
   "display_name": "R_ab",
   "language": "R",
   "name": "r_ab"
  },
  "language_info": {
   "codemirror_mode": "r",
   "file_extension": ".r",
   "mimetype": "text/x-r-source",
   "name": "R",
   "pygments_lexer": "r",
   "version": "4.2.3"
  }
 },
 "nbformat": 4,
 "nbformat_minor": 5
}
