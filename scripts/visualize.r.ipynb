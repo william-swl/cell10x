{
 "cells": [
  {
   "cell_type": "code",
   "execution_count": null,
   "id": "fa9661a5-87f3-484e-ba43-9a06bc9cb58d",
   "metadata": {
    "tags": []
   },
   "outputs": [],
   "source": [
    "baizer::pkglib(baizer, tidyverse, ggsci, ggbeeswarm, plutor, ComplexHeatmap, plotly, ggplotify, echarts4r, jsonlite, knitr, yaml)"
   ]
  },
  {
   "cell_type": "code",
   "execution_count": null,
   "id": "a6b7a8c7-d554-4539-8e7c-2ec466f1d6f4",
   "metadata": {
    "tags": []
   },
   "outputs": [],
   "source": [
    "sample <- snakemake@wildcards[['sample']]\n",
    "\n",
    "# replace default configs with sample configs\n",
    "config <- replace_item(snakemake@config, snakemake@config[[sample]])"
   ]
  },
  {
   "cell_type": "code",
   "execution_count": null,
   "id": "860fffa6-296c-47ab-b0cb-ba3849a1ae4b",
   "metadata": {},
   "outputs": [],
   "source": [
    "filter_dir <- snakemake@input[['filter_dir']]\n",
    "stat_dir <- snakemake@params[['stat_dir']]"
   ]
  },
  {
   "cell_type": "code",
   "execution_count": null,
   "id": "a50678ae-b74f-40f0-828d-20ff1de889bc",
   "metadata": {},
   "outputs": [],
   "source": [
    "# theme and colors\n",
    "mytheme <- readLines(snakemake@params[['echarts_theme']]) %>% str_c(collapse='')\n",
    "theme_list <- fromJSON(snakemake@params[['echarts_theme']])\n",
    "Vcol <- theme_list$color\n",
    "grey_col <- '#f5f5f5'"
   ]
  },
  {
   "cell_type": "code",
   "execution_count": null,
   "id": "ae7b9544-48e9-42de-bebd-5de641890252",
   "metadata": {},
   "outputs": [],
   "source": [
    "# list to save all results\n",
    "Lres <- list()"
   ]
  },
  {
   "cell_type": "code",
   "execution_count": null,
   "id": "1eafc1d7-f1a5-4b32-be0c-908ba4a774f6",
   "metadata": {},
   "outputs": [],
   "source": [
    "for (flt_mode in names(config[['flt_mode']])) {\n",
    "    if (str_c(flt_mode, '_flt.csv') %in% dir(stat_dir)) {\n",
    "        TBkeep <- read_csv(str_glue('{filter_dir}/{flt_mode}_keep.csv'))\n",
    "        TBflt <- read_csv(str_glue('{filter_dir}/{flt_mode}_flt.csv'))\n",
    "        \n",
    "        Lres[[flt_mode]] <- list(df=TBflt, keep=TBkeep)\n",
    "    }\n",
    "}"
   ]
  },
  {
   "cell_type": "code",
   "execution_count": null,
   "id": "71674abe-a702-424b-a730-7867e9662dc2",
   "metadata": {},
   "outputs": [],
   "source": [
    "# filter"
   ]
  },
  {
   "cell_type": "code",
   "execution_count": null,
   "id": "25a69ddc-46a7-4801-90e7-f9da2d02f4a7",
   "metadata": {
    "tags": []
   },
   "outputs": [],
   "source": [
    "for (flt_mode in names(Lres)) {\n",
    "    TBflt <- Lres[[flt_mode]][['df']]\n",
    "    TBkeep <- Lres[[flt_mode]][['keep']]\n",
    "    \n",
    "    TBkeep <- TBkeep %>% c2r('cell') %>% seriate_df %>% r2c('cell')\n",
    "    TBkeep_longer <- TBkeep %>% pivot_longer(-cell, names_to='term', values_to='value')\n",
    "\n",
    "    e1 <- TBkeep_longer %>% \n",
    "      mutate(term=str_replace(term, '_keep$', '')) %>%\n",
    "      e_charts(term) %>% \n",
    "      e_heatmap(cell, value) %>%\n",
    "      e_x_axis(axisLabel=list(interval=0, rotate=45)) %>%\n",
    "      e_y_axis(name='Cell', nameLocation='center', \n",
    "               axisLabel=list(show=FALSE), axisTick=list(show=FALSE),\n",
    "              ) %>%\n",
    "      e_visual_map(value, type='piecewise', splitNumber=2, orient='horizontal', top='top', left='center',\n",
    "                    pieces=list(list(min=0, max=0, label='removed'), \n",
    "                                list(min=1, max=1, label='kept'))) %>%\n",
    "      e_theme_custom(mytheme)\n",
    "\n",
    "    e2 <- as_tibble(TBkeep %>% select(-cell) %>% apply(2, sum), rownames='term') %>%\n",
    "      mutate(term=str_replace(term, '_keep$', '')) %>%\n",
    "      e_charts(term) %>%\n",
    "      e_bar(value) %>%\n",
    "      e_x_axis(axisLabel=list(interval=0, rotate=45)) %>%\n",
    "      e_y_axis(name='Kept cells') %>%\n",
    "      e_mark_line(data = list(yAxis = nrow(TBflt)), title = \"filtered\") %>%\n",
    "      e_legend(show=FALSE) %>%\n",
    "      e_theme_custom(mytheme)\n",
    "\n",
    "    Lres[[flt_mode]][['filter']] <- e_arrange(e1, e2, cols=2)\n",
    "    \n",
    "}"
   ]
  },
  {
   "cell_type": "code",
   "execution_count": null,
   "id": "e5a0bc52-09a4-4cdc-aa85-d1ef6ef52d5d",
   "metadata": {},
   "outputs": [],
   "source": [
    "# hashtag"
   ]
  },
  {
   "cell_type": "code",
   "execution_count": null,
   "id": "1d0b3b17-9482-4259-b173-72c9e449de88",
   "metadata": {
    "tags": []
   },
   "outputs": [],
   "source": [
    "for (flt_mode in names(Lres)) {\n",
    "    if (('FB' %in% config[['flt_mode']][[flt_mode]]) && (length(config[[sample]][['id2seq']][['HT']]) > 0)) {\n",
    "        \n",
    "        TBflt <- Lres[[flt_mode]][['df']]\n",
    "        TBfb_ht <- TBflt %>% select(cell, matches('^HT_'), sum_HT)\n",
    "\n",
    "        e1 <- TBfb_ht %>% \n",
    "            group_by(HT_group) %>% \n",
    "            e_charts(sum_HT) %>% \n",
    "            e_scatter(HT_ratio, symbol_size=10) %>%\n",
    "            e_x_axis(name='All hashtag umi', nameLocation='middle', nameGap=30) %>%\n",
    "            e_y_axis(name='Major hashtag ratio', nameLocation='middle', nameGap=30) %>%\n",
    "            e_tooltip(trigger = 'axis') %>%\n",
    "            e_theme_custom(mytheme)\n",
    "\n",
    "        e2 <- TBfb_ht %>% count(HT_group) %>%\n",
    "          e_charts(HT_group) %>%\n",
    "          e_pie(n, radius = c(\"50%\", \"70%\")) %>%\n",
    "          e_theme_custom(mytheme)\n",
    "\n",
    "        Lres[[flt_mode]][['HT']] <- e_arrange(e1, e2, cols=2)\n",
    "    }\n",
    "}"
   ]
  },
  {
   "cell_type": "code",
   "execution_count": null,
   "id": "e82b6a1c-bc25-4858-bcf2-a2c61f0119ef",
   "metadata": {},
   "outputs": [],
   "source": [
    "# binding feature barcode"
   ]
  },
  {
   "cell_type": "code",
   "execution_count": null,
   "id": "5c388ba5-492b-4fd2-a901-7d4204163a6f",
   "metadata": {},
   "outputs": [],
   "source": [
    "for (flt_mode in names(Lres)) {\n",
    "    if (('FB' %in% config[['flt_mode']][[flt_mode]]) && (length(config[[sample]][['id2seq']][['BD']]) > 0)) {\n",
    "\n",
    "        # BD ratio\n",
    "        TBflt <- Lres[[flt_mode]][['df']]\n",
    "        TBp <- TBflt %>% select(cell, matches('^BD_[^#]+_ratio$')) %>% \n",
    "            c2r('cell') %>% seriate_df %>% r2c('cell') %>% \n",
    "            pivot_longer(-cell, names_to='x', values_to='v') %>%\n",
    "            mutate(x=str_replace(x, 'BD_(.+?)_ratio', '\\\\1'))\n",
    "\n",
    "        e1 <- TBp %>% \n",
    "          e_charts(x) %>% \n",
    "          e_heatmap(cell, v) %>%\n",
    "          e_x_axis(axisLabel=list(interval=0)) %>%\n",
    "          e_y_axis(name='Cell', nameLocation='center', \n",
    "                   axisLabel=list(show=FALSE), axisTick=list(show=FALSE),\n",
    "                  ) %>%\n",
    "          e_visual_map(v, text=c('ratio', ''), orient='horizontal', top='top', \n",
    "                       left='center', precision=2) %>%\n",
    "          e_theme_custom(mytheme)\n",
    "\n",
    "        # BD type\n",
    "        e2 <- TBflt %>% count(BD_type) %>%\n",
    "          e_charts(BD_type) %>%\n",
    "          e_pie(n, radius = c(\"50%\", \"70%\"), label=list(show=TRUE, formatter='{b}({c}, {d}%)'))\n",
    "\n",
    "        # absolute value\n",
    "        TBp <- TBflt %>% select(cell, matches('^BD_[^#]+$'), -matches('_ratio$'), -BD_type) %>%\n",
    "            c2r('cell') %>% seriate_df %>% r2c('cell') %>% \n",
    "            pivot_longer(-cell, names_to='x', values_to='v') %>%\n",
    "            mutate(x=str_replace(x, 'BD_', ''))\n",
    "\n",
    "        e3 <- TBp %>% \n",
    "          e_charts(x) %>% \n",
    "          e_heatmap(cell, v) %>%\n",
    "          e_x_axis(axisLabel=list(interval=0)) %>%\n",
    "          e_y_axis(name='Cell', nameLocation='center', \n",
    "                   axisLabel=list(show=FALSE), axisTick=list(show=FALSE),\n",
    "                  ) %>%\n",
    "          e_visual_map(v, text=c('umi', ''), orient='horizontal', top='top', left='center') %>%\n",
    "          e_theme_custom(mytheme)\n",
    "\n",
    "        TBp <- TBflt %>% select(cell, all_of(str_c('BD_', names(config[[sample]][['id2seq']][['BD']])))) %>%\n",
    "            c2r('cell') %>% seriate_df %>% r2c('cell') %>% \n",
    "            pivot_longer(-cell, names_to='x', values_to='v') %>%\n",
    "            mutate(x=str_replace(x, 'BD_', ''))\n",
    "        e4 <- TBp %>% \n",
    "          e_charts(x) %>% \n",
    "          e_heatmap(cell, v) %>%\n",
    "          e_x_axis(axisLabel=list(interval=0)) %>%\n",
    "          e_y_axis(name='Cell', nameLocation='center', \n",
    "                   axisLabel=list(show=FALSE), axisTick=list(show=FALSE),\n",
    "                  ) %>%\n",
    "          e_visual_map(v, text=c('umi', ''), orient='horizontal', top='top', left='center') %>%\n",
    "          e_theme_custom(mytheme)\n",
    "\n",
    "        Lres[[flt_mode]][['BD']] <- e_arrange(e1, e2, e3, e4, cols=2)\n",
    "    }\n",
    "}"
   ]
  },
  {
   "cell_type": "code",
   "execution_count": null,
   "id": "f4855850-7612-4df3-8f17-341dd661e61d",
   "metadata": {},
   "outputs": [],
   "source": [
    "# VDJB"
   ]
  },
  {
   "cell_type": "code",
   "execution_count": null,
   "id": "a1bb3e46-5929-4c29-b15d-f6310b316edf",
   "metadata": {},
   "outputs": [],
   "source": [
    "for (flt_mode in names(Lres)) {\n",
    "    if (('VDJB' %in% config[['flt_mode']][[flt_mode]]) && (config[[sample]][['VDJB']] == TRUE)) {\n",
    "        \n",
    "        # class\n",
    "        TBflt <- Lres[[flt_mode]][['df']]\n",
    "        tbclass <- TBflt %>% \n",
    "            fancy_count(class, ext=c_gene_H, ext_fmt='ratio') %>%\n",
    "            kable\n",
    "\n",
    "        TBp <- TBflt %>% count(clone=clone_cellranger) \n",
    "        Nclones <- TBp %>% filter(n > 1) %>% nrow\n",
    "        Nclones_percent <- float_to_percent(Nclones / nrow(TBflt))\n",
    "\n",
    "        e1 <- TBp %>%\n",
    "          e_charts(clone) %>%\n",
    "          e_pie(n, radius = c(\"50%\", \"70%\"), \n",
    "                label=list(show=TRUE, position='center', \n",
    "                           formatter=Nclones_percent, fontSize=30), \n",
    "                itemStyle=list(borderColor='grey')) %>%\n",
    "          e_legend(show=FALSE) %>% \n",
    "          pe_color(gradient_color(Vcol, n=seq_len(Nclones)), default=grey_col)\n",
    "\n",
    "        e2 <- TBflt %>% select(class, v_domain_shm_ratio_H) %>%\n",
    "          filter(!is.na(class)) %>%\n",
    "          group_by(class) %>%\n",
    "          e_chart() %>%\n",
    "          e_density(v_domain_shm_ratio_H, areaStyle = list(opacity = 0.4), smooth = TRUE) %>%\n",
    "          e_tooltip() %>%\n",
    "          e_x_axis(name='Heavy Chain SHM', nameLocation='middle', nameGap=30) %>%\n",
    "          e_y_axis(name='Density', nameLocation='middle', nameGap=30)\n",
    "\n",
    "        e3 <- TBflt %>% select(class, v_domain_shm_ratio_L) %>%\n",
    "          filter(!is.na(class)) %>%\n",
    "          group_by(class) %>%\n",
    "          e_chart() %>%\n",
    "          e_density(v_domain_shm_ratio_L, areaStyle = list(opacity = 0.4), smooth = TRUE) %>%\n",
    "          e_tooltip() %>%\n",
    "          e_x_axis(name='Light Chain SHM', nameLocation='middle', nameGap=30) %>%\n",
    "          e_y_axis(name='Density', nameLocation='middle', nameGap=30)\n",
    "\n",
    "        Lres[[flt_mode]][['VDJB']] <- list(table=tbclass, plot=e_arrange(e1, e2, e3, cols=3))\n",
    "    }\n",
    "}"
   ]
  },
  {
   "cell_type": "code",
   "execution_count": null,
   "id": "7619bbc8-10e5-4ec0-8f10-fd429878cdf0",
   "metadata": {},
   "outputs": [],
   "source": [
    "# metadata"
   ]
  },
  {
   "cell_type": "code",
   "execution_count": null,
   "id": "ad798eb0-3ff8-4163-baaa-b33bc594fb05",
   "metadata": {},
   "outputs": [],
   "source": [
    "TBmeta <- read_csv(snakemake@params[['metadata']])\n",
    "Lres[['metadata']] <- TBmeta %>% \n",
    "    filter(sample==sample) %>% \n",
    "    remove_nacol %>% t %>% kable"
   ]
  },
  {
   "cell_type": "code",
   "execution_count": null,
   "id": "199adc30-6381-4736-9eaa-4d56fa573715",
   "metadata": {},
   "outputs": [],
   "source": [
    "# cells"
   ]
  },
  {
   "cell_type": "code",
   "execution_count": null,
   "id": "259c21cc-24d4-4d34-ae10-b93b2eeecf64",
   "metadata": {},
   "outputs": [],
   "source": [
    "flt_stat <- read_yaml(str_c(stat_dir, '/filter_stat.yaml'))"
   ]
  },
  {
   "cell_type": "code",
   "execution_count": null,
   "id": "5a05df2b-5146-4a2f-a646-070eea22920d",
   "metadata": {},
   "outputs": [],
   "source": [
    "Lres[['cells']] <- bind_cols(\n",
    "    names(flt_stat) %>% as_tibble,\n",
    "    flt_stat %>% map_dfr(~as_tibble(.x))\n",
    ") %>% rename(item=value) %>%\n",
    "    mutate(yield = float_to_percent(flt / raw, 2)) %>%\n",
    "    kable"
   ]
  },
  {
   "cell_type": "code",
   "execution_count": null,
   "id": "6cc4d9b6-4329-4871-abd1-81ffa1428071",
   "metadata": {},
   "outputs": [],
   "source": [
    "# out"
   ]
  },
  {
   "cell_type": "code",
   "execution_count": null,
   "id": "c1e36860-ef3d-4048-a1d7-ea86044d28f3",
   "metadata": {
    "tags": []
   },
   "outputs": [],
   "source": [
    "out <- snakemake@output[['visualize_rds']]\n",
    "dir.create(dirname(out), recursive = TRUE)\n",
    "saveRDS(Lres, out)"
   ]
  }
 ],
 "metadata": {
  "kernelspec": {
   "display_name": "R_ab",
   "language": "R",
   "name": "r_ab"
  },
  "language_info": {
   "codemirror_mode": "r",
   "file_extension": ".r",
   "mimetype": "text/x-r-source",
   "name": "R",
   "pygments_lexer": "r",
   "version": "4.2.3"
  },
  "toc-showtags": true
 },
 "nbformat": 4,
 "nbformat_minor": 5
}
