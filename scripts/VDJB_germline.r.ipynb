{
 "cells": [
  {
   "cell_type": "code",
   "execution_count": null,
   "id": "69bd454f-8669-4adc-af1f-f7889646026f",
   "metadata": {
    "tags": [],
    "vscode": {
     "languageId": "r"
    }
   },
   "outputs": [],
   "source": [
    "R.home()"
   ]
  },
  {
   "cell_type": "code",
   "execution_count": null,
   "id": "e20e0be9-9286-4b5d-a1fd-c8074a8cf609",
   "metadata": {
    "vscode": {
     "languageId": "r"
    }
   },
   "outputs": [],
   "source": [
    "baizer::pkglib(tidyverse, baizer)"
   ]
  },
  {
   "cell_type": "code",
   "execution_count": null,
   "id": "7e440a05-cd1d-4e2e-8377-36814d6d2a07",
   "metadata": {
    "vscode": {
     "languageId": "r"
    }
   },
   "outputs": [],
   "source": [
    "sample <- snakemake@wildcards[['sample']]"
   ]
  },
  {
   "cell_type": "code",
   "execution_count": null,
   "id": "1cc08cfc-af35-445d-bb7b-c6f121be4637",
   "metadata": {},
   "outputs": [],
   "source": [
    "airr <- read_tsv(snakemake@input[['VDJB_igblast_tsv']])"
   ]
  },
  {
   "cell_type": "code",
   "execution_count": null,
   "id": "27b26743-1fa5-43b2-bb9c-1c45ea22e16c",
   "metadata": {},
   "outputs": [],
   "source": [
    "airr <- airr %>% mutate(germline_alignment_aa_nogap = str_replace_all(germline_alignment_aa, '-', ''))"
   ]
  },
  {
   "cell_type": "code",
   "execution_count": null,
   "id": "4a8e9927-d9dd-4f43-92ef-60f38ab332d2",
   "metadata": {},
   "outputs": [],
   "source": [
    "write_fasta <- function(x, file) {\n",
    "  if (is.null(names(x))) {\n",
    "    names(x) <- seq_along(x)\n",
    "  }\n",
    "\n",
    "  res <- map2_chr(names(x), x, ~ str_c(\">\", .x, \"\\n\", .y))\n",
    "  out <- file(file, \"w\")\n",
    "  writeLines(res, out)\n",
    "  close(out)\n",
    "}"
   ]
  },
  {
   "cell_type": "code",
   "execution_count": null,
   "id": "b8d365aa-349c-4d2a-95f5-2a5c3faba3d7",
   "metadata": {},
   "outputs": [],
   "source": [
    "pull(airr, germline_alignment_aa_nogap, sequence_id) %>% write_fasta(snakemake@output[['VDJB_gm_aa_fa']])"
   ]
  }
 ],
 "metadata": {
  "kernelspec": {
   "display_name": "R_ab",
   "language": "R",
   "name": "r_ab"
  },
  "language_info": {
   "codemirror_mode": "r",
   "file_extension": ".r",
   "mimetype": "text/x-r-source",
   "name": "R",
   "pygments_lexer": "r",
   "version": "4.2.3"
  }
 },
 "nbformat": 4,
 "nbformat_minor": 5
}
