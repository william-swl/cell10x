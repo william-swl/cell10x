{
 "cells": [
  {
   "cell_type": "code",
   "execution_count": null,
   "id": "201103e5-f78f-4da0-8a1d-fea0ed8b89a8",
   "metadata": {
    "tags": []
   },
   "outputs": [],
   "source": [
    "R.home()"
   ]
  },
  {
   "cell_type": "code",
   "execution_count": null,
   "id": "cd97a811-fe58-458d-90b7-a289f2ce975e",
   "metadata": {
    "scrolled": true,
    "tags": []
   },
   "outputs": [],
   "source": [
    "baizer::pkglib(Seurat, SingleR, celldex, tidyverse, baizer, yaml)"
   ]
  },
  {
   "cell_type": "code",
   "execution_count": null,
   "id": "56a0356e-c2b7-488e-a81c-7d8840765595",
   "metadata": {},
   "outputs": [],
   "source": [
    "sample <- snakemake@wildcards[['sample']]\n",
    "\n",
    "# replace default configs with sample configs\n",
    "config <- replace_item(snakemake@config, snakemake@config[[sample]])"
   ]
  },
  {
   "cell_type": "code",
   "execution_count": null,
   "id": "4d9e79f5-b9d3-42c7-8493-b7059ab7660e",
   "metadata": {},
   "outputs": [],
   "source": [
    "# Seurat readin"
   ]
  },
  {
   "cell_type": "code",
   "execution_count": null,
   "id": "c6a49b38-01ab-4c05-ab22-6337ae0e7495",
   "metadata": {},
   "outputs": [],
   "source": [
    "if (config[[sample]][['FB']]) {\n",
    "    Lcount <- Read10X(\n",
    "        data.dir = str_c(snakemake@input[['count_dir']], str_glue(config[['count_mRNA_dir']]), sep='/')\n",
    "    )\n",
    "    Mcount <- Lcount[['Gene Expression']]\n",
    "} else {\n",
    "    Mcount <- Read10X(\n",
    "        data.dir = str_c(snakemake@input[['count_dir']], str_glue(config[['count_mRNA_dir']]), sep='/')\n",
    "    )\n",
    "}\n",
    "\n",
    "Mcount <- Mcount[rowSums(Mcount) > 10, colSums(Mcount) > 10]\n",
    "SE <- CreateSeuratObject(as.data.frame(Mcount), project=sample, \n",
    "                         min.cells=config[['Nmin_cell_to_keep_gene']],\n",
    "                         min.features=config[['Nmin_gene_to_keep_cell']])\n",
    "SE@meta.data <- SE@meta.data %>% rename(batch=orig.ident)"
   ]
  },
  {
   "cell_type": "code",
   "execution_count": null,
   "id": "9fb0feca-2c93-478f-9b84-0a0503d1b8d7",
   "metadata": {},
   "outputs": [],
   "source": [
    "# mitochondria umi percent\n",
    "SE@meta.data[,'mt_percent'] <- PercentageFeatureSet(SE, pattern = \"^mt-\")"
   ]
  },
  {
   "cell_type": "code",
   "execution_count": null,
   "id": "3eed126e-e071-474a-99ac-b249b023f1ae",
   "metadata": {
    "scrolled": true,
    "tags": []
   },
   "outputs": [],
   "source": [
    "# cell type"
   ]
  },
  {
   "cell_type": "code",
   "execution_count": null,
   "id": "6bc11784-3800-443e-8046-4f80f00bfe5a",
   "metadata": {
    "scrolled": true,
    "tags": []
   },
   "outputs": [],
   "source": [
    "celltype_ref <- str_glue(\"src/celltype-ref/{config[['species']]}.rds\")"
   ]
  },
  {
   "cell_type": "code",
   "execution_count": null,
   "id": "09446e75-6857-40fe-839f-915bfc778cf8",
   "metadata": {
    "scrolled": true,
    "tags": []
   },
   "outputs": [],
   "source": [
    "SEref <- readRDS(celltype_ref)[[config[['celltype_ref_tissue']]]]"
   ]
  },
  {
   "cell_type": "code",
   "execution_count": null,
   "id": "d104054c-9df9-4454-9096-85d6916f027e",
   "metadata": {},
   "outputs": [],
   "source": [
    "SE <- Seurat::NormalizeData(SE,\n",
    "    normalization.method = \"LogNormalize\", scale.factor = 10000\n",
    "  )"
   ]
  },
  {
   "cell_type": "code",
   "execution_count": null,
   "id": "b24b7f83-bf9d-45a1-bbd4-671db22ea532",
   "metadata": {},
   "outputs": [],
   "source": [
    "parse_SingleR <- function(x) {\n",
    "  if (!is(x, \"DFrame\")) {\n",
    "    stop(\"x should be the output of SingleR::SingleR()\")\n",
    "  }\n",
    "\n",
    "  res <- x %>%\n",
    "    as_tibble(rownames = \"cell\") %>%\n",
    "    pivot_longer(-c(\"cell\", \"labels\", \"delta.next\", \"pruned.labels\"),\n",
    "      names_to = c(\".value\", \"celltype\"), names_sep = \"cores.\"\n",
    "    )\n",
    "\n",
    "  # celltype in colnames and labels have some differences in symbol\n",
    "  res <- res %>% filter(\n",
    "    baizer::reg_join(.data[[\"labels\"]], \"[\\\\da-zA-Z]\") ==\n",
    "      baizer::reg_join(.data[[\"celltype\"]], \"[\\\\da-zA-Z]\")\n",
    "  )\n",
    "\n",
    "  # celltype in colnames have some duplication\n",
    "  # e.g. \"scores.NK.cells..NK.H..MCMV1.\" and\n",
    "  # \"scores.NK.cells..NK.H.MCMV1.\" in mouse reference\n",
    "  res <- res %>%\n",
    "    dplyr::arrange(.data[[\"cell\"]], dplyr::desc(.data[[\"s\"]])) %>%\n",
    "    dplyr::distinct(.data[[\"cell\"]], .keep_all = TRUE)\n",
    "\n",
    "  # select columns\n",
    "  res <- res %>%\n",
    "    dplyr::select(-\"celltype\") %>%\n",
    "    dplyr::select(dplyr::all_of(c(\"cell\",\n",
    "      \"celltype\" = \"labels\", \"celltype_score\" = \"s\",\n",
    "      \"delta_next\" = \"delta.next\",\n",
    "      \"celltype_pruned\" = \"pruned.labels\"\n",
    "    )))\n",
    "  return(res)\n",
    "}"
   ]
  },
  {
   "cell_type": "code",
   "execution_count": null,
   "id": "fc662807-4595-4311-8965-31e3351527ce",
   "metadata": {},
   "outputs": [],
   "source": [
    "SingleR_SE <- function(x, ref) {\n",
    "  if (!is(x, \"Seurat\")) {\n",
    "    stop(\"x should be a Seurat object\")\n",
    "  }\n",
    "\n",
    "  if (!is(ref, \"SummarizedExperiment\")) {\n",
    "    stop(\"ref should be a SummarizedExperiment object\")\n",
    "  }\n",
    "\n",
    "  TBref_celltype <- SummarizedExperiment::colData(ref) %>%\n",
    "    as_tibble() %>%\n",
    "    dplyr::distinct(.data[[\"label.fine\"]], .keep_all = TRUE)\n",
    "  fine2main <- TBref_celltype %>%\n",
    "    dplyr::pull(.data[[\"label.main\"]], .data[[\"label.fine\"]])\n",
    "\n",
    "  # call SingleR\n",
    "  TBannot <- SingleR::SingleR( # nolint\n",
    "    test = Seurat::as.SingleCellExperiment(x),\n",
    "    ref = ref, labels = ref$label.fine\n",
    "  ) %>%\n",
    "    parse_SingleR()\n",
    "  # add main celltype\n",
    "  TBannot <- TBannot %>% dplyr::mutate( # nolint\n",
    "    celltype_main = fine2main[.data[[\"celltype\"]]],\n",
    "    .after = .data[[\"celltype\"]]\n",
    "  )\n",
    "  # add meta.data\n",
    "  res <- Seurat::AddMetaData(x, TBannot %>% baizer::c2r(\"cell\"))\n",
    "\n",
    "  return(res)\n",
    "}"
   ]
  },
  {
   "cell_type": "code",
   "execution_count": null,
   "id": "95e3aa82-0edb-4251-bd68-28a41fa6e87b",
   "metadata": {
    "tags": []
   },
   "outputs": [],
   "source": [
    "SE <- SingleR_SE(SE, SEref)"
   ]
  },
  {
   "cell_type": "code",
   "execution_count": null,
   "id": "44735a28-f0c3-4e96-8610-25132f3ad322",
   "metadata": {},
   "outputs": [],
   "source": [
    "# reduction"
   ]
  },
  {
   "cell_type": "code",
   "execution_count": null,
   "id": "279481de-d46c-47ca-b7de-5de1f0621a1f",
   "metadata": {},
   "outputs": [],
   "source": [
    "reduction_SE <- function(x, use_dim = 30) {\n",
    "  # Normalizing the data\n",
    "  x <- Seurat::NormalizeData(x,\n",
    "    normalization.method = \"LogNormalize\", scale.factor = 10000\n",
    "  )\n",
    "  # Identification of highly variable features (feature selection)\n",
    "  x <- Seurat::FindVariableFeatures(x,\n",
    "    selection.method = \"vst\", nfeatures = 2000\n",
    "  )\n",
    "  # Scaling the data\n",
    "  x <- Seurat::ScaleData(x)\n",
    "  # Dimension reduction\n",
    "  x <- Seurat::RunPCA(x,\n",
    "    features = Seurat::VariableFeatures(x), verbose = FALSE\n",
    "  )\n",
    "  x <- Seurat::RunUMAP(x, dims = 1:use_dim)\n",
    "\n",
    "  res <- Seurat::AddMetaData(\n",
    "    x,\n",
    "    as.data.frame(x@reductions$umap@cell.embeddings)\n",
    "  )\n",
    "\n",
    "  return(res)\n",
    "}"
   ]
  },
  {
   "cell_type": "code",
   "execution_count": null,
   "id": "ae0d5f70-8eb5-46b6-9b70-f2bca2a5ba06",
   "metadata": {
    "scrolled": true,
    "tags": []
   },
   "outputs": [],
   "source": [
    "SE <- reduction_SE(SE, config[['Ndim_umap_use']])"
   ]
  },
  {
   "cell_type": "code",
   "execution_count": null,
   "id": "c364c6f8-e9d2-41d3-a8e4-b078bb9ecd13",
   "metadata": {},
   "outputs": [],
   "source": [
    "# stat\n",
    "\n",
    "TBmtx <- read_csv(str_c(snakemake@input[['count_dir']], str_glue(config[['count_mRNA_mtx']]), sep='/')) %>% \n",
    "    dplyr::rename(item=`Metric Name`, value=`Metric Value`) %>%\n",
    "    filter(`Library Type` == 'Gene Expression')"
   ]
  },
  {
   "cell_type": "code",
   "execution_count": null,
   "id": "4eeceddd-8844-4b24-ade3-68ada72a7f46",
   "metadata": {},
   "outputs": [],
   "source": [
    "Lstat <- TBmtx %>% distinct(item, value) %>% pivot_wider(names_from='item', values_from='value') %>% select(any_of(c(\n",
    "    'cells'='Cells', \n",
    "    'median_genes'='Median genes per cell', \n",
    "    'mean_reads'='Mean reads per cell', \n",
    "    'median_umis'='Median UMI counts per cell', \n",
    "    'align_rate'='Mapped to genome', \n",
    "    'total_reads'='Number of reads', \n",
    "    'Q30_barcode'='Q30 barcodes', \n",
    "    'Q30_umi'='Q30 UMI',\n",
    "    'Q30_RNA'='Q30 RNA read'\n",
    "))) %>% as.list"
   ]
  },
  {
   "cell_type": "code",
   "execution_count": null,
   "id": "da2f8c3e-c47c-4a0c-9883-ee439d7d4252",
   "metadata": {},
   "outputs": [],
   "source": [
    "# write\n",
    "dir.create(dirname(snakemake@output[['mRNA_csv']]), recursive = TRUE)\n",
    "write_excel_csv(SE@meta.data %>% r2c('cell'), snakemake@output[['mRNA_csv']])\n",
    "saveRDS(SE, snakemake@output[['mRNA_rds']])\n",
    "write_yaml(Lstat, file=snakemake@output[['mRNA_stat']])"
   ]
  },
  {
   "cell_type": "code",
   "execution_count": null,
   "id": "c9466e3d-13b4-472f-8d16-056e28bfe1b4",
   "metadata": {},
   "outputs": [],
   "source": [
    "dir.create(snakemake@output[['stat_dir']], recursive = TRUE)\n",
    "file.copy(snakemake@output[['mRNA_csv']], \n",
    "          str_c(snakemake@output[['stat_dir']], '/', basename(snakemake@output[['mRNA_csv']])), \n",
    "          overwrite=TRUE)\n",
    "file.copy(snakemake@output[['mRNA_stat']], \n",
    "          str_c(snakemake@output[['stat_dir']], '/', basename(snakemake@output[['mRNA_stat']])), \n",
    "          overwrite=TRUE)"
   ]
  },
  {
   "cell_type": "code",
   "execution_count": null,
   "id": "039997fa-9992-48af-a079-2249593a05b4",
   "metadata": {},
   "outputs": [],
   "source": []
  }
 ],
 "metadata": {
  "kernelspec": {
   "display_name": "R_ab",
   "language": "R",
   "name": "r_ab"
  },
  "language_info": {
   "codemirror_mode": "r",
   "file_extension": ".r",
   "mimetype": "text/x-r-source",
   "name": "R",
   "pygments_lexer": "r",
   "version": "4.2.3"
  }
 },
 "nbformat": 4,
 "nbformat_minor": 5
}
