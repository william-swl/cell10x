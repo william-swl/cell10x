{
 "cells": [
  {
   "cell_type": "code",
   "execution_count": null,
   "id": "87982d90-a5d1-4787-9465-654c1b674889",
   "metadata": {
    "tags": []
   },
   "outputs": [],
   "source": [
    "R.home()"
   ]
  },
  {
   "cell_type": "code",
   "execution_count": null,
   "id": "7cd2ae7e-8680-447b-a63e-e3abed29b3ca",
   "metadata": {
    "tags": []
   },
   "outputs": [],
   "source": [
    "baizer::pkglib(Seurat, SingleR, celldex, tidyverse, baizer, genogamesh, yaml)"
   ]
  },
  {
   "cell_type": "code",
   "execution_count": null,
   "id": "f4a09b37-c8ac-4566-a4ff-97778e62cb5f",
   "metadata": {},
   "outputs": [],
   "source": [
    "sample <- snakemake@wildcards[['sample']]\n",
    "\n",
    "# replace default configs with sample configs\n",
    "config <- replace_item(snakemake@config, snakemake@config[[sample]])"
   ]
  },
  {
   "cell_type": "code",
   "execution_count": null,
   "id": "bafd27ff-fa47-4347-a941-9ba53a57e0a3",
   "metadata": {},
   "outputs": [],
   "source": [
    "# Seurat readin\n",
    "if (config[[sample]][['FB']]) {\n",
    "    Lcount <- Read10X(\n",
    "        data.dir = str_c(snakemake@input[['count_dir']], str_glue(config[['count_mRNA_dir']]), sep='/')\n",
    "    )\n",
    "    Mcount <- Lcount[['Gene Expression']]\n",
    "} else {\n",
    "    Mcount <- Read10X(\n",
    "        data.dir = str_c(snakemake@input[['count_dir']], str_glue(config[['count_mRNA_dir']]), sep='/')\n",
    "    )\n",
    "}\n",
    "\n",
    "Mcount <- Mcount[rowSums(Mcount) > 10, colSums(Mcount) > 10]\n",
    "SE <- CreateSeuratObject(as.data.frame(Mcount), project=sample, \n",
    "                         min.cells=config[['Nmin_cell_to_keep_gene']],\n",
    "                         min.features=config[['Nmin_gene_to_keep_cell']])\n",
    "SE@meta.data <- SE@meta.data %>% rename(batch=orig.ident)"
   ]
  },
  {
   "cell_type": "code",
   "execution_count": null,
   "id": "bc3ddd3c-e9b2-4d4b-a7f4-e831829db1c6",
   "metadata": {},
   "outputs": [],
   "source": [
    "# mitochondria umi percent\n",
    "SE@meta.data[,'mt_percent'] <- PercentageFeatureSet(SE, pattern = \"^mt-\")"
   ]
  },
  {
   "cell_type": "code",
   "execution_count": null,
   "id": "10ef9996-64e5-42ce-8057-108b3def70e6",
   "metadata": {
    "scrolled": true,
    "tags": []
   },
   "outputs": [],
   "source": [
    "# cell type\n",
    "celltype_ref <- str_glue(\"{config[['srcdir']]}/celltype-ref/{config[['species']]}.rds\")\n",
    "SEref <- readRDS(celltype_ref)[[config[['celltype_ref_tissue']]]]\n",
    "SE <- Seurat::NormalizeData(SE, normalization.method = \"LogNormalize\", \n",
    "        scale.factor = 10000)\n",
    "SE <- SingleR_SE(SE, SEref)"
   ]
  },
  {
   "cell_type": "code",
   "execution_count": null,
   "id": "27595ca5-0776-4968-b4af-ec610922039c",
   "metadata": {
    "scrolled": true,
    "tags": []
   },
   "outputs": [],
   "source": [
    "# reduction\n",
    "SE <- reduction_SE(SE, config[['Ndim_umap_use']])"
   ]
  },
  {
   "cell_type": "code",
   "execution_count": null,
   "id": "59889e2c-bac7-4ec0-8103-7bf567732879",
   "metadata": {},
   "outputs": [],
   "source": [
    "# stat\n",
    "\n",
    "TBmtx <- read_csv(str_c(snakemake@input[['count_dir']], str_glue(config[['count_mRNA_mtx']]), sep='/')) %>% \n",
    "    dplyr::rename(item=`Metric Name`, value=`Metric Value`) %>%\n",
    "    filter(`Library Type` == 'Gene Expression')"
   ]
  },
  {
   "cell_type": "code",
   "execution_count": null,
   "id": "824ad13e-87e5-4ca5-9cad-c4d53dfa0bc1",
   "metadata": {},
   "outputs": [],
   "source": [
    "Lstat <- TBmtx %>% distinct(item, value) %>% pivot_wider(names_from='item', values_from='value') %>% select(any_of(c(\n",
    "    'cells'='Cells', \n",
    "    'median_genes'='Median genes per cell', \n",
    "    'mean_reads'='Mean reads per cell', \n",
    "    'median_umis'='Median UMI counts per cell', \n",
    "    'align_rate'='Mapped to genome', \n",
    "    'total_reads'='Number of reads', \n",
    "    'Q30_barcode'='Q30 barcodes', \n",
    "    'Q30_umi'='Q30 UMI',\n",
    "    'Q30_RNA'='Q30 RNA read'\n",
    "))) %>% as.list"
   ]
  },
  {
   "cell_type": "code",
   "execution_count": null,
   "id": "6ca3548e-3cd6-4477-8907-31533b16e4f4",
   "metadata": {},
   "outputs": [],
   "source": [
    "# write\n",
    "dir.create(dirname(snakemake@output[['mRNA_csv']]), recursive = TRUE)\n",
    "write_excel_csv(SE@meta.data %>% r2c('cell'), snakemake@output[['mRNA_csv']])\n",
    "saveRDS(SE, snakemake@output[['mRNA_rds']])\n",
    "write_yaml(Lstat, file=snakemake@output[['mRNA_stat']])"
   ]
  },
  {
   "cell_type": "code",
   "execution_count": null,
   "id": "43bd527f-9a48-42f1-96e3-89fb6a3892af",
   "metadata": {},
   "outputs": [],
   "source": [
    "dir.create(snakemake@output[['stat_dir']], recursive = TRUE)\n",
    "file.copy(snakemake@output[['mRNA_csv']], \n",
    "          str_c(snakemake@output[['stat_dir']], '/', basename(snakemake@output[['mRNA_csv']])), \n",
    "          overwrite=TRUE)\n",
    "file.copy(snakemake@output[['mRNA_stat']], \n",
    "          str_c(snakemake@output[['stat_dir']], '/', basename(snakemake@output[['mRNA_stat']])), \n",
    "          overwrite=TRUE)"
   ]
  }
 ],
 "metadata": {
  "kernelspec": {
   "display_name": "R_ab",
   "language": "R",
   "name": "r_ab"
  },
  "language_info": {
   "codemirror_mode": "r",
   "file_extension": ".r",
   "mimetype": "text/x-r-source",
   "name": "R",
   "pygments_lexer": "r",
   "version": "4.2.3"
  }
 },
 "nbformat": 4,
 "nbformat_minor": 5
}
