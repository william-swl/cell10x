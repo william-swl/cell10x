{
 "cells": [
  {
   "cell_type": "code",
   "execution_count": null,
   "id": "87982d90-a5d1-4787-9465-654c1b674889",
   "metadata": {
    "tags": []
   },
   "outputs": [],
   "source": [
    "R.home()"
   ]
  },
  {
   "cell_type": "code",
   "execution_count": null,
   "id": "b94c242d-4776-46f3-a160-993b35d661ba",
   "metadata": {
    "tags": []
   },
   "outputs": [],
   "source": [
    "baizer::pkglib(Seurat, SingleR, celldex, tidyverse, baizer, genogamesh, yaml)"
   ]
  },
  {
   "cell_type": "code",
   "execution_count": null,
   "id": "67970477-1207-41e4-a7a0-7ada7172b570",
   "metadata": {},
   "outputs": [],
   "source": [
    "sample <- snakemake@wildcards[['sample']]\n",
    "\n",
    "# replace default configs with sample configs\n",
    "config <- replace_item(snakemake@config, snakemake@config[[sample]])"
   ]
  },
  {
   "cell_type": "code",
   "execution_count": null,
   "id": "0603008d-cb3f-4a18-aadb-e7f49fa98688",
   "metadata": {},
   "outputs": [],
   "source": [
    "# Seurat readin\n",
    "if (config[[sample]][['FB']]) {\n",
    "    Lcount <- Read10X(\n",
    "        data.dir = str_c(snakemake@input[['count_dir']], str_glue(config[['count_mRNA_dir']]), sep='/')\n",
    "    )\n",
    "    Mcount <- Lcount[['Gene Expression']]\n",
    "} else {\n",
    "    Mcount <- Read10X(\n",
    "        data.dir = str_c(snakemake@input[['count_dir']], str_glue(config[['count_mRNA_dir']]), sep='/')\n",
    "    )\n",
    "}\n",
    "\n",
    "Mcount <- Mcount[rowSums(Mcount) > 10, colSums(Mcount) > 10]\n",
    "SE <- CreateSeuratObject(as.data.frame(Mcount), project=sample, \n",
    "                         min.cells=config[['Nmin_cell_to_keep_gene']],\n",
    "                         min.features=config[['Nmin_gene_to_keep_cell']])\n",
    "SE@meta.data <- SE@meta.data %>% rename(batch=orig.ident)"
   ]
  },
  {
   "cell_type": "code",
   "execution_count": null,
   "id": "2f76344b-b73c-4a83-89de-39c6176aee0d",
   "metadata": {},
   "outputs": [],
   "source": [
    "# mitochondria umi percent\n",
    "SE@meta.data[,'mt_percent'] <- PercentageFeatureSet(SE, pattern = \"^mt-\")"
   ]
  },
  {
   "cell_type": "code",
   "execution_count": null,
   "id": "e6a580c5-4471-4098-a69a-7f138d47f470",
   "metadata": {
    "scrolled": true,
    "tags": []
   },
   "outputs": [],
   "source": [
    "# cell type\n",
    "SEref <- readRDS(config[['celltype_ref']])[[config[['celltype_ref_tissue']]]]\n",
    "SE <- SingleR_SE(SE, SEref)"
   ]
  },
  {
   "cell_type": "code",
   "execution_count": null,
   "id": "9f6ecfa7-4bce-43f3-bf2e-4b205f63043f",
   "metadata": {
    "scrolled": true,
    "tags": []
   },
   "outputs": [],
   "source": [
    "# reduction\n",
    "SE <- reduction_SE(SE, config[['Ndim_umap_use']])"
   ]
  },
  {
   "cell_type": "code",
   "execution_count": null,
   "id": "d26fa8b4-a194-4be5-9ddf-94783a5f86c6",
   "metadata": {},
   "outputs": [],
   "source": [
    "# stat\n",
    "\n",
    "TBmtx <- read_csv(str_c(snakemake@input[['count_dir']], str_glue(config[['count_mRNA_mtx']]), sep='/')) %>% \n",
    "    dplyr::rename(item=`Metric Name`, value=`Metric Value`) %>%\n",
    "    filter(`Library Type` == 'Gene Expression')"
   ]
  },
  {
   "cell_type": "code",
   "execution_count": null,
   "id": "d7868bfc-d151-44db-a399-f8fd4d289890",
   "metadata": {},
   "outputs": [],
   "source": [
    "Lstat <- TBmtx %>% distinct(item, value) %>% pivot_wider(names_from='item', values_from='value') %>% select(any_of(c(\n",
    "    'cells'='Cells', \n",
    "    'median_genes'='Median genes per cell', \n",
    "    'mean_reads'='Mean reads per cell', \n",
    "    'median_umis'='Median UMI counts per cell', \n",
    "    'align_rate'='Mapped to genome', \n",
    "    'total_reads'='Number of reads', \n",
    "    'Q30_barcode'='Q30 barcodes', \n",
    "    'Q30_umi'='Q30 UMI',\n",
    "    'Q30_RNA'='Q30 RNA read'\n",
    "))) %>% as.list"
   ]
  },
  {
   "cell_type": "code",
   "execution_count": null,
   "id": "2588fbb3-2d92-45ee-b14b-2d0ffec24ee4",
   "metadata": {},
   "outputs": [],
   "source": [
    "# write\n",
    "dir.create(dirname(snakemake@output[['mRNA_csv']]), recursive = TRUE)\n",
    "write_excel_csv(SE@meta.data %>% r2c('cell'), snakemake@output[['mRNA_csv']])\n",
    "saveRDS(SE, snakemake@output[['mRNA_rds']])\n",
    "write_yaml(Lstat, file=snakemake@output[['mRNA_stat']])"
   ]
  },
  {
   "cell_type": "code",
   "execution_count": null,
   "id": "39b7f70e-eeb9-4386-a2f4-1f2c48fcf09b",
   "metadata": {},
   "outputs": [],
   "source": [
    "dir.create(snakemake@output[['stat_dir']], recursive = TRUE)\n",
    "file.copy(snakemake@output[['mRNA_csv']], \n",
    "          str_c(snakemake@output[['stat_dir']], '/', basename(snakemake@output[['mRNA_csv']])), \n",
    "          overwrite=TRUE)\n",
    "file.copy(snakemake@output[['mRNA_stat']], \n",
    "          str_c(snakemake@output[['stat_dir']], '/', basename(snakemake@output[['mRNA_stat']])), \n",
    "          overwrite=TRUE)"
   ]
  }
 ],
 "metadata": {
  "kernelspec": {
   "display_name": "R_ab",
   "language": "R",
   "name": "r_ab"
  },
  "language_info": {
   "codemirror_mode": "r",
   "file_extension": ".r",
   "mimetype": "text/x-r-source",
   "name": "R",
   "pygments_lexer": "r",
   "version": "4.2.3"
  }
 },
 "nbformat": 4,
 "nbformat_minor": 5
}
