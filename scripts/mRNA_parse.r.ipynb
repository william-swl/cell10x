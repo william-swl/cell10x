{
 "cells": [
  {
   "cell_type": "code",
   "execution_count": null,
   "id": "9b432964-ff6b-4af4-8bfd-5c4d26cd46f0",
   "metadata": {
    "scrolled": true,
    "tags": []
   },
   "outputs": [],
   "source": [
    "baizer::pkglib(Seurat, SingleR, celldex, tidyverse, baizer, genogamesh, yaml)"
   ]
  },
  {
   "cell_type": "code",
   "execution_count": null,
   "id": "bb77c530-5aee-42bc-b753-63f1324089bc",
   "metadata": {},
   "outputs": [],
   "source": [
    "sample <- snakemake@wildcards[['sample']]\n",
    "\n",
    "# replace default configs with sample configs\n",
    "config <- replace_item(snakemake@config, snakemake@config[[sample]])"
   ]
  },
  {
   "cell_type": "code",
   "execution_count": null,
   "id": "0f2deb8d-e24c-4678-a58e-0921b7e2e558",
   "metadata": {},
   "outputs": [],
   "source": [
    "Pcount <- snakemake@input[['mRNA_count_dir']]\n",
    "Pmtx <- str_glue('{Pcount}/filtered_feature_bc_matrix')\n",
    "Pcsv <- snakemake@output[['mRNA_csv']]\n",
    "Prds <- snakemake@output[['mRNA_rds']]\n",
    "Pstat <- snakemake@output[['mRNA_stat']]\n",
    "Pstat_dir <- snakemake@output[['stat_dir']]\n",
    "\n",
    "Pcelltype_ref <- config[['celltype_ref']]\n",
    "Nmin_cell_to_keep_gene <- config[['Nmin_cell_to_keep_gene']]\n",
    "Nmin_gene_to_keep_cell <- config[['Nmin_gene_to_keep_cell']]\n",
    "celltype_ref_tissue <- config[['celltype_ref_tissue']]\n",
    "Ndim_umap_use <- config[['Ndim_umap_use']]"
   ]
  },
  {
   "cell_type": "code",
   "execution_count": null,
   "id": "57f222aa-6522-4819-a777-061d190249c3",
   "metadata": {},
   "outputs": [],
   "source": [
    "# Seurat readin\n",
    "Mcount <- Read10X(data.dir = Pmtx)\n",
    "Mcount <- Mcount[rowSums(Mcount) > 10, colSums(Mcount) > 10]\n",
    "SE <- CreateSeuratObject(as.data.frame(Mcount), project=sample, \n",
    "                         min.cells=Nmin_cell_to_keep_gene, min.features=Nmin_gene_to_keep_cell)\n",
    "SE@meta.data <- SE@meta.data %>% rename(batch=orig.ident)"
   ]
  },
  {
   "cell_type": "code",
   "execution_count": null,
   "id": "265399b7-01f0-4b26-92b4-c12cf6d32603",
   "metadata": {},
   "outputs": [],
   "source": [
    "# mitochondria umi percent\n",
    "SE@meta.data[,'mt_percent'] <- PercentageFeatureSet(SE, pattern = \"^mt-\")"
   ]
  },
  {
   "cell_type": "code",
   "execution_count": null,
   "id": "5271dda5-b911-4447-bd4f-cde1b6eb10c0",
   "metadata": {},
   "outputs": [],
   "source": [
    "# cell type\n",
    "SEref <- readRDS(Pcelltype_ref)[[celltype_ref_tissue]]\n",
    "SE <- SingleR_SE(SE, SEref)"
   ]
  },
  {
   "cell_type": "code",
   "execution_count": null,
   "id": "0a064e3d-515f-4250-a2ab-c11bff84b4b6",
   "metadata": {
    "scrolled": true,
    "tags": []
   },
   "outputs": [],
   "source": [
    "# reduction\n",
    "SE <- reduction_SE(SE, Ndim_umap_use)"
   ]
  },
  {
   "cell_type": "code",
   "execution_count": null,
   "id": "f326ea54-2575-446f-ab00-9bc4a7710776",
   "metadata": {},
   "outputs": [],
   "source": [
    "# stat\n",
    "Lstat <- list()"
   ]
  },
  {
   "cell_type": "code",
   "execution_count": null,
   "id": "657e384e-8bc6-444a-8f6e-ea8e47650667",
   "metadata": {},
   "outputs": [],
   "source": [
    "# write\n",
    "dir.create(dirname(Pcsv), recursive = TRUE)\n",
    "write_excel_csv(SE@meta.data %>% r2c('cell'), Pcsv)\n",
    "saveRDS(SE, Prds)\n",
    "write_yaml(Lstat, file=Pstat)"
   ]
  },
  {
   "cell_type": "code",
   "execution_count": null,
   "id": "a3298824-f0d0-4b7b-a363-0acf1e452696",
   "metadata": {},
   "outputs": [],
   "source": [
    "dir.create(Pstat_dir, recursive = TRUE)\n",
    "file.copy(Pcsv, str_c(Pstat_dir, '/', basename(Pcsv)), overwrite=TRUE)\n",
    "file.copy(Pstat, str_c(Pstat_dir, '/', basename(Pstat)), overwrite=TRUE)"
   ]
  }
 ],
 "metadata": {
  "kernelspec": {
   "display_name": "R_ab",
   "language": "R",
   "name": "r_ab"
  },
  "language_info": {
   "codemirror_mode": "r",
   "file_extension": ".r",
   "mimetype": "text/x-r-source",
   "name": "R",
   "pygments_lexer": "r",
   "version": "4.2.3"
  }
 },
 "nbformat": 4,
 "nbformat_minor": 5
}
