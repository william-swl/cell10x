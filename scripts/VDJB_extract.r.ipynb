{
 "cells": [
  {
   "cell_type": "code",
   "execution_count": null,
   "id": "9fc1450c-d6c5-4f29-bcf5-c46c61937c33",
   "metadata": {
    "tags": [],
    "vscode": {
     "languageId": "r"
    }
   },
   "outputs": [],
   "source": [
    "R.home()"
   ]
  },
  {
   "cell_type": "code",
   "execution_count": null,
   "id": "bf1e43ca-fedb-4772-bad3-d44eaec3765e",
   "metadata": {},
   "outputs": [],
   "source": [
    "baizer::pkglib(tidyverse, baizer)"
   ]
  },
  {
   "cell_type": "code",
   "execution_count": null,
   "id": "5b41d05f-1b17-4854-8fd2-e8bd1e84c2d8",
   "metadata": {},
   "outputs": [],
   "source": [
    "sample <- snakemake@wildcards[['sample']]"
   ]
  },
  {
   "cell_type": "code",
   "execution_count": null,
   "id": "f9f7c0b8-bf8d-44b5-82fb-ee3345e3b1fb",
   "metadata": {
    "scrolled": true
   },
   "outputs": [],
   "source": [
    "path <- str_c(snakemake@input[['count_dir']], snakemake@config[['count_VDJB_airr']], sep='/')\n",
    "path <- str_glue(path)"
   ]
  },
  {
   "cell_type": "code",
   "execution_count": null,
   "id": "c75bfab2-7eb4-4ab7-85ff-396fff595162",
   "metadata": {
    "scrolled": true
   },
   "outputs": [],
   "source": [
    "cr_airr <- readr::read_tsv(path)"
   ]
  },
  {
   "cell_type": "code",
   "execution_count": null,
   "id": "00f9eb57-a79a-4f89-a849-a88d1f307b49",
   "metadata": {},
   "outputs": [],
   "source": [
    "nt2aa <- function(x) {\n",
    "  ds <- Biostrings::DNAStringSet(x)\n",
    "  res <- Biostrings::translate(ds,\n",
    "    no.init.codon = TRUE, if.fuzzy.codon = \"solve\"\n",
    "  ) %>%\n",
    "    as.character()\n",
    "  return(res)\n",
    "}"
   ]
  },
  {
   "cell_type": "code",
   "execution_count": null,
   "id": "2b0d67fb-a0ba-455b-8543-a93ec5d8cf50",
   "metadata": {},
   "outputs": [],
   "source": [
    "parse_CellRanger_vdjseq <- function(x) {\n",
    "  if (any(c(\n",
    "    \"cell_id\", \"sequence_id\", \"sequence\",\n",
    "    \"v_sequence_start\", \"sequence_aa\"\n",
    "  ) %nin% colnames(x))) {\n",
    "    stop(\"please read from airr_rearrangement.tsv!\")\n",
    "  }\n",
    "\n",
    "  x <- x %>% dplyr::mutate(\n",
    "      seq_orf_nt = str_sub(.data[[\"sequence\"]], .data[[\"v_sequence_start\"]])\n",
    "    ) %>% dplyr::mutate( seq_orf_aa = nt2aa(.data[[\"seq_orf_nt\"]]))\n",
    "\n",
    "  if (any(x[[\"seq_orf_aa\"]] != x[[\"sequence_aa\"]])) {\n",
    "    stop(\"please check the sequences!\")\n",
    "  }\n",
    "\n",
    "  if (any(!str_detect(x[[\"seq_orf_aa\"]], \"^M\"))) {\n",
    "    stop(\"please check the sequences!\")\n",
    "  }\n",
    "\n",
    "  res <- x[, c(\n",
    "    \"cell_id\", \"sequence_id\",\n",
    "    \"sequence\", \"seq_orf_nt\", \"seq_orf_aa\"\n",
    "  )]\n",
    "\n",
    "  return (res)\n",
    "}\n"
   ]
  },
  {
   "cell_type": "code",
   "execution_count": null,
   "id": "61fc3439-f5ce-497f-b842-4c4038765c4c",
   "metadata": {},
   "outputs": [],
   "source": [
    "write_fasta <- function(x, file) {\n",
    "  if (is.null(names(x))) {\n",
    "    names(x) <- seq_along(x)\n",
    "  }\n",
    "\n",
    "  res <- map2_chr(names(x), x, ~ str_c(\">\", .x, \"\\n\", .y))\n",
    "  out <- file(file, \"w\")\n",
    "  writeLines(res, out)\n",
    "  close(out)\n",
    "}"
   ]
  },
  {
   "cell_type": "code",
   "execution_count": null,
   "id": "b3bd2658-50a7-4481-acce-1d8d7a9d9d2e",
   "metadata": {},
   "outputs": [],
   "source": [
    "cr_airr <- parse_CellRanger_vdjseq(cr_airr)"
   ]
  },
  {
   "cell_type": "code",
   "execution_count": null,
   "id": "230f123c-cab7-49b1-a523-b0b9063df0d3",
   "metadata": {
    "scrolled": true
   },
   "outputs": [],
   "source": [
    "cr_airr %>% pull(seq_orf_nt, sequence_id) %>% \n",
    "    write_fasta(snakemake@output[['VDJB_orf_nt_fa']])"
   ]
  },
  {
   "cell_type": "code",
   "execution_count": null,
   "id": "20b0635a-cafe-4515-aef9-0b67f0b39134",
   "metadata": {
    "scrolled": true
   },
   "outputs": [],
   "source": [
    "cr_airr %>% pull(seq_orf_aa, sequence_id) %>% \n",
    "    write_fasta(snakemake@output[['VDJB_orf_aa_fa']])"
   ]
  }
 ],
 "metadata": {
  "kernelspec": {
   "display_name": "R_ab",
   "language": "R",
   "name": "r_ab"
  },
  "language_info": {
   "codemirror_mode": "r",
   "file_extension": ".r",
   "mimetype": "text/x-r-source",
   "name": "R",
   "pygments_lexer": "r",
   "version": "4.2.3"
  }
 },
 "nbformat": 4,
 "nbformat_minor": 5
}
