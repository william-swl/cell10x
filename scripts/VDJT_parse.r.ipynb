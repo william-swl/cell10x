{
 "cells": [
  {
   "cell_type": "code",
   "execution_count": null,
   "id": "c5ac4dc5-b396-47bc-9954-557a6032f546",
   "metadata": {
    "tags": []
   },
   "outputs": [],
   "source": [
    "baizer::pkglib(tidyverse, Biostrings, Peptides, baizer, genogamesh, yaml)"
   ]
  },
  {
   "cell_type": "code",
   "execution_count": null,
   "id": "36bafc5c-4f8b-4abc-b467-e34cdccf2c68",
   "metadata": {},
   "outputs": [],
   "source": [
    "sample <- snakemake@wildcards[['sample']]\n",
    "\n",
    "# replace default configs with sample configs\n",
    "config <- replace_item(snakemake@config, snakemake@config[[sample]])"
   ]
  },
  {
   "cell_type": "code",
   "execution_count": null,
   "id": "5856b0fe-122a-443c-82b8-d2d8327ff69a",
   "metadata": {},
   "outputs": [],
   "source": [
    "Pcount <- snakemake@input[['VDJT_count_dir']]\n",
    "\n",
    "Pcsv <- snakemake@output[['VDJT_csv']]\n",
    "Pstat <- snakemake@output[['VDJT_stat']]"
   ]
  },
  {
   "cell_type": "code",
   "execution_count": null,
   "id": "0722a8e9-3f6b-4ff8-a1a6-f73bdad41b54",
   "metadata": {
    "tags": []
   },
   "outputs": [],
   "source": [
    "# read from cellranger\n",
    "TBcr_airr <- read_tsv(str_glue('{Pcount}/airr_rearrangement.tsv'))\n",
    "TBcr_anno <- read_csv(str_glue('{Pcount}/all_contig_annotations.csv'))"
   ]
  },
  {
   "cell_type": "code",
   "execution_count": null,
   "id": "ff4ed180-5355-4d96-ab5a-22afa6230581",
   "metadata": {},
   "outputs": [],
   "source": [
    "##################################\n",
    "### select cols\n",
    "##################################"
   ]
  },
  {
   "cell_type": "code",
   "execution_count": null,
   "id": "8ea4a802-c2c4-447c-8341-972f5fac49f1",
   "metadata": {},
   "outputs": [],
   "source": [
    "# columns from cellranger annotation\n",
    "TBcr_anno_sel <- TBcr_anno %>% select(cell=barcode, sequence_id=contig_id, productive_cellranger=productive, chain, \n",
    "                     clone_cellranger=raw_clonotype_id, reads, umis, c_gene,\n",
    "                     v_gene, d_gene, j_gene, \n",
    "                     cdr1_nt, cdr1_aa=cdr1, cdr2_nt, cdr2_aa=cdr2, cdr3_nt, cdr3_aa=cdr3, \n",
    "                     fwr1_nt, fwr1_aa=fwr1, fwr2_nt, fwr2_aa=fwr2, fwr3_nt, fwr3_aa=fwr3, fwr4_nt, fwr4_aa=fwr4\n",
    "                    )"
   ]
  },
  {
   "cell_type": "code",
   "execution_count": null,
   "id": "8be501f7-5155-473f-ab71-282d5cf1ff26",
   "metadata": {},
   "outputs": [],
   "source": [
    "# columns from cellranger airr\n",
    "TBcr_airr_sel <- TBcr_airr %>% select(sequence_id, seq_nt=sequence, seq_aa=sequence_aa, seq_align_nt=sequence_alignment)"
   ]
  },
  {
   "cell_type": "code",
   "execution_count": null,
   "id": "967b8ca8-98c6-4b91-8ce1-d9a2d3058ad6",
   "metadata": {},
   "outputs": [],
   "source": [
    "##################################\n",
    "### join\n",
    "##################################"
   ]
  },
  {
   "cell_type": "code",
   "execution_count": null,
   "id": "4b396d87-30bb-402b-a97a-6c8d42f0708b",
   "metadata": {},
   "outputs": [],
   "source": [
    "TBjoin <- TBcr_anno_sel %>% left_join(TBcr_airr_sel, by='sequence_id') %>%\n",
    "    relocate(all_of(colnames(TBcr_airr_sel)[-1]), .after=fwr4_aa)"
   ]
  },
  {
   "cell_type": "code",
   "execution_count": null,
   "id": "756f024a-b69e-40c9-bb25-f95ea1c25387",
   "metadata": {},
   "outputs": [],
   "source": [
    "##################################\n",
    "### widen for HL\n",
    "##################################"
   ]
  },
  {
   "cell_type": "code",
   "execution_count": null,
   "id": "3802f890-05cf-4e57-abea-171a202c9cef",
   "metadata": {},
   "outputs": [],
   "source": [
    "TBjoin <- TBjoin %>% mutate(HL=case_when(chain=='TRA' ~ 'H', chain=='TRG' ~ 'H', chain=='TRB' ~ 'L', chain=='TRD' ~ 'L')) %>%\n",
    "    mutate(HL=factor(HL, c('H', 'L'))) %>% \n",
    "    # remove the contigs unknown\n",
    "    filter(!is.na(HL))"
   ]
  },
  {
   "cell_type": "code",
   "execution_count": null,
   "id": "45c268d8-3b7f-4083-b530-5fb16f89669c",
   "metadata": {},
   "outputs": [],
   "source": [
    "# contig numbers of a cell, and whether there is only an unique H or L\n",
    "TBunique <- TBjoin %>% group_by(cell, HL) %>% summarise(contig_num = n(), unique = n() == 1) %>%\n",
    "    ungroup"
   ]
  },
  {
   "cell_type": "code",
   "execution_count": null,
   "id": "9a256167-84f8-435e-bee5-3b97a3d78c3f",
   "metadata": {},
   "outputs": [],
   "source": [
    "# for multi-contigs, only keep the first one with most umis\n",
    "TBjoin <- TBjoin %>% group_by(cell, HL) %>% arrange(desc(umis)) %>% dplyr::slice(1) %>% ungroup %>%\n",
    "    arrange(HL, cell, sequence_id)"
   ]
  },
  {
   "cell_type": "code",
   "execution_count": null,
   "id": "1bb6f0b6-d033-44f4-9e59-d41db748a89b",
   "metadata": {},
   "outputs": [],
   "source": [
    "TBjoin <- TBjoin %>% left_join(TBunique, by=c('cell', 'HL')) %>%\n",
    "    relocate(contig_num, unique, .after=umis)"
   ]
  },
  {
   "cell_type": "code",
   "execution_count": null,
   "id": "89753233-cac6-45c4-ad5a-6fcd87baaf56",
   "metadata": {},
   "outputs": [],
   "source": [
    "# pivot\n",
    "keep_col <- c('cell', 'HL')\n",
    "TBwider <- TBjoin %>% pivot_wider(names_from='HL', values_from=-all_of(keep_col))"
   ]
  },
  {
   "cell_type": "code",
   "execution_count": null,
   "id": "d70baaa3-19fb-4d65-b9c1-51acbe7e49ac",
   "metadata": {},
   "outputs": [],
   "source": [
    "# unique, productive, clone_cellranger, class\n",
    "TBwider <- TBwider %>% \n",
    "    mutate(\n",
    "           productive_cellranger=productive_cellranger_H & productive_cellranger_H,\n",
    "           unique = unique_H & unique_L, \n",
    "           clone_cellranger = case_when(!is.na(clone_cellranger_H) ~ clone_cellranger_H,\n",
    "                                        !is.na(clone_cellranger_L) ~ clone_cellranger_L),\n",
    "           .after=cell\n",
    "          )"
   ]
  },
  {
   "cell_type": "code",
   "execution_count": null,
   "id": "52597a66-cf24-46a7-a3b4-a5b904b7b2c8",
   "metadata": {},
   "outputs": [],
   "source": []
  },
  {
   "cell_type": "code",
   "execution_count": null,
   "id": "73c97853-c9ca-4522-aeec-d7e4ca9e5e86",
   "metadata": {},
   "outputs": [],
   "source": [
    "# stat\n",
    "Lstat <- list()"
   ]
  },
  {
   "cell_type": "code",
   "execution_count": null,
   "id": "802454b2-9ed3-4676-be65-5a5917c092e8",
   "metadata": {},
   "outputs": [],
   "source": [
    "# write\n",
    "write_excel_csv(TBwider, Pcsv)\n",
    "write_yaml(Lstat, file=Pstat)"
   ]
  }
 ],
 "metadata": {
  "kernelspec": {
   "display_name": "R_ab",
   "language": "R",
   "name": "r_ab"
  },
  "language_info": {
   "codemirror_mode": "r",
   "file_extension": ".r",
   "mimetype": "text/x-r-source",
   "name": "R",
   "pygments_lexer": "r",
   "version": "4.2.3"
  }
 },
 "nbformat": 4,
 "nbformat_minor": 5
}
