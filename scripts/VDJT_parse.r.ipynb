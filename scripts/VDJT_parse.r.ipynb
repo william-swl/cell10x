{
 "cells": [
  {
   "cell_type": "markdown",
   "id": "1eabf0b8-9f81-43cb-ac35-3b18927f0bf4",
   "metadata": {
    "tags": []
   },
   "source": [
    "baizer::pkglib(tidyverse, baizer, yaml)"
   ]
  },
  {
   "cell_type": "markdown",
   "id": "f8ca65c2-b621-45e0-bac1-2b405b7aaf73",
   "metadata": {},
   "source": [
    "sample <- snakemake@wildcards[['sample']]\n",
    "\n",
    "# replace default configs with sample configs\n",
    "config <- replace_item(snakemake@config, snakemake@config[[sample]])"
   ]
  }
 ],
 "metadata": {
  "kernelspec": {
   "display_name": "R_ab",
   "language": "R",
   "name": "r_ab"
  },
  "language_info": {
   "codemirror_mode": "r",
   "file_extension": ".r",
   "mimetype": "text/x-r-source",
   "name": "R",
   "pygments_lexer": "r",
   "version": "4.2.3"
  }
 },
 "nbformat": 4,
 "nbformat_minor": 5
}
