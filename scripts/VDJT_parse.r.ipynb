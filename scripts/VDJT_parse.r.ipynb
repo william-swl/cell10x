{
 "cells": [
  {
   "cell_type": "code",
   "execution_count": null,
   "id": "3c34ecf7-0d2d-450a-8547-6fea5d89787f",
   "metadata": {
    "tags": []
   },
   "outputs": [],
   "source": [
    "R.home()"
   ]
  },
  {
   "cell_type": "code",
   "execution_count": null,
   "id": "4876d337-e1eb-444b-8b20-e892c9eb537b",
   "metadata": {
    "tags": []
   },
   "outputs": [],
   "source": [
    "baizer::pkglib(tidyverse, Biostrings, Peptides, baizer, yaml)"
   ]
  },
  {
   "cell_type": "code",
   "execution_count": null,
   "id": "e309dad3-d5e1-4730-8d08-6e0e5b9d66bb",
   "metadata": {},
   "outputs": [],
   "source": [
    "sample <- snakemake@wildcards[['sample']]\n",
    "\n",
    "# replace default configs with sample configs\n",
    "config <- replace_item(snakemake@config, snakemake@config[[sample]])"
   ]
  },
  {
   "cell_type": "code",
   "execution_count": null,
   "id": "54a532ab-9652-4c3c-98e0-3a2dd0230d7f",
   "metadata": {},
   "outputs": [],
   "source": [
    "# read from cellranger\n",
    "TBcr_airr <- read_tsv(str_c(snakemake@input[['count_dir']], str_glue(config[['count_VDJT_airr']]), sep='/'))\n",
    "TBcr_anno <- read_csv(str_c(snakemake@input[['count_dir']], str_glue(config[['count_VDJT_anno']]), sep='/'))"
   ]
  },
  {
   "cell_type": "code",
   "execution_count": null,
   "id": "1d69f4cb-4ab9-4540-9905-7739945159b2",
   "metadata": {},
   "outputs": [],
   "source": [
    "##################################\n",
    "### select cols\n",
    "##################################"
   ]
  },
  {
   "cell_type": "code",
   "execution_count": null,
   "id": "63f79d8b-1bd0-4d9a-9e44-2e86587f388f",
   "metadata": {},
   "outputs": [],
   "source": [
    "# columns from cellranger annotation\n",
    "TBcr_anno_sel <- TBcr_anno %>% select(cell=barcode, sequence_id=contig_id, productive_cellranger=productive, chain, \n",
    "                     clone_cellranger=raw_clonotype_id, reads, umis, c_gene,\n",
    "                     v_gene, d_gene, j_gene, \n",
    "                     cdr1_nt, cdr1_aa=cdr1, cdr2_nt, cdr2_aa=cdr2, cdr3_nt, cdr3_aa=cdr3, \n",
    "                     fwr1_nt, fwr1_aa=fwr1, fwr2_nt, fwr2_aa=fwr2, fwr3_nt, fwr3_aa=fwr3, fwr4_nt, fwr4_aa=fwr4\n",
    "                    )"
   ]
  },
  {
   "cell_type": "code",
   "execution_count": null,
   "id": "e55b762a-bd25-422c-b9e8-de9033dc26ff",
   "metadata": {},
   "outputs": [],
   "source": [
    "# columns from cellranger airr\n",
    "TBcr_airr_sel <- TBcr_airr %>% select(sequence_id, seq_nt=sequence, seq_aa=sequence_aa, seq_align_nt=sequence_alignment)"
   ]
  },
  {
   "cell_type": "code",
   "execution_count": null,
   "id": "aa1a019d-43d9-4c72-b3ec-743c8798e4c4",
   "metadata": {},
   "outputs": [],
   "source": [
    "##################################\n",
    "### join\n",
    "##################################"
   ]
  },
  {
   "cell_type": "code",
   "execution_count": null,
   "id": "f9e956de-14ef-4558-bfff-bee6d793621c",
   "metadata": {},
   "outputs": [],
   "source": [
    "TBjoin <- TBcr_anno_sel %>% left_join(TBcr_airr_sel, by='sequence_id') %>%\n",
    "    relocate(all_of(colnames(TBcr_airr_sel)[-1]), .after=fwr4_aa)"
   ]
  },
  {
   "cell_type": "code",
   "execution_count": null,
   "id": "9e1bda4f-a718-4ed2-82ad-808384aa08ef",
   "metadata": {},
   "outputs": [],
   "source": [
    "##################################\n",
    "### widen for HL\n",
    "##################################"
   ]
  },
  {
   "cell_type": "code",
   "execution_count": null,
   "id": "c7488ad1-035e-4422-9a04-22d556575374",
   "metadata": {},
   "outputs": [],
   "source": [
    "TBjoin <- TBjoin %>% mutate(HL=case_when(chain=='TRA' ~ 'H', chain=='TRG' ~ 'H', chain=='TRB' ~ 'L', chain=='TRD' ~ 'L')) %>%\n",
    "    mutate(HL=factor(HL, c('H', 'L'))) %>% \n",
    "    # remove the contigs unknown\n",
    "    filter(!is.na(HL))"
   ]
  },
  {
   "cell_type": "code",
   "execution_count": null,
   "id": "407f3dbf-3c5f-4a8a-8618-019ed7ea26f2",
   "metadata": {},
   "outputs": [],
   "source": [
    "# contig numbers of a cell, and whether there is only an unique H or L\n",
    "TBunique <- TBjoin %>% group_by(cell, HL) %>% summarise(contig_num = n(), unique = n() == 1) %>%\n",
    "    ungroup"
   ]
  },
  {
   "cell_type": "code",
   "execution_count": null,
   "id": "a2367877-a7fa-48e9-984e-e8094d3a3c22",
   "metadata": {},
   "outputs": [],
   "source": [
    "# for multi-contigs, only keep the first one with most umis\n",
    "TBjoin <- TBjoin %>% group_by(cell, HL) %>% arrange(desc(umis)) %>% dplyr::slice(1) %>% ungroup %>%\n",
    "    arrange(HL, cell, sequence_id)"
   ]
  },
  {
   "cell_type": "code",
   "execution_count": null,
   "id": "0fe578f6-853f-4767-baa4-b78784eb12bb",
   "metadata": {},
   "outputs": [],
   "source": [
    "TBjoin <- TBjoin %>% left_join(TBunique, by=c('cell', 'HL')) %>%\n",
    "    relocate(contig_num, unique, .after=umis)"
   ]
  },
  {
   "cell_type": "code",
   "execution_count": null,
   "id": "099723ec-02e7-413c-8a5a-eb7ea3ee4755",
   "metadata": {},
   "outputs": [],
   "source": [
    "# pivot\n",
    "keep_col <- c('cell', 'HL')\n",
    "TBwider <- TBjoin %>% pivot_wider(names_from='HL', values_from=-all_of(keep_col))\n",
    "TBwider <- TBwider %>% mutate(batch = sample, .after=cell)"
   ]
  },
  {
   "cell_type": "code",
   "execution_count": null,
   "id": "5f6b7319-2471-4df3-85dc-832550ac74e8",
   "metadata": {},
   "outputs": [],
   "source": [
    "# unique, productive, clone_cellranger, class\n",
    "TBwider <- TBwider %>% \n",
    "    mutate(\n",
    "           productive_cellranger=productive_cellranger_H & productive_cellranger_H,\n",
    "           unique = unique_H & unique_L, \n",
    "           clone_cellranger = case_when(!is.na(clone_cellranger_H) ~ clone_cellranger_H,\n",
    "                                        !is.na(clone_cellranger_L) ~ clone_cellranger_L),\n",
    "           .after=cell\n",
    "          )\n",
    "# if single contig\n",
    "TBwider <- TBwider %>% mutate(\n",
    "    productive_cellranger=ifelse(is.na(seq_nt_H) | is.na(seq_nt_L), FALSE, productive_cellranger),\n",
    "    unique=ifelse(is.na(seq_nt_H) | is.na(seq_nt_L), FALSE, unique)\n",
    ")"
   ]
  },
  {
   "cell_type": "code",
   "execution_count": null,
   "id": "9bb591ec-7b5e-49b7-b056-75ff506cdc5c",
   "metadata": {},
   "outputs": [],
   "source": [
    "# stat\n",
    "\n",
    "TBmtx <- read_csv(str_c(snakemake@input[['count_dir']], str_glue(config[['count_VDJT_mtx']]), sep='/')) %>% \n",
    "    dplyr::rename(item=`Metric Name`, value=`Metric Value`) %>%\n",
    "    filter(`Library Type` == 'VDJ T')"
   ]
  },
  {
   "cell_type": "code",
   "execution_count": null,
   "id": "1914ae4e-f9f2-4068-a3e5-65637b49b380",
   "metadata": {},
   "outputs": [],
   "source": [
    "Lstat <- TBmtx %>% distinct(item, value) %>% pivot_wider(names_from='item', values_from='value') %>% select(any_of(c(\n",
    "    'cells'='Estimated number of cells', \n",
    "    'mean_reads'='Mean reads per cell', \n",
    "    'median_TRA'='Median TRA UMIs per Cell', \n",
    "    'median_TRB'='Median TRB UMIs per Cell', \n",
    "    'align_rate'='Reads mapped to any V(D)J gene', \n",
    "    'total_reads'='Number of reads', \n",
    "    'Q30_barcode'='Q30 barcodes', \n",
    "    'Q30_umi'='Q30 UMI', \n",
    "    'Q30_R1'='Q30 RNA read',\n",
    "    'Q30_R2'='Q30 RNA read 2'\n",
    "))) %>% as.list"
   ]
  },
  {
   "cell_type": "code",
   "execution_count": null,
   "id": "3e8522a4-01ea-4e09-b504-98504960a874",
   "metadata": {},
   "outputs": [],
   "source": [
    "# write\n",
    "dir.create(dirname(snakemake@output[['VDJT_csv']]), recursive = TRUE)\n",
    "write_excel_csv(TBwider, snakemake@output[['VDJT_csv']])\n",
    "write_yaml(Lstat, file=snakemake@output[['VDJT_stat']])"
   ]
  },
  {
   "cell_type": "code",
   "execution_count": null,
   "id": "cd6794d3-7c02-4653-9f5d-bbfb6f07d332",
   "metadata": {
    "tags": []
   },
   "outputs": [],
   "source": [
    "dir.create(snakemake@output[['stat_dir']], recursive = TRUE)\n",
    "file.copy(snakemake@output[['VDJT_csv']], \n",
    "          str_c(snakemake@output[['stat_dir']], '/', basename(snakemake@output[['VDJT_csv']])), \n",
    "          overwrite=TRUE)\n",
    "file.copy(snakemake@output[['VDJT_stat']], \n",
    "          str_c(snakemake@output[['stat_dir']], '/', basename(snakemake@output[['VDJT_stat']])), \n",
    "          overwrite=TRUE)"
   ]
  }
 ],
 "metadata": {
  "kernelspec": {
   "display_name": "R [conda env:36ec75f951f6459df6fbff4132e506e7_]",
   "language": "R",
   "name": "conda-env-36ec75f951f6459df6fbff4132e506e7_-r"
  },
  "language_info": {
   "codemirror_mode": "r",
   "file_extension": ".r",
   "mimetype": "text/x-r-source",
   "name": "R",
   "pygments_lexer": "r",
   "version": "4.2.3"
  }
 },
 "nbformat": 4,
 "nbformat_minor": 5
}
