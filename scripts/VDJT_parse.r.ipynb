{
 "cells": [
  {
   "cell_type": "code",
   "execution_count": null,
   "id": "24c9a88f-0827-4c9e-8110-778173245ea3",
   "metadata": {
    "tags": []
   },
   "outputs": [],
   "source": [
    "R.home()"
   ]
  },
  {
   "cell_type": "code",
   "execution_count": null,
   "id": "2b936ada-03c4-41f4-a3f8-0d45a191363d",
   "metadata": {
    "tags": []
   },
   "outputs": [],
   "source": [
    "baizer::pkglib(tidyverse, Biostrings, Peptides, baizer, genogamesh, yaml)"
   ]
  },
  {
   "cell_type": "code",
   "execution_count": null,
   "id": "0dc9fca2-c1dd-4e43-83f8-260b82436a62",
   "metadata": {},
   "outputs": [],
   "source": [
    "sample <- snakemake@wildcards[['sample']]\n",
    "\n",
    "# replace default configs with sample configs\n",
    "config <- replace_item(snakemake@config, snakemake@config[[sample]])"
   ]
  },
  {
   "cell_type": "code",
   "execution_count": null,
   "id": "b0b1202e-f335-430d-b6c7-6af39672c04f",
   "metadata": {},
   "outputs": [],
   "source": [
    "# read from cellranger\n",
    "TBcr_airr <- read_tsv(str_c(snakemake@input[['count_dir']], str_glue(config[['count_VDJT_airr']]), sep='/'))\n",
    "TBcr_anno <- read_csv(str_c(snakemake@input[['count_dir']], str_glue(config[['count_VDJT_anno']]), sep='/'))"
   ]
  },
  {
   "cell_type": "code",
   "execution_count": null,
   "id": "d08f99ad-9dae-4e70-b2b7-5b5fbf4310c3",
   "metadata": {},
   "outputs": [],
   "source": [
    "##################################\n",
    "### select cols\n",
    "##################################"
   ]
  },
  {
   "cell_type": "code",
   "execution_count": null,
   "id": "97864e79-4bc1-4c6c-981f-b0ff8c2e69c8",
   "metadata": {},
   "outputs": [],
   "source": [
    "# columns from cellranger annotation\n",
    "TBcr_anno_sel <- TBcr_anno %>% select(cell=barcode, sequence_id=contig_id, productive_cellranger=productive, chain, \n",
    "                     clone_cellranger=raw_clonotype_id, reads, umis, c_gene,\n",
    "                     v_gene, d_gene, j_gene, \n",
    "                     cdr1_nt, cdr1_aa=cdr1, cdr2_nt, cdr2_aa=cdr2, cdr3_nt, cdr3_aa=cdr3, \n",
    "                     fwr1_nt, fwr1_aa=fwr1, fwr2_nt, fwr2_aa=fwr2, fwr3_nt, fwr3_aa=fwr3, fwr4_nt, fwr4_aa=fwr4\n",
    "                    )"
   ]
  },
  {
   "cell_type": "code",
   "execution_count": null,
   "id": "2e656490-f07a-47ba-97ca-5ab327969d81",
   "metadata": {},
   "outputs": [],
   "source": [
    "# columns from cellranger airr\n",
    "TBcr_airr_sel <- TBcr_airr %>% select(sequence_id, seq_nt=sequence, seq_aa=sequence_aa, seq_align_nt=sequence_alignment)"
   ]
  },
  {
   "cell_type": "code",
   "execution_count": null,
   "id": "ad851dd7-93a7-4b8f-9386-08ab14a9597e",
   "metadata": {},
   "outputs": [],
   "source": [
    "##################################\n",
    "### join\n",
    "##################################"
   ]
  },
  {
   "cell_type": "code",
   "execution_count": null,
   "id": "ba704abb-52fb-46d7-88f0-f336a26637c9",
   "metadata": {},
   "outputs": [],
   "source": [
    "TBjoin <- TBcr_anno_sel %>% left_join(TBcr_airr_sel, by='sequence_id') %>%\n",
    "    relocate(all_of(colnames(TBcr_airr_sel)[-1]), .after=fwr4_aa)"
   ]
  },
  {
   "cell_type": "code",
   "execution_count": null,
   "id": "b201e680-ad91-48b1-836f-06267559c5d4",
   "metadata": {},
   "outputs": [],
   "source": [
    "##################################\n",
    "### widen for HL\n",
    "##################################"
   ]
  },
  {
   "cell_type": "code",
   "execution_count": null,
   "id": "ed66c3ee-ac9a-4c95-ae95-be4074ed54cd",
   "metadata": {},
   "outputs": [],
   "source": [
    "TBjoin <- TBjoin %>% mutate(HL=case_when(chain=='TRA' ~ 'H', chain=='TRG' ~ 'H', chain=='TRB' ~ 'L', chain=='TRD' ~ 'L')) %>%\n",
    "    mutate(HL=factor(HL, c('H', 'L'))) %>% \n",
    "    # remove the contigs unknown\n",
    "    filter(!is.na(HL))"
   ]
  },
  {
   "cell_type": "code",
   "execution_count": null,
   "id": "1ad5ac13-f01a-4f72-98d8-ec152c54fb34",
   "metadata": {},
   "outputs": [],
   "source": [
    "# contig numbers of a cell, and whether there is only an unique H or L\n",
    "TBunique <- TBjoin %>% group_by(cell, HL) %>% summarise(contig_num = n(), unique = n() == 1) %>%\n",
    "    ungroup"
   ]
  },
  {
   "cell_type": "code",
   "execution_count": null,
   "id": "6aae3924-40e0-4df8-b0cc-d22ed0b704da",
   "metadata": {},
   "outputs": [],
   "source": [
    "# for multi-contigs, only keep the first one with most umis\n",
    "TBjoin <- TBjoin %>% group_by(cell, HL) %>% arrange(desc(umis)) %>% dplyr::slice(1) %>% ungroup %>%\n",
    "    arrange(HL, cell, sequence_id)"
   ]
  },
  {
   "cell_type": "code",
   "execution_count": null,
   "id": "edbd14f9-2687-48c2-a0f4-372bf134d8b0",
   "metadata": {},
   "outputs": [],
   "source": [
    "TBjoin <- TBjoin %>% left_join(TBunique, by=c('cell', 'HL')) %>%\n",
    "    relocate(contig_num, unique, .after=umis)"
   ]
  },
  {
   "cell_type": "code",
   "execution_count": null,
   "id": "da2a801e-9a8a-445e-89e0-bf74e6fb65d0",
   "metadata": {},
   "outputs": [],
   "source": [
    "# pivot\n",
    "keep_col <- c('cell', 'HL')\n",
    "TBwider <- TBjoin %>% pivot_wider(names_from='HL', values_from=-all_of(keep_col))\n",
    "TBwider <- TBwider %>% mutate(batch = sample, .after=cell)"
   ]
  },
  {
   "cell_type": "code",
   "execution_count": null,
   "id": "1b54faeb-795c-4dc5-af3d-8d9f0c7b95c1",
   "metadata": {},
   "outputs": [],
   "source": [
    "# unique, productive, clone_cellranger, class\n",
    "TBwider <- TBwider %>% \n",
    "    mutate(\n",
    "           productive_cellranger=productive_cellranger_H & productive_cellranger_H,\n",
    "           unique = unique_H & unique_L, \n",
    "           clone_cellranger = case_when(!is.na(clone_cellranger_H) ~ clone_cellranger_H,\n",
    "                                        !is.na(clone_cellranger_L) ~ clone_cellranger_L),\n",
    "           .after=cell\n",
    "          )\n",
    "# if single contig\n",
    "TBwider <- TBwider %>% mutate(\n",
    "    productive_cellranger=ifelse(is.na(seq_nt_H) | is.na(seq_nt_L), FALSE, productive_cellranger),\n",
    "    unique=ifelse(is.na(seq_nt_H) | is.na(seq_nt_L), FALSE, unique)\n",
    ")"
   ]
  },
  {
   "cell_type": "code",
   "execution_count": null,
   "id": "fe4ea9c7-c2f3-4edf-b11e-b5cdc47b722d",
   "metadata": {},
   "outputs": [],
   "source": [
    "# stat\n",
    "\n",
    "TBmtx <- read_csv(str_c(snakemake@input[['count_dir']], str_glue(config[['count_VDJT_mtx']]), sep='/')) %>% \n",
    "    dplyr::rename(item=`Metric Name`, value=`Metric Value`) %>%\n",
    "    filter(`Library Type` == 'VDJ T')"
   ]
  },
  {
   "cell_type": "code",
   "execution_count": null,
   "id": "951ee13a-ce01-42ae-b32b-8be1efe3e2f1",
   "metadata": {},
   "outputs": [],
   "source": [
    "Lstat <- TBmtx %>% distinct(item, value) %>% pivot_wider(names_from='item', values_from='value') %>% select(any_of(c(\n",
    "    'cells'='Estimated number of cells', \n",
    "    'mean_reads'='Mean reads per cell', \n",
    "    'median_TRA'='Median TRA UMIs per Cell', \n",
    "    'median_TRB'='Median TRB UMIs per Cell', \n",
    "    'align_rate'='Reads mapped to any V(D)J gene', \n",
    "    'total_reads'='Number of reads', \n",
    "    'Q30_barcode'='Q30 barcodes', \n",
    "    'Q30_umi'='Q30 UMI', \n",
    "    'Q30_R1'='Q30 RNA read',\n",
    "    'Q30_R2'='Q30 RNA read 2'\n",
    "))) %>% as.list"
   ]
  },
  {
   "cell_type": "code",
   "execution_count": null,
   "id": "5cb7c21d-a098-403a-8f25-b53b7ffc21d5",
   "metadata": {},
   "outputs": [],
   "source": [
    "# write\n",
    "dir.create(dirname(snakemake@output[['VDJT_csv']]), recursive = TRUE)\n",
    "write_excel_csv(TBwider, snakemake@output[['VDJT_csv']])\n",
    "write_yaml(Lstat, file=snakemake@output[['VDJT_stat']])"
   ]
  },
  {
   "cell_type": "code",
   "execution_count": null,
   "id": "518e5d23-e174-4c9e-9f41-f5b3094a03be",
   "metadata": {
    "tags": []
   },
   "outputs": [],
   "source": [
    "dir.create(snakemake@output[['stat_dir']], recursive = TRUE)\n",
    "file.copy(snakemake@output[['VDJT_csv']], \n",
    "          str_c(snakemake@output[['stat_dir']], '/', basename(snakemake@output[['VDJT_csv']])), \n",
    "          overwrite=TRUE)\n",
    "file.copy(snakemake@output[['VDJT_stat']], \n",
    "          str_c(snakemake@output[['stat_dir']], '/', basename(snakemake@output[['VDJT_stat']])), \n",
    "          overwrite=TRUE)"
   ]
  }
 ],
 "metadata": {
  "kernelspec": {
   "display_name": "R [conda env:36ec75f951f6459df6fbff4132e506e7_]",
   "language": "R",
   "name": "conda-env-36ec75f951f6459df6fbff4132e506e7_-r"
  },
  "language_info": {
   "codemirror_mode": "r",
   "file_extension": ".r",
   "mimetype": "text/x-r-source",
   "name": "R",
   "pygments_lexer": "r",
   "version": "4.2.3"
  }
 },
 "nbformat": 4,
 "nbformat_minor": 5
}
