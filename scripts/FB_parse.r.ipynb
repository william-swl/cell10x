{
 "cells": [
  {
   "cell_type": "code",
   "execution_count": null,
   "id": "855bedfa-813c-43b1-9621-298375c7bca8",
   "metadata": {
    "tags": []
   },
   "outputs": [],
   "source": [
    "R.home()"
   ]
  },
  {
   "cell_type": "code",
   "execution_count": null,
   "id": "35ac8118-9212-4b89-a2c7-b5f3d56122ff",
   "metadata": {
    "tags": []
   },
   "outputs": [],
   "source": [
    "baizer::pkglib(Seurat, tidyverse, baizer, yaml)"
   ]
  },
  {
   "cell_type": "code",
   "execution_count": null,
   "id": "c2172ffa-013b-446f-8db3-de3f21c665ca",
   "metadata": {
    "tags": []
   },
   "outputs": [],
   "source": [
    "sample <- snakemake@wildcards[['sample']]\n",
    "\n",
    "# replace default configs with sample configs\n",
    "config <- replace_item(snakemake@config, snakemake@config[[sample]])"
   ]
  },
  {
   "cell_type": "code",
   "execution_count": null,
   "id": "43c3cce4-5942-4522-bf92-9e5a94abb107",
   "metadata": {
    "tags": []
   },
   "outputs": [],
   "source": [
    "# Seurat readin\n",
    "if (config[[sample]][['mRNA']]) {\n",
    "    Lcount <- Read10X(\n",
    "        data.dir = str_c(snakemake@input[['count_dir']], str_glue(config[['count_FB_dir']]), sep='/')\n",
    "    )\n",
    "    Mcount <- Lcount[[config[['FB_type']]]]\n",
    "} else {\n",
    "    Mcount <- Read10X(\n",
    "        data.dir = str_c(snakemake@input[['count_dir']], str_glue(config[['count_FB_dir']]), sep='/')\n",
    "    )\n",
    "}\n",
    "TBfb <- as.matrix(Mcount) %>% t %>% as.data.frame %>% r2c('cell')"
   ]
  },
  {
   "cell_type": "code",
   "execution_count": null,
   "id": "987b3bfa-74a8-4eda-93e1-a76f462b700e",
   "metadata": {},
   "outputs": [],
   "source": [
    "# fb corr\n",
    "Lcorr <- config[[sample]][['FB_corr']]\n",
    "for (fb in names(Lcorr)) {\n",
    "    fb_col <- str_subset(colnames(TBfb), str_glue('{fb}$'))\n",
    "    TBfb[[fb_col]] <- TBfb[[fb_col]] * Lcorr[[fb]]\n",
    "}"
   ]
  },
  {
   "cell_type": "code",
   "execution_count": null,
   "id": "fb41cc81-0e6e-4a84-96e6-5961da1e98a5",
   "metadata": {},
   "outputs": [],
   "source": [
    "# sum\n",
    "TBfb <- bind_cols(TBfb,\n",
    "    tibble(\n",
    "    sum_HT=TBfb %>% select(matches('^HT_')) %>% rowSums,\n",
    "    sum_NC=TBfb %>% select(matches('^NC_')) %>% rowSums,\n",
    "    sum_BD=TBfb %>% select(matches('^BD_')) %>% rowSums,\n",
    "    )\n",
    ")"
   ]
  },
  {
   "cell_type": "code",
   "execution_count": null,
   "id": "c301fdb3-8d3e-4ebd-b352-331e0a69a04d",
   "metadata": {},
   "outputs": [],
   "source": [
    "Lfb <- config[[sample]][['id2seq']]"
   ]
  },
  {
   "cell_type": "code",
   "execution_count": null,
   "id": "593c44ae-c4f3-46ff-bbd1-0de58d19aac2",
   "metadata": {},
   "outputs": [],
   "source": [
    "# BD\n",
    "\n",
    "# BD list\n",
    "Vcol_BD <- Lfb$BD %>% names %>% str_c('BD_', .)\n",
    "Lcol_BD <- list()\n",
    "for (fb in Vcol_BD %>% str_replace('#\\\\d+$', '') %>% unique){\n",
    "    Lcol_BD[[fb]] <- (Vcol_BD %>% str_subset(fb))}\n",
    "\n",
    "\n",
    "# ratio\n",
    "for (n in names(Lcol_BD)){\n",
    "    V <- TBfb %>% select(all_of(Lcol_BD[[n]])) %>% rowSums\n",
    "    TBfb[, n] <- V\n",
    "    TBfb <- TBfb %>% mutate('{n}_ratio' := (get(n) / sum_BD) %>% round(2)) \n",
    "}\n",
    "\n",
    "# BD_type\n",
    "make_comma_col <- function(row, Vname){Vname[c(row >= config[['Nratio_BD']])] %>% str_replace('BD_', '') %>% str_c(collapse=',')}\n",
    "\n",
    "TBfb$BD_type <-  TBfb %>% select(str_c(names(Lcol_BD), '_ratio')) %>% apply(1, make_comma_col, names(Lcol_BD))"
   ]
  },
  {
   "cell_type": "code",
   "execution_count": null,
   "id": "d5bf1927-7fe3-443d-8963-63278d50b357",
   "metadata": {
    "tags": []
   },
   "outputs": [],
   "source": [
    "# HT\n",
    "if (Lfb$HT %>% length > 0) {\n",
    "    TBhash_group <- TBfb %>% select(cell, starts_with('HT_'), sum_HT) %>% \n",
    "        pivot_longer(-c(cell, sum_HT), names_to=c('.value', 'HT_group'), names_sep='_') %>%\n",
    "        group_by(cell) %>% mutate(HT_ratio=round(HT/sum_HT, 2)) %>%\n",
    "        arrange(cell, desc(HT_ratio)) %>% dplyr::slice(1) %>% ungroup %>%\n",
    "        mutate(group=case_when(sum_HT < 0.0001 ~ 'no hashtag',\n",
    "                       sum_HT < config[['Nlim_HT']] ~ 'low hashtag',\n",
    "                       HT_ratio > config[['Nratio_HT']] ~ HT_group, \n",
    "                       TRUE ~ 'mixed')) %>%\n",
    "        select(cell, HT_group, HT_ratio) \n",
    "    TBfb <- TBfb %>% left_join(TBhash_group, by='cell')\n",
    "}"
   ]
  },
  {
   "cell_type": "code",
   "execution_count": null,
   "id": "9a3d7971-dda5-471c-a50f-75b164bd3b2d",
   "metadata": {},
   "outputs": [],
   "source": [
    "# NC\n",
    "if (Lfb$NC %>% length > 0) {\n",
    "    TBfb <- TBfb %>% \n",
    "        mutate(NC_load = ifelse(sum_NC == 0, FALSE, \n",
    "                sum_NC / (sum_BD + sum_NC) > config[['Nratio_NC']]\n",
    "               )\n",
    "        )\n",
    "} else {\n",
    "    TBfb <- TBfb %>% mutate(NC_load=FALSE)\n",
    "}"
   ]
  },
  {
   "cell_type": "code",
   "execution_count": null,
   "id": "8bac792d-2fb8-4b3f-8aab-c1558e2cc35e",
   "metadata": {},
   "outputs": [],
   "source": [
    "# stat\n",
    "\n",
    "TBmtx <- read_csv(str_c(snakemake@input[['count_dir']], str_glue(config[['count_FB_mtx']]), sep='/')) %>% \n",
    "    dplyr::rename(item=`Metric Name`, value=`Metric Value`) %>%\n",
    "    filter(`Library Type` == config[['FB_type']])"
   ]
  },
  {
   "cell_type": "code",
   "execution_count": null,
   "id": "1a607f04-9276-49bf-b30b-e22fa6d039bb",
   "metadata": {},
   "outputs": [],
   "source": [
    "Lstat <- TBmtx %>% distinct(item, value) %>% pivot_wider(names_from='item', values_from='value') %>% select(any_of(c(\n",
    "    'cells'='Cells', \n",
    "    'mean_reads'='Mean reads per cell', \n",
    "    'median_umis'='Median UMI counts per cell',\n",
    "    'total_reads'='Number of reads', \n",
    "    'FB_reads'='Fraction antibody reads usable', \n",
    "    'aggregate_reads'='Fraction antibody reads in aggregate barcodes', \n",
    "    'Q30_barcode'='Q30 barcodes', \n",
    "    'Q30_umi'='Q30 UMI', \n",
    "    'Q30_R2'='Q30 RNA read'\n",
    "))) %>% as.list"
   ]
  },
  {
   "cell_type": "code",
   "execution_count": null,
   "id": "85a957a0-550e-43f3-af55-f5d71808b66a",
   "metadata": {},
   "outputs": [],
   "source": [
    "# write\n",
    "dir.create(dirname(snakemake@output[['FB_csv']]), recursive = TRUE)\n",
    "write_excel_csv(TBfb, snakemake@output[['FB_csv']])\n",
    "write_yaml(Lstat, file=snakemake@output[['FB_stat']])"
   ]
  },
  {
   "cell_type": "code",
   "execution_count": null,
   "id": "70a1ee0f-aec2-4f09-b908-ced7a309b409",
   "metadata": {},
   "outputs": [],
   "source": [
    "dir.create(snakemake@output[['stat_dir']], recursive = TRUE)\n",
    "file.copy(snakemake@output[['FB_csv']], \n",
    "          str_c(snakemake@output[['stat_dir']], '/', basename(snakemake@output[['FB_csv']])), \n",
    "          overwrite=TRUE)\n",
    "file.copy(snakemake@output[['FB_stat']], \n",
    "          str_c(snakemake@output[['stat_dir']], '/', basename(snakemake@output[['FB_stat']])), \n",
    "          overwrite=TRUE)"
   ]
  }
 ],
 "metadata": {
  "kernelspec": {
   "display_name": "R_ab",
   "language": "R",
   "name": "r_ab"
  },
  "language_info": {
   "codemirror_mode": "r",
   "file_extension": ".r",
   "mimetype": "text/x-r-source",
   "name": "R",
   "pygments_lexer": "r",
   "version": "4.2.3"
  }
 },
 "nbformat": 4,
 "nbformat_minor": 5
}
