{
 "cells": [
  {
   "cell_type": "code",
   "execution_count": null,
   "id": "855bedfa-813c-43b1-9621-298375c7bca8",
   "metadata": {
    "tags": []
   },
   "outputs": [],
   "source": [
    "R.home()"
   ]
  },
  {
   "cell_type": "code",
   "execution_count": null,
   "id": "fa328a99-1a93-44fb-b9ba-ce60b60ba184",
   "metadata": {
    "tags": []
   },
   "outputs": [],
   "source": [
    "baizer::pkglib(Seurat, tidyverse, baizer, yaml)"
   ]
  },
  {
   "cell_type": "code",
   "execution_count": null,
   "id": "8266e602-4f18-45c2-9f7f-e7c74d8b5ce9",
   "metadata": {
    "tags": []
   },
   "outputs": [],
   "source": [
    "sample <- snakemake@wildcards[['sample']]\n",
    "\n",
    "# replace default configs with sample configs\n",
    "config <- replace_item(snakemake@config, snakemake@config[[sample]])"
   ]
  },
  {
   "cell_type": "code",
   "execution_count": null,
   "id": "530ea8a3-31b7-40d5-b47d-0139089604f8",
   "metadata": {
    "tags": []
   },
   "outputs": [],
   "source": [
    "# Seurat readin\n",
    "if (config[[sample]][['mRNA']]) {\n",
    "    Lcount <- Read10X(\n",
    "        data.dir = str_c(snakemake@input[['count_dir']], str_glue(config[['count_FB_dir']]), sep='/')\n",
    "    )\n",
    "    Mcount <- Lcount[[config[['FB_type']]]]\n",
    "    Lcount_raw <- Read10X(\n",
    "        data.dir = str_c(snakemake@input[['count_dir']], str_glue(config[['count_FB_raw_dir']]), sep='/')\n",
    "    )\n",
    "    Mcount_raw <- Lcount[[config[['FB_type']]]]\n",
    "} else {\n",
    "    Mcount <- Read10X(\n",
    "        data.dir = str_c(snakemake@input[['count_dir']], str_glue(config[['count_FB_dir']]), sep='/')\n",
    "    )\n",
    "    Mcount_raw <- Read10X(\n",
    "        data.dir = str_c(snakemake@input[['count_dir']], str_glue(config[['count_FB_raw_dir']]), sep='/')\n",
    "    )\n",
    "}\n",
    "TBfb <- as.matrix(Mcount) %>% t %>% as.data.frame %>% r2c('cell')\n",
    "TBfb_raw <- as.matrix(Mcount_raw) %>% t %>% as.data.frame %>% r2c('cell')"
   ]
  },
  {
   "cell_type": "code",
   "execution_count": null,
   "id": "684d3ffb-53a4-436f-9992-02eb39dbac6a",
   "metadata": {},
   "outputs": [],
   "source": [
    "# save cells in FB library\n",
    "Vcells <- TBfb$cell\n",
    "if (config[[sample]][['VDJB']]) {\n",
    "    Vcells <- union(Vcells,\n",
    "        read_tsv(str_c(snakemake@input[['count_dir']], str_glue(config[['count_VDJB_airr']]), sep='/')) %>% pull(cell_id) %>% unique\n",
    "    )\n",
    "}\n",
    "if (config[[sample]][['VDJT']]) {\n",
    "    Vcells <- union(Vcells,\n",
    "        read_tsv(str_c(snakemake@input[['count_dir']], str_glue(config[['count_VDJT_airr']]), sep='/')) %>% pull(cell_id) %>% unique\n",
    "    )\n",
    "}\n",
    "TBfb <- TBfb_raw %>% filter(cell %in% Vcells)"
   ]
  },
  {
   "cell_type": "code",
   "execution_count": null,
   "id": "8c728b37-8be3-4a4e-9439-472a377b3721",
   "metadata": {},
   "outputs": [],
   "source": [
    "# fb corr\n",
    "Lcorr <- config[[sample]][['FB_corr']]\n",
    "for (fb in names(Lcorr)) {\n",
    "    fb_col <- str_subset(colnames(TBfb), str_glue('{fb}$'))\n",
    "    TBfb[[fb_col]] <- TBfb[[fb_col]] * Lcorr[[fb]]\n",
    "}"
   ]
  },
  {
   "cell_type": "code",
   "execution_count": null,
   "id": "5da2af0e-150f-48b9-b0f2-e5526c7abef9",
   "metadata": {},
   "outputs": [],
   "source": [
    "# sum\n",
    "TBfb <- bind_cols(TBfb,\n",
    "    tibble(\n",
    "    sum_HT=TBfb %>% select(matches('^HT_')) %>% rowSums,\n",
    "    sum_NC=TBfb %>% select(matches('^NC_')) %>% rowSums,\n",
    "    sum_BD=TBfb %>% select(matches('^BD_')) %>% rowSums,\n",
    "    )\n",
    ")"
   ]
  },
  {
   "cell_type": "code",
   "execution_count": null,
   "id": "5be5230f-6607-4bbb-b888-fc1eace302b6",
   "metadata": {},
   "outputs": [],
   "source": [
    "Lfb <- config[[sample]][['id2seq']]"
   ]
  },
  {
   "cell_type": "code",
   "execution_count": null,
   "id": "1aa93cc1-74d8-4f93-88f6-7e48e33a4967",
   "metadata": {},
   "outputs": [],
   "source": [
    "# BD\n",
    "\n",
    "if (Lfb$BD %>% length > 0) {\n",
    "    # BD list\n",
    "    Vcol_BD <- Lfb$BD %>% names %>% str_c('BD_', .)\n",
    "    Lcol_BD <- list()\n",
    "    for (fb in Vcol_BD %>% str_replace('#\\\\d+$', '') %>% unique){\n",
    "        Lcol_BD[[fb]] <- (Vcol_BD %>% str_subset(fb))}\n",
    "    \n",
    "    \n",
    "    # ratio\n",
    "    for (n in names(Lcol_BD)){\n",
    "        V <- TBfb %>% select(all_of(Lcol_BD[[n]])) %>% rowSums\n",
    "        TBfb[, n] <- V\n",
    "        TBfb <- TBfb %>% mutate('{n}_ratio' := (get(n) / sum_BD) %>% round(2)) \n",
    "    }\n",
    "    \n",
    "    # BD_type\n",
    "    make_comma_col <- function(row, Vname){Vname[c(row >= config[['Nratio_BD']])] %>% str_replace('BD_', '') %>% str_c(collapse=',')}\n",
    "    \n",
    "    TBfb$BD_type <-  TBfb %>% select(str_c(names(Lcol_BD), '_ratio')) %>% apply(1, make_comma_col, names(Lcol_BD)) \n",
    "}"
   ]
  },
  {
   "cell_type": "code",
   "execution_count": null,
   "id": "64ae57fb-aef1-429f-acc7-6664aa9031d3",
   "metadata": {
    "tags": []
   },
   "outputs": [],
   "source": [
    "# HT\n",
    "if (Lfb$HT %>% length > 0) {\n",
    "    TBhash_group <- TBfb %>% select(cell, starts_with('HT_'), sum_HT) %>% \n",
    "        pivot_longer(-c(cell, sum_HT), names_to=c('.value', 'HT_group'), names_sep='_') %>%\n",
    "        group_by(cell) %>% mutate(HT_ratio=round(HT/sum_HT, 2)) %>%\n",
    "        arrange(cell, desc(HT_ratio)) %>% dplyr::slice(1) %>% ungroup %>%\n",
    "        mutate(group=case_when(sum_HT < 0.0001 ~ 'no hashtag',\n",
    "                       sum_HT < config[['Nlim_HT']] ~ 'low hashtag',\n",
    "                       HT_ratio > config[['Nratio_HT']] ~ HT_group, \n",
    "                       TRUE ~ 'mixed')) %>%\n",
    "        select(cell, HT_group, HT_ratio) \n",
    "    TBfb <- TBfb %>% left_join(TBhash_group, by='cell')\n",
    "}"
   ]
  },
  {
   "cell_type": "code",
   "execution_count": null,
   "id": "a8316d46-4f87-4cb8-a9b8-7a65606e4f5a",
   "metadata": {},
   "outputs": [],
   "source": [
    "# NC\n",
    "if (Lfb$NC %>% length > 0) {\n",
    "    TBfb <- TBfb %>% \n",
    "        mutate(NC_load = ifelse(sum_NC == 0, FALSE, \n",
    "                sum_NC / (sum_BD + sum_NC) > config[['Nratio_NC']]\n",
    "               )\n",
    "        )\n",
    "} else {\n",
    "    TBfb <- TBfb %>% mutate(NC_load=FALSE)\n",
    "}"
   ]
  },
  {
   "cell_type": "code",
   "execution_count": null,
   "id": "1508e073-d8de-45f0-9ebc-634ae9977474",
   "metadata": {},
   "outputs": [],
   "source": [
    "TBfb <- TBfb %>% mutate(batch = sample, .after=cell)"
   ]
  },
  {
   "cell_type": "code",
   "execution_count": null,
   "id": "a78d9782-c895-4304-b7bf-25a663f4816b",
   "metadata": {},
   "outputs": [],
   "source": [
    "# stat\n",
    "\n",
    "TBmtx <- read_csv(str_c(snakemake@input[['count_dir']], str_glue(config[['count_FB_mtx']]), sep='/')) %>% \n",
    "    dplyr::rename(item=`Metric Name`, value=`Metric Value`) %>%\n",
    "    filter(`Library Type` == config[['FB_type']])"
   ]
  },
  {
   "cell_type": "code",
   "execution_count": null,
   "id": "375da04f-65fd-460f-a47e-9d03b6ec217b",
   "metadata": {},
   "outputs": [],
   "source": [
    "Lstat <- TBmtx %>% distinct(item, value) %>% pivot_wider(names_from='item', values_from='value') %>% select(any_of(c(\n",
    "    'cells'='Cells', \n",
    "    'mean_reads'='Mean reads per cell', \n",
    "    'median_umis'='Median UMI counts per cell',\n",
    "    'total_reads'='Number of reads', \n",
    "    'FB_reads'='Fraction antibody reads usable', \n",
    "    'aggregate_reads'='Fraction antibody reads in aggregate barcodes', \n",
    "    'Q30_barcode'='Q30 barcodes', \n",
    "    'Q30_umi'='Q30 UMI', \n",
    "    'Q30_R2'='Q30 RNA read'\n",
    "))) %>% mutate(cells_saved=as.character(nrow(TBfb)), .after=cells) %>% as.list"
   ]
  },
  {
   "cell_type": "code",
   "execution_count": null,
   "id": "1bfdd678-a808-4b01-837d-b97ee5129aef",
   "metadata": {},
   "outputs": [],
   "source": [
    "# write\n",
    "dir.create(dirname(snakemake@output[['FB_csv']]), recursive = TRUE)\n",
    "write_excel_csv(TBfb, snakemake@output[['FB_csv']])\n",
    "write_yaml(Lstat, file=snakemake@output[['FB_stat']])"
   ]
  },
  {
   "cell_type": "code",
   "execution_count": null,
   "id": "7b7c8117-e1c3-4305-9946-1a06340d4078",
   "metadata": {},
   "outputs": [],
   "source": [
    "dir.create(snakemake@output[['stat_dir']], recursive = TRUE)\n",
    "file.copy(snakemake@output[['FB_csv']], \n",
    "          str_c(snakemake@output[['stat_dir']], '/', basename(snakemake@output[['FB_csv']])), \n",
    "          overwrite=TRUE)\n",
    "file.copy(snakemake@output[['FB_stat']], \n",
    "          str_c(snakemake@output[['stat_dir']], '/', basename(snakemake@output[['FB_stat']])), \n",
    "          overwrite=TRUE)"
   ]
  }
 ],
 "metadata": {
  "kernelspec": {
   "display_name": "Python [conda env:d1f8def67d158ff7315f58caf72f1824_]",
   "language": "python",
   "name": "conda-env-d1f8def67d158ff7315f58caf72f1824_-py"
  },
  "language_info": {
   "codemirror_mode": {
    "name": "ipython",
    "version": 3
   },
   "file_extension": ".py",
   "mimetype": "text/x-python",
   "name": "python",
   "nbconvert_exporter": "python",
   "pygments_lexer": "ipython3",
   "version": "3.13.0"
  }
 },
 "nbformat": 4,
 "nbformat_minor": 5
}
