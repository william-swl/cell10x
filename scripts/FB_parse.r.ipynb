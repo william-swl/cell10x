{
 "cells": [
  {
   "cell_type": "code",
   "execution_count": null,
   "id": "34a53946-09f0-49f1-be31-757f61e776e9",
   "metadata": {
    "tags": []
   },
   "outputs": [],
   "source": [
    "baizer::pkglib(Seurat, tidyverse, baizer, yaml)"
   ]
  },
  {
   "cell_type": "code",
   "execution_count": null,
   "id": "17f0b2c6-b413-4415-bb22-c64d95963de0",
   "metadata": {
    "tags": []
   },
   "outputs": [],
   "source": [
    "sample <- snakemake@wildcards[['sample']]\n",
    "\n",
    "# replace default configs with sample configs\n",
    "config <- replace_item(snakemake@config, snakemake@config[[sample]])"
   ]
  },
  {
   "cell_type": "code",
   "execution_count": null,
   "id": "5476bd4b-8d55-4b5e-8c75-e8a13742f125",
   "metadata": {
    "tags": []
   },
   "outputs": [],
   "source": [
    "Pcount <- snakemake@input[['FB_count_dir']]\n",
    "Pmtx <- str_glue('{Pcount}/filtered_feature_bc_matrix')\n",
    "Pcsv <- snakemake@output[['FB_csv']]\n",
    "Pstat <- snakemake@output[['FB_stat']]\n",
    "Pstat_dir <- snakemake@output[['stat_dir']]\n",
    "\n",
    "Nlim_HT <- config[['Nlim_HT']]\n",
    "Nratio_HT <- config[['Nratio_HT']]\n",
    "Nratio_BD <- config[['Nratio_BD']]\n",
    "Nratio_NC <- config[['Nratio_NC']]\n",
    "Lfb <- config[[sample]][['id2seq']]\n",
    "Lcorr <- config[[sample]][['FB_corr']]"
   ]
  },
  {
   "cell_type": "code",
   "execution_count": null,
   "id": "ea1a8443-6b77-414f-898e-edc35e03a630",
   "metadata": {
    "tags": []
   },
   "outputs": [],
   "source": [
    "# Seurat readin\n",
    "Mcount <- Read10X(data.dir = Pmtx)\n",
    "TBfb <- as.matrix(Mcount) %>% t %>% as.data.frame %>% r2c('cell')"
   ]
  },
  {
   "cell_type": "code",
   "execution_count": null,
   "id": "53d6b23f-d5fe-449a-9fbf-e3ff9428f9cc",
   "metadata": {},
   "outputs": [],
   "source": [
    "# fb corr\n",
    "for (fb in names(Lcorr)) {\n",
    "    fb_col <- str_subset(colnames(TBfb), str_glue('{fb}$'))\n",
    "    TBfb[[fb_col]] <- TBfb[[fb_col]] * Lcorr[[fb]]\n",
    "}"
   ]
  },
  {
   "cell_type": "code",
   "execution_count": null,
   "id": "8e3c53b0-8999-491d-8553-f3fc7c8531d2",
   "metadata": {},
   "outputs": [],
   "source": [
    "# sum\n",
    "TBfb <- bind_cols(TBfb,\n",
    "    tibble(\n",
    "    sum_HT=TBfb %>% select(matches('^HT_')) %>% rowSums,\n",
    "    sum_NC=TBfb %>% select(matches('^NC_')) %>% rowSums,\n",
    "    sum_BD=TBfb %>% select(matches('^BD_')) %>% rowSums,\n",
    "    )\n",
    ")"
   ]
  },
  {
   "cell_type": "code",
   "execution_count": null,
   "id": "8f1f5cbb-93de-44a1-bc88-d6a730aabf51",
   "metadata": {},
   "outputs": [],
   "source": [
    "# BD\n",
    "\n",
    "# BD list\n",
    "Vcol_BD <- Lfb$BD %>% names %>% str_c('BD_', .)\n",
    "Lcol_BD <- list()\n",
    "for (fb in Vcol_BD %>% str_replace('#\\\\d+$', '') %>% unique){\n",
    "    Lcol_BD[[fb]] <- (Vcol_BD %>% str_subset(fb))}\n",
    "\n",
    "\n",
    "# ratio\n",
    "for (n in names(Lcol_BD)){\n",
    "    V <- TBfb %>% select(all_of(Lcol_BD[[n]])) %>% rowSums\n",
    "    TBfb[, n] <- V\n",
    "    TBfb <- TBfb %>% mutate('{n}_ratio' := (get(n) / sum_BD) %>% round(2)) \n",
    "}\n",
    "\n",
    "# BD_type\n",
    "make_comma_col <- function(row, Vname){Vname[c(row >= Nratio_BD)] %>% str_replace('BD_', '') %>% str_c(collapse=',')}\n",
    "\n",
    "TBfb$BD_type <-  TBfb %>% select(str_c(names(Lcol_BD), '_ratio')) %>% apply(1, make_comma_col, names(Lcol_BD))"
   ]
  },
  {
   "cell_type": "code",
   "execution_count": null,
   "id": "8d04622f-7b8e-4371-919a-de1a28ea2fe9",
   "metadata": {
    "tags": []
   },
   "outputs": [],
   "source": [
    "# HT\n",
    "if (Lfb$HT %>% length > 0) {\n",
    "    TBhash_group <- TBfb %>% select(cell, starts_with('HT_'), sum_HT) %>% \n",
    "        pivot_longer(-c(cell, sum_HT), names_to=c('.value', 'HT_group'), names_sep='_') %>%\n",
    "        group_by(cell) %>% mutate(HT_ratio=round(HT/sum_HT, 2)) %>%\n",
    "        arrange(cell, desc(HT_ratio)) %>% dplyr::slice(1) %>% ungroup %>%\n",
    "        mutate(group=case_when(sum_HT < 0.0001 ~ 'no hashtag',\n",
    "                       sum_HT < Nlim_HT ~ 'low hashtag',\n",
    "                       HT_ratio > Nratio_HT ~ HT_group, \n",
    "                       TRUE ~ 'mixed')) %>%\n",
    "        select(cell, HT_group, HT_ratio) \n",
    "    TBfb <- TBfb %>% left_join(TBhash_group, by='cell')\n",
    "}"
   ]
  },
  {
   "cell_type": "code",
   "execution_count": null,
   "id": "416bce0a-e91c-4144-8eb8-dd5f2840f670",
   "metadata": {},
   "outputs": [],
   "source": [
    "# NC\n",
    "if (Lfb$NC %>% length > 0) {\n",
    "    TBfb <- TBfb %>% \n",
    "        mutate(NC_load = ifelse(sum_NC == 0, FALSE, \n",
    "                sum_NC / (sum_BD + sum_NC) > Nratio_NC\n",
    "               )\n",
    "        )\n",
    "}"
   ]
  },
  {
   "cell_type": "code",
   "execution_count": null,
   "id": "497414c5-b84a-402f-8ac6-c0efb4344c11",
   "metadata": {},
   "outputs": [],
   "source": [
    "# stat\n",
    "Lstat <- list()"
   ]
  },
  {
   "cell_type": "code",
   "execution_count": null,
   "id": "676b194e-df5b-4976-8448-1a20c2d4eca6",
   "metadata": {},
   "outputs": [],
   "source": [
    "# write\n",
    "dir.create(dirname(Pcsv), recursive = TRUE)\n",
    "write_excel_csv(TBfb, Pcsv)\n",
    "write_yaml(Lstat, file=Pstat)"
   ]
  },
  {
   "cell_type": "code",
   "execution_count": null,
   "id": "c404fad3-bf7c-44bb-aed2-e116bb456f7e",
   "metadata": {},
   "outputs": [],
   "source": [
    "dir.create(Pstat_dir, recursive = TRUE)\n",
    "file.copy(Pcsv, str_c(Pstat_dir, '/', basename(Pcsv)), overwrite=TRUE)\n",
    "file.copy(Pstat, str_c(Pstat_dir, '/', basename(Pstat)), overwrite=TRUE)"
   ]
  }
 ],
 "metadata": {
  "kernelspec": {
   "display_name": "R_ab",
   "language": "R",
   "name": "r_ab"
  },
  "language_info": {
   "codemirror_mode": "r",
   "file_extension": ".r",
   "mimetype": "text/x-r-source",
   "name": "R",
   "pygments_lexer": "r",
   "version": "4.2.3"
  }
 },
 "nbformat": 4,
 "nbformat_minor": 5
}
