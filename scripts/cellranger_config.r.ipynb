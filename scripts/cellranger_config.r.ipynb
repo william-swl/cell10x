{
 "cells": [
  {
   "cell_type": "code",
   "execution_count": null,
   "id": "750a73a2-bc71-492f-8c41-e645979385fa",
   "metadata": {
    "tags": []
   },
   "outputs": [],
   "source": [
    "R.home()"
   ]
  },
  {
   "cell_type": "code",
   "execution_count": null,
   "id": "233e3934-5165-43db-8250-e783bb57d188",
   "metadata": {},
   "outputs": [],
   "source": [
    "baizer::pkglib(tidyverse, baizer, fs)"
   ]
  },
  {
   "cell_type": "code",
   "execution_count": null,
   "id": "33dcda4e-10c3-4e97-9e76-f5bdc7549558",
   "metadata": {},
   "outputs": [],
   "source": [
    "sample <- snakemake@wildcards[['sample']]\n",
    "\n",
    "# replace default configs with sample configs\n",
    "config <- replace_item(snakemake@config, snakemake@config[[sample]])\n",
    "species <- config[['species']]\n",
    "\n",
    "gex_ref <- str_glue('{getwd()}/src/{species}-gex-ref')\n",
    "vdj_ref <- str_glue('{getwd()}/src/{species}-vdj-ref')"
   ]
  },
  {
   "cell_type": "code",
   "execution_count": null,
   "id": "7373c381-fe1f-4e73-b9ee-3af9ddfe91b3",
   "metadata": {},
   "outputs": [],
   "source": [
    "# write feature_ref.csv\n",
    "if (config[[sample]][['FB']]) {\n",
    "    id2seq <- config[[sample]][['id2seq']]\n",
    "    id2seq <- id2seq[!map_lgl(id2seq, is.null)]\n",
    "    TBfb_ref <- map2_dfr(id2seq, names(id2seq), \n",
    "                         ~list2df(.x, colnames='sequence') %>% r2c('id') %>% mutate(type=.y)) %>%\n",
    "        mutate(\n",
    "            name = str_glue('{type}_{id}'),\n",
    "            read = config[['FB_read']],\n",
    "            pattern = config[['FB_pattern']],\n",
    "            feature_type = config[['FB_type']]\n",
    "              ) %>%\n",
    "        select(id, name, read, pattern, sequence, feature_type)\n",
    "\n",
    "    TBfb_ref %>% write_excel_csv(snakemake@params[['feature_ref']])\n",
    "}"
   ]
  },
  {
   "cell_type": "code",
   "execution_count": null,
   "id": "c8be2971-6c8e-4a89-80b0-9d6c7865ff06",
   "metadata": {},
   "outputs": [],
   "source": [
    "indir <- path_abs(config[['indir']])\n",
    "outdir <- path_abs(config[['outdir']])"
   ]
  },
  {
   "cell_type": "code",
   "execution_count": null,
   "id": "12f8e619-d43c-4d38-b994-7626838d74df",
   "metadata": {},
   "outputs": [],
   "source": [
    "# write config.csv\n",
    "filepath <- snakemake@output[['cellranger_config']]\n",
    "dir.create(dirname(filepath), recursive = TRUE)\n",
    "out <- file(filepath, 'w')\n",
    "\n",
    "# reference\n",
    "if (config[[sample]][['FB']] | config[[sample]][['mRNA']]) {\n",
    "    writeLines(str_glue(\"[gene-expression]\\nreference,{gex_ref}\\nchemistry,SC5P-R2\"), out)\n",
    "    if (config[[sample]][['FB']]) {\n",
    "        writeLines(str_glue(\"[feature]\\nreference,{snakemake@params[['feature_ref']]}\"), out)\n",
    "    }\n",
    "}\n",
    "\n",
    "# vdj\n",
    "if (config[[sample]][['VDJB']] | config[[sample]][['VDJT']]) {\n",
    "    writeLines(str_glue(\"[vdj]\\nreference,{vdj_ref}\"), out)\n",
    "}\n",
    "\n",
    "# libraries\n",
    "writeLines('[libraries]\\nfastq_id,fastqs,lanes,feature_types,subsample_rate', out)\n",
    "if (config[[sample]][['mRNA']]) {\n",
    "    writeLines(str_glue(\"{sample}-mRNA,{indir}/{sample},,Gene Expression,,\"), out)\n",
    "}\n",
    "if (config[[sample]][['FB']]) {\n",
    "    writeLines(str_glue(\"{sample}-FB,{indir}/{sample},,{config[['FB_type']]},,\"), out)\n",
    "}\n",
    "if (config[[sample]][['VDJB']]) {\n",
    "    writeLines(str_glue(\"{sample}-VDJB,{indir}/{sample},,VDJ-B,,\"), out)\n",
    "}\n",
    "if (config[[sample]][['VDJT']]) {\n",
    "    writeLines(str_glue(\"{sample}-VDJT,{indir}/{sample},,VDJ-T,,\"), out)\n",
    "}\n",
    "\n",
    "close(out)"
   ]
  },
  {
   "cell_type": "code",
   "execution_count": null,
   "id": "6e27fbbd-6fa5-4c24-adff-a71fe7d9e835",
   "metadata": {},
   "outputs": [],
   "source": []
  }
 ],
 "metadata": {
  "kernelspec": {
   "name": "conda-env-c51679a71074c40e3eac3302f04e2790_-py"
  },
  "language_info": {
   "codemirror_mode": {
    "name": "ipython",
    "version": 3
   },
   "file_extension": ".py",
   "mimetype": "text/x-python",
   "name": "python",
   "nbconvert_exporter": "python",
   "pygments_lexer": "ipython3",
   "version": "3.13.0"
  }
 },
 "nbformat": 4,
 "nbformat_minor": 5
}
