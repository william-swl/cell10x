{
 "cells": [
  {
   "cell_type": "markdown",
   "id": "c1821955-4e21-4f21-b28d-71e0cf7dc81d",
   "metadata": {},
   "source": [
    "baizer::pkglib(baizer, tidyverse, jsonlite, ComplexHeatmap)"
   ]
  },
  {
   "cell_type": "markdown",
   "id": "95376c2f-51f9-40b6-91f2-fd26b18ac3c2",
   "metadata": {},
   "source": [
    "sample <- snakemake@wildcards[['sample']]\n",
    "\n",
    "# replace default configs with sample configs\n",
    "config <- replace_item(snakemake@config, snakemake@config[[sample]])"
   ]
  },
  {
   "cell_type": "markdown",
   "id": "b031d5c1-8222-4a70-81d9-a363d415e334",
   "metadata": {},
   "source": [
    "# mRNA filter\n",
    "mRNA_gene_flt <- config[['mRNA_gene_flt']]\n",
    "mRNA_umi_flt <- config[['mRNA_umi_flt']]\n",
    "mRNA_mt_percent_flt <- config[['mRNA_mt_percent_flt']]\n",
    "VDJB_umi_flt <- config[['VDJB_umi_flt']]\n",
    "VDJT_umi_flt <- config[['VDJT_umi_flt']]"
   ]
  },
  {
   "cell_type": "markdown",
   "id": "489b6ed6-474e-4948-b467-48d1a1fd4422",
   "metadata": {},
   "source": [
    "Pstat_dir <- snakemake@input[['stat_dir']]\n",
    "Pfilter_dir <- snakemake@output[['filter_dir']]\n",
    "dir.create(Pfilter_dir, recursive = TRUE)"
   ]
  },
  {
   "cell_type": "markdown",
   "id": "3c0a1fca-5cb7-423f-8741-4b53f282cbc2",
   "metadata": {},
   "source": [
    "subdirs <- dir(Pstat_dir)"
   ]
  },
  {
   "cell_type": "markdown",
   "id": "eb0f0d09-bdc7-4a6d-a1f1-9a4aaa6a67f2",
   "metadata": {},
   "source": [
    "# mRNA\n",
    "if ('mRNA' %in% subdirs) {\n",
    "    mRNA <- read_csv(str_glue('{Pstat_dir}/mRNA/mRNA.csv'))\n",
    "\n",
    "    mRNA <- mRNA %>% \n",
    "        mutate(across(c(nFeature_RNA, nCount_RNA, mt_percent), ~ifelse(is.na(.x), 0, .x))) %>%\n",
    "        mutate(\n",
    "            mRNA_gene_keep = nFeature_RNA > mRNA_gene_flt,\n",
    "            mRNA_umi_keep = nCount_RNA > mRNA_umi_flt,\n",
    "            mRNA_mt_percent_keep = mt_percent < mRNA_mt_percent_flt,\n",
    "            mRNA_keep = all(mRNA_gene_keep, mRNA_umi_keep, mRNA_mt_percent_keep)\n",
    "        )\n",
    "    write_excel_csv(mRNA %>% filter(mRNA_keep==TRUE), str_glue('{Pfilter_dir}/mRNA_flt.csv'))\n",
    "}"
   ]
  },
  {
   "cell_type": "markdown",
   "id": "1a8b8e30-c418-4da7-8a8f-926c26689336",
   "metadata": {},
   "source": [
    "# VDJB\n",
    "if ('VDJB' %in% subdirs) {\n",
    "    VDJB <- read_csv(str_glue('{Pstat_dir}/VDJB/VDJB.csv'))\n",
    "    \n",
    "    VDJB <- VDJB %>% \n",
    "        mutate(across(c(umis_H, umis_L), ~ifelse(is.na(.x), 0, .x))) %>%\n",
    "        mutate(\n",
    "            VDJB_productive_igblast_keep = productive_igblast,\n",
    "            VDJB_productive_cellranger_keep = productive_cellranger,\n",
    "            VDJB_unique_keep = unique, \n",
    "            VDJB_umi_H_keep = umis_H > VDJB_umi_flt,\n",
    "            VDJB_umi_L_keep = umis_L > VDJB_umi_flt,\n",
    "            VDJB_keep = all(VDJB_productive_igblast_keep, VDJB_productive_cellranger_keep, VDJB_unique_keep,\n",
    "                           VDJB_umi_H_keep, VDJB_umi_L_keep)\n",
    "        )\n",
    "    write_excel_csv(VDJB %>% filter(VDJB_keep==TRUE), str_glue('{Pfilter_dir}/VDJB_flt.csv'))\n",
    "}"
   ]
  },
  {
   "cell_type": "markdown",
   "id": "2d19ff6b-7a7f-4613-8164-f3f1ebe575ce",
   "metadata": {},
   "source": [
    "# VDJT\n",
    "if ('VDJT' %in% subdirs) {\n",
    "    VDJT <- read_csv(str_glue('{Pstat_dir}/VDJT/VDJT.csv'))\n",
    "    \n",
    "    VDJT <- VDJT %>% \n",
    "        mutate(across(c(umis_H, umis_L), ~ifelse(is.na(.x), 0, .x))) %>%\n",
    "        mutate(\n",
    "            VDJT_productive_cellranger_keep = productive_cellranger,\n",
    "            VDJT_unique_keep = unique, \n",
    "            VDJT_umi_H_keep = umis_H > VDJT_umi_flt,\n",
    "            VDJT_umi_L_keep = umis_L > VDJT_umi_flt,\n",
    "            VDJT_keep = all(VDJT_productive_cellranger_keep, VDJT_unique_keep,\n",
    "               VDJT_umi_H_keep, VDJT_umi_L_keep)\n",
    "        )\n",
    "    write_excel_csv(VDJT %>% filter(VDJT_keep==TRUE), str_glue('{Pfilter_dir}/VDJT_flt.csv'))\n",
    "}"
   ]
  }
 ],
 "metadata": {
  "kernelspec": {
   "display_name": "R_ab",
   "language": "R",
   "name": "r_ab"
  },
  "language_info": {
   "codemirror_mode": "r",
   "file_extension": ".r",
   "mimetype": "text/x-r-source",
   "name": "R",
   "pygments_lexer": "r",
   "version": "4.2.3"
  }
 },
 "nbformat": 4,
 "nbformat_minor": 5
}
