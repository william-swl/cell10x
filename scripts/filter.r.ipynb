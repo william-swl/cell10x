{
 "cells": [
  {
   "cell_type": "code",
   "execution_count": null,
   "id": "e08bdf7a-f986-4dc9-91ee-72744bd8001c",
   "metadata": {
    "tags": []
   },
   "outputs": [],
   "source": [
    "R.home()"
   ]
  },
  {
   "cell_type": "code",
   "execution_count": null,
   "id": "9164f4b7-1e6c-41bc-8abd-be44b7a027ea",
   "metadata": {
    "tags": []
   },
   "outputs": [],
   "source": [
    "baizer::pkglib(baizer, tidyverse, jsonlite, yaml, ComplexHeatmap)"
   ]
  },
  {
   "cell_type": "code",
   "execution_count": null,
   "id": "8ce4a078-1c1f-458e-8ce6-44a511ab8baa",
   "metadata": {
    "tags": []
   },
   "outputs": [],
   "source": [
    "sample <- snakemake@wildcards[['sample']]\n",
    "\n",
    "# replace default configs with sample configs\n",
    "config <- replace_item(snakemake@config, snakemake@config[[sample]])"
   ]
  },
  {
   "cell_type": "code",
   "execution_count": null,
   "id": "c0e07575-415c-42d5-85c0-3892b9553bdf",
   "metadata": {
    "tags": []
   },
   "outputs": [],
   "source": [
    "Lmode <- config[['flt_mode']]"
   ]
  },
  {
   "cell_type": "code",
   "execution_count": null,
   "id": "c4985d04-7006-42d2-a582-e9fb26ce9bfa",
   "metadata": {
    "tags": []
   },
   "outputs": [],
   "source": [
    "Pstat <- snakemake@output[['filter_stat']]\n",
    "Pstat_dir <- snakemake@params[['stat_dir']]\n",
    "Pfilter_dir <- snakemake@output[['filter_dir']]\n",
    "dir.create(Pfilter_dir, recursive = TRUE)"
   ]
  },
  {
   "cell_type": "code",
   "execution_count": null,
   "id": "85cb23e7-1108-41e5-8569-23b0554fac7a",
   "metadata": {
    "tags": []
   },
   "outputs": [],
   "source": [
    "subdirs <- dir(Pstat_dir)"
   ]
  },
  {
   "cell_type": "code",
   "execution_count": null,
   "id": "89caa658-049f-4d8b-b5ab-e413d6c99423",
   "metadata": {
    "tags": []
   },
   "outputs": [],
   "source": [
    "Lstat <- list()\n",
    "Lflt <- list()"
   ]
  },
  {
   "cell_type": "code",
   "execution_count": null,
   "id": "c64d9f5b-1444-4062-86d2-53338b8e1faf",
   "metadata": {
    "tags": []
   },
   "outputs": [],
   "source": [
    "# mRNA\n",
    "if ('mRNA' %in% subdirs) {\n",
    "    mRNA <- read_csv(str_glue('{Pstat_dir}/mRNA/mRNA.csv'))\n",
    "\n",
    "    mRNA <- mRNA %>% \n",
    "        mutate(across(c(nFeature_RNA, nCount_RNA, mt_percent), ~ifelse(is.na(.x), 0, .x))) %>%\n",
    "        mutate(\n",
    "            mRNA_gene_keep = nFeature_RNA > config[['mRNA_gene_flt']],\n",
    "            mRNA_umi_keep = nCount_RNA > config[['mRNA_umi_flt']],\n",
    "            mRNA_mt_percent_keep = mt_percent < config[['mRNA_mt_percent_flt']],\n",
    "            mRNA_keep = mRNA_gene_keep * mRNA_umi_keep * mRNA_mt_percent_keep\n",
    "        ) %>% mutate(across(matches('_keep$'), as.numeric))\n",
    "    mRNA_flt <- mRNA %>% filter(mRNA_keep==TRUE)\n",
    "    write_excel_csv(mRNA_flt, str_glue('{Pfilter_dir}/mRNA_flt.csv'))\n",
    "    \n",
    "    Lflt$mRNA <- mRNA\n",
    "    Lstat[['mRNA']][['raw']] <- nrow(mRNA)\n",
    "    Lstat[['mRNA']][['flt']] <- nrow(mRNA_flt)\n",
    "}"
   ]
  },
  {
   "cell_type": "code",
   "execution_count": null,
   "id": "ff1d4ebe-9526-4d71-9753-5d58da4572fb",
   "metadata": {
    "tags": []
   },
   "outputs": [],
   "source": [
    "# FB\n",
    "if ('FB' %in% subdirs) {\n",
    "    FB <- read_csv(str_glue('{Pstat_dir}/FB/FB.csv'))\n",
    "\n",
    "    FB <- FB %>%\n",
    "        mutate(\n",
    "            FB_NC_keep = NC_load == FALSE,\n",
    "            FB_umi_keep = sum_BD > config[['FB_umi_flt']],\n",
    "            FB_keep = FB_NC_keep * FB_umi_keep\n",
    "        ) %>% mutate(across(matches('_keep$'), as.numeric))\n",
    "    \n",
    "    FB_flt <- FB %>% filter(FB_keep==TRUE)\n",
    "    write_excel_csv(FB_flt, str_glue('{Pfilter_dir}/FB_flt.csv'))\n",
    "    \n",
    "    Lflt$FB <- FB\n",
    "    \n",
    "    Lstat[['FB']][['raw']] <- nrow(FB)\n",
    "    Lstat[['FB']][['flt']] <- nrow(FB_flt)\n",
    "}"
   ]
  },
  {
   "cell_type": "code",
   "execution_count": null,
   "id": "0ddabf19-afc8-49c1-82fb-ba1d73e6e738",
   "metadata": {
    "tags": []
   },
   "outputs": [],
   "source": [
    "# VDJB\n",
    "if ('VDJB' %in% subdirs) {\n",
    "    VDJB <- read_csv(str_glue('{Pstat_dir}/VDJB/VDJB.csv'))\n",
    "    \n",
    "    VDJB <- VDJB %>% \n",
    "        mutate(across(c(umis_H, umis_L), ~ifelse(is.na(.x), 0, .x))) %>%\n",
    "        mutate(\n",
    "            VDJB_productive_cellranger_keep = productive_cellranger,\n",
    "            VDJB_unique_keep = unique, \n",
    "            VDJB_umi_H_keep = umis_H > config[['VDJB_umi_flt']],\n",
    "            VDJB_umi_L_keep = umis_L > config[['VDJB_umi_flt']],\n",
    "            VDJB_keep = VDJB_productive_cellranger_keep * VDJB_unique_keep * VDJB_umi_H_keep * VDJB_umi_L_keep\n",
    "        ) %>% mutate(across(matches('_keep$'), as.numeric))\n",
    "    \n",
    "    VDJB_flt <- VDJB %>% filter(VDJB_keep==TRUE)\n",
    "    write_excel_csv(VDJB_flt, str_glue('{Pfilter_dir}/VDJB_flt.csv'))\n",
    "    \n",
    "    Lflt$VDJB <- VDJB\n",
    "    \n",
    "    Lstat[['VDJB']][['raw']] <- nrow(VDJB)\n",
    "    Lstat[['VDJB']][['flt']] <- nrow(VDJB_flt)\n",
    "}"
   ]
  },
  {
   "cell_type": "code",
   "execution_count": null,
   "id": "b58b3efc-f6e7-4bbd-be56-73a2f2bbd108",
   "metadata": {
    "tags": []
   },
   "outputs": [],
   "source": [
    "# VDJT\n",
    "if ('VDJT' %in% subdirs) {\n",
    "    VDJT <- read_csv(str_glue('{Pstat_dir}/VDJT/VDJT.csv'))\n",
    "    \n",
    "    VDJT <- VDJT %>% \n",
    "        mutate(across(c(umis_H, umis_L), ~ifelse(is.na(.x), 0, .x))) %>%\n",
    "        mutate(\n",
    "            VDJT_productive_cellranger_keep = productive_cellranger,\n",
    "            VDJT_unique_keep = unique, \n",
    "            VDJT_umi_H_keep = umis_H > config[['VDJT_umi_flt']],\n",
    "            VDJT_umi_L_keep = umis_L > config[['VDJT_umi_flt']],\n",
    "            VDJT_keep = VDJT_productive_cellranger_keep * VDJT_unique_keep * VDJT_umi_H_keep * VDJT_umi_L_keep\n",
    "        ) %>% mutate(across(matches('_keep$'), as.numeric))\n",
    "    \n",
    "    VDJT_flt <- VDJT %>% filter(VDJT_keep==TRUE)\n",
    "    write_excel_csv(VDJT_flt, str_glue('{Pfilter_dir}/VDJT_flt.csv'))\n",
    "    \n",
    "    Lflt$VDJT <- VDJT\n",
    "    \n",
    "    Lstat[['VDJT']][['raw']] <- nrow(VDJT)\n",
    "    Lstat[['VDJT']][['flt']] <- nrow(VDJT_flt)\n",
    "}"
   ]
  },
  {
   "cell_type": "code",
   "execution_count": null,
   "id": "12efbac3-4fdd-4ee3-bf77-aad4881a6e13",
   "metadata": {},
   "outputs": [],
   "source": [
    "# dedup function\n",
    "Antibody_dedup <- function(TB, dedup_mode='CDR3_HCDR12'){\n",
    "    if (dedup_mode == 'CDR'){\n",
    "        Vdist_cell <- TB %>% distinct(cdr1_aa_H, cdr2_aa_H, cdr3_aa_H, cdr1_aa_L, cdr2_aa_L, cdr3_aa_L, .keep_all=TRUE) %>% select(cell) %>% unlist\n",
    "        TBdedup <- TB %>% filter(cell %in% Vdist_cell)\n",
    "    } else if (dedup_mode == 'HCDR'){\n",
    "        Vdist_cell <- TB %>% distinct(cdr1_aa_H, cdr2_aa_H, cdr3_aa_H, .keep_all=TRUE) %>% select(cell) %>% unlist\n",
    "        TBdedup <- TB %>% filter(cell %in% Vdist_cell)\n",
    "    } else if (dedup_mode == 'CDR3'){\n",
    "        Vdist_cell <- TB %>% distinct(cdr3_aa_H, cdr3_aa_L, .keep_all=TRUE) %>% select(cell) %>% unlist\n",
    "        TBdedup <- TB %>% filter(cell %in% Vdist_cell)\n",
    "    } else if (dedup_mode == 'HCDR3'){\n",
    "        Vdist_cell <- TB %>% distinct(cdr3_aa_H, .keep_all=TRUE) %>% select(cell) %>% unlist\n",
    "        TBdedup <- TB %>% filter(cell %in% Vdist_cell)\n",
    "    } else if (dedup_mode == 'CDR3_HCDR12'){\n",
    "        Vcdr3_dis <- TB %>% distinct(cdr3_aa_H, cdr3_aa_L, .keep_all=TRUE) %>% select('cell') %>% unlist\n",
    "        Vcdr23_dis <- TB %>% distinct(cdr2_aa_H, cdr3_aa_H, cdr3_aa_L, .keep_all=TRUE) %>% select('cell') %>% unlist\n",
    "        Vcdr13_dis <- TB %>% distinct(cdr1_aa_H, cdr3_aa_H, cdr3_aa_L, .keep_all=TRUE) %>% select('cell') %>% unlist\n",
    "        Vcdr_cond <- intersect(Vcdr13_dis, Vcdr23_dis)\n",
    "        TBdedup <- TB %>% filter(cell %in% Vcdr_cond)\n",
    "    }\n",
    "    \n",
    "    return (TBdedup)\n",
    "}"
   ]
  },
  {
   "cell_type": "code",
   "execution_count": null,
   "id": "42b85b5b-6fab-4791-bee0-7900dcddc115",
   "metadata": {
    "scrolled": true,
    "tags": []
   },
   "outputs": [],
   "source": [
    "# output\n",
    "\n",
    "for (mode_name in names(Lmode)) {\n",
    "    \n",
    "    libs <- Lmode[[mode_name]]\n",
    "    mandatory_lib <- str_subset(libs, '\\\\*$') %>% str_replace('\\\\*$', '')\n",
    "    libs <- intersect(str_replace(libs, '\\\\*$', ''), subdirs)\n",
    "\n",
    "    if(any(mandatory_lib %nin% libs)) {\n",
    "        next\n",
    "    }\n",
    "    \n",
    "    if (length(libs) < 2) {\n",
    "        next\n",
    "    }\n",
    "    \n",
    "    \n",
    "    # common unflt\n",
    "    TBunflt <- Lflt[libs] %>% reduce(inner_join, by='cell')\n",
    "    Vkeep <- TBunflt %>% \n",
    "        select(str_c(libs, '_keep')) %>%\n",
    "        apply(1, all) %>%\n",
    "        unname\n",
    "    TBunflt$keep <- Vkeep\n",
    "\n",
    "    # unflt\n",
    "    TBunflt %>%\n",
    "        write_excel_csv(str_glue('{Pfilter_dir}/{mode_name}_unflt.csv'))\n",
    "\n",
    "    # keep matrix\n",
    "    TBkeep <- TBunflt %>% select(cell, matches('_keep$'))\n",
    "    TBkeep %>% write_excel_csv(str_glue('{Pfilter_dir}/{mode_name}_keep.csv'))\n",
    "\n",
    "    # flt\n",
    "    TBflt <- TBunflt %>% filter(keep==TRUE) %>% select(!matches('_keep$'))\n",
    "    TBflt %>% write_excel_csv(str_glue('{Pfilter_dir}/{mode_name}_flt.csv'))\n",
    "    \n",
    "    # dedup\n",
    "    if ('VDJB' %in% subdirs) {\n",
    "        TBflt_dedup <- Antibody_dedup(TBflt, dedup_mode='CDR3_HCDR12')\n",
    "    } else {\n",
    "        TBflt_dedup <- TBflt\n",
    "    }\n",
    "    TBflt_dedup %>% write_excel_csv(str_glue('{Pfilter_dir}/{mode_name}_dedup.csv'))\n",
    "    \n",
    "    \n",
    "    Lstat[[mode_name]][['raw']] <- nrow(TBunflt)\n",
    "    Lstat[[mode_name]][['flt']] <- nrow(TBflt)\n",
    "    Lstat[[mode_name]][['dedup']] <- nrow(TBflt_dedup)\n",
    "\n",
    "    \n",
    "    \n",
    "    # copy\n",
    "    file.copy(str_glue('{Pfilter_dir}/{mode_name}_keep.csv'),\n",
    "              str_glue('{Pstat_dir}/{mode_name}_keep.csv'))\n",
    "    file.copy(str_glue('{Pfilter_dir}/{mode_name}_flt.csv'), \n",
    "              str_glue('{Pstat_dir}/{mode_name}_flt.csv'))\n",
    "    file.copy(str_glue('{Pfilter_dir}/{mode_name}_dedup.csv'), \n",
    "              str_glue('{Pstat_dir}/{mode_name}_dedup.csv'))\n",
    "    \n",
    "}"
   ]
  },
  {
   "cell_type": "code",
   "execution_count": null,
   "id": "d741f6c6-ee90-4431-89cb-c1bc458961eb",
   "metadata": {
    "tags": []
   },
   "outputs": [],
   "source": [
    "# write\n",
    "write_yaml(Lstat, file=Pstat)\n",
    "file.copy(Pstat, str_c(Pstat_dir, '/', basename(Pstat)), overwrite=TRUE)"
   ]
  },
  {
   "cell_type": "code",
   "execution_count": null,
   "id": "cf219930-15d1-45bb-9d02-c1791e1cf252",
   "metadata": {},
   "outputs": [],
   "source": [
    "# Bcell changeo flt\n",
    "if ('VDJB' %in% subdirs) {\n",
    "    Bcell_changeo <- read_tsv(str_glue('{Pstat_dir}/VDJB/changeo_clone-pass_germ-pass.tsv'))\n",
    "    \n",
    "    Bcell_changeo %>% \n",
    "        filter(sequence_id %in% TBflt$sequence_id_H) %>%\n",
    "        write_tsv(snakemake@params[['Bcell_changeo_flt_H']])\n",
    "\n",
    "    Bcell_changeo %>% \n",
    "        filter(sequence_id %in% TBflt$sequence_id_L) %>%\n",
    "        write_tsv(snakemake@params[['Bcell_changeo_flt_L']])\n",
    "}"
   ]
  }
 ],
 "metadata": {
  "kernelspec": {
   "display_name": "R_ab",
   "language": "R",
   "name": "r_ab"
  },
  "language_info": {
   "codemirror_mode": "r",
   "file_extension": ".r",
   "mimetype": "text/x-r-source",
   "name": "R",
   "pygments_lexer": "r",
   "version": "4.2.3"
  }
 },
 "nbformat": 4,
 "nbformat_minor": 5
}
