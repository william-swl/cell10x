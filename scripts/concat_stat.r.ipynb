{
 "cells": [
  {
   "cell_type": "code",
   "execution_count": null,
   "id": "750a73a2-bc71-492f-8c41-e645979385fa",
   "metadata": {
    "tags": []
   },
   "outputs": [],
   "source": [
    "R.home()"
   ]
  },
  {
   "cell_type": "code",
   "execution_count": null,
   "id": "f1d18815-49a2-41f7-9b9a-b001d055d5c6",
   "metadata": {
    "tags": []
   },
   "outputs": [],
   "source": [
    "baizer::pkglib(baizer, tidyverse, yaml)"
   ]
  },
  {
   "cell_type": "code",
   "execution_count": null,
   "id": "0a3e4428-ad19-4c76-bef1-ade1399f9fb7",
   "metadata": {
    "tags": []
   },
   "outputs": [],
   "source": [
    "sample <- snakemake@wildcards[['sample']]\n",
    "\n",
    "# replace default configs with sample configs\n",
    "config <- replace_item(snakemake@config, snakemake@config[[sample]])"
   ]
  },
  {
   "cell_type": "code",
   "execution_count": null,
   "id": "81a9a6f4-4cc3-48dd-80cb-37de3a5ae086",
   "metadata": {
    "tags": []
   },
   "outputs": [],
   "source": [
    "Pinput <- snakemake@input$filter_input"
   ]
  },
  {
   "cell_type": "code",
   "execution_count": null,
   "id": "f51d595c-7e82-4d23-bbf9-a7e52251ad41",
   "metadata": {},
   "outputs": [],
   "source": [
    "# concat\n",
    "Ltb <- str_c(Pinput, '/', basename(Pinput), '_stat.yaml') %>%\n",
    "    map(~read_yaml(.x) %>% as_tibble)\n",
    "\n",
    "Ltb <- map2(Ltb, basename(Pinput), \n",
    "     function(x, y) {\n",
    "         rename_at(x, colnames(x), ~str_c(.x, '_', y))\n",
    "     }\n",
    ")\n",
    "\n",
    "TBstat <- reduce(Ltb, bind_cols) %>% mutate(sample=sample, .before=1)"
   ]
  },
  {
   "cell_type": "code",
   "execution_count": null,
   "id": "b587b0b5-18fe-4477-b9b0-594a0201cbc5",
   "metadata": {},
   "outputs": [],
   "source": [
    "# input cell\n",
    "TBmeta <- read_csv(snakemake@params[['metadata']])\n",
    "TBmeta_smp <- TBmeta %>% filter(sample==.env[['sample']]) \n",
    "\n",
    "Ncell <- TBmeta_smp[['input cells']]\n",
    "if (length(Ncell) == 1) {\n",
    "    TBstat <- TBstat %>% mutate(cells_input=Ncell, .after=sample)\n",
    "}"
   ]
  },
  {
   "cell_type": "code",
   "execution_count": null,
   "id": "a90eba29-b82e-443d-9c2a-a7767530b102",
   "metadata": {},
   "outputs": [],
   "source": [
    "# relocate\n",
    "TBstat <- TBstat %>% relocate(sample, contains('cells_'), contains('_VDJB'), \n",
    "                    contains('_FB'), contains('_mRNA'), contains('_VDJT'))"
   ]
  },
  {
   "cell_type": "code",
   "execution_count": null,
   "id": "c51ef9b3-d99a-4f15-9ae4-daf91f1d9ef5",
   "metadata": {},
   "outputs": [],
   "source": [
    "TBstat %>% write_excel_csv(snakemake@output[['stats']])"
   ]
  }
 ],
 "metadata": {
  "kernelspec": {
   "display_name": "R_ab",
   "language": "R",
   "name": "r_ab"
  },
  "language_info": {
   "codemirror_mode": "r",
   "file_extension": ".r",
   "mimetype": "text/x-r-source",
   "name": "R",
   "pygments_lexer": "r",
   "version": "4.2.3"
  }
 },
 "nbformat": 4,
 "nbformat_minor": 5
}
